{
 "cells": [
  {
   "cell_type": "code",
   "execution_count": 4,
   "metadata": {
    "collapsed": true
   },
   "outputs": [],
   "source": [
    "from lxml import etree\n",
    "from py2neo import Graph, Node, Relationship\n",
    "import csv\n",
    "from os import walk\n",
    "    \n",
    "    \n",
    "def parse_text(node, file_string, tx_list, active_node, csv_writer, date):\n",
    "        text_string = node.text.replace('\\t','').replace('\\n','')\n",
    "        text_id = f\"{file_string}_{str(node.sourceline)}_{str(len(text_string))}\"\n",
    "        text_node = Node(\"text\", file=file_string, id=text_id)\n",
    "        tx_list.append(text_node)\n",
    "        tx_list.append(Relationship(text_node, \"TEXT_OF\", active_node, order=node.sourceline))\n",
    "        csv_writer.writerow([text_id, text_string, date])\n",
    "\n",
    "def parse_body(current_node, current_tree, file_string, csv_writer, tx_list, date):\n",
    "    for node in current_tree:\n",
    "        if node.tag == 'enum':\n",
    "            if current_node['enum'] is not None:\n",
    "                print(f'enum > 1 @ {str(node.sourceline)}')\n",
    "            current_node['enum'] = node.text\n",
    "            continue\n",
    "        if node.tag in ('table','metadata','form','toc','toc-entry'):\n",
    "            continue\n",
    "        if node.tag == 'text' and node.text is not None and len(node.text) > 100:\n",
    "            parse_text(node, file_string, tx_list, current_node, csv_writer, date)\n",
    "        elif node.tag == 'text' or len(node.attrib) == 0:\n",
    "            parse_body(current_node, node, file_string, csv_writer, tx_list, date)\n",
    "        else:\n",
    "            new_node = Node(node.tag, **node.attrib)\n",
    "            tx_list.append(new_node)\n",
    "            new_node['file'] = file_string\n",
    "            if node.text is not None and len(node.text) > 100:\n",
    "                parse_text(node, file_string, tx_list, new_node, csv_writer, date)\n",
    "            tx_list.append(Relationship(new_node, \"CHILD_OF\", current_node, order=node.sourceline))\n",
    "            parse_body(new_node, node, file_string, csv_writer, tx_list, date)\n",
    "\n",
    "def parse_root(name_end, file, ignore_files, graph):\n",
    "    file = file.strip()\n",
    "    start = file.index('data')\n",
    "    end = file.index(name_end)\n",
    "    file_part = file[start:end].replace('/', '__')\n",
    "    if file_part not in ignore_files:\n",
    "        tx = []\n",
    "        tree = etree.parse(file)\n",
    "        root = tree.getroot()\n",
    "        try:\n",
    "            date = tree.xpath('//action[1]/action-date[1]/@date')[0]\n",
    "        except IndexError:\n",
    "            return\n",
    "        date = date[:4]+'-'+date[4:6]+'-'+date[6:]\n",
    "        root_node = Node(root.tag, **root.attrib)\n",
    "        root_node['file'] = file_part\n",
    "        root_node['action_date'] = date\n",
    "        tx.append(root_node)\n",
    "        with open(f'/home/harry/PycharmProjects/congress/docs/{file_part}', 'w') as csv_file:\n",
    "            parse_body(root_node, root, file_part, csv.writer(csv_file, delimiter='\\t'), tx, date)\n",
    "        transaction = graph.begin()\n",
    "        for trans in tx:\n",
    "            transaction.create(trans)\n",
    "        transaction.commit()"
   ]
  },
  {
   "cell_type": "code",
   "execution_count": 2,
   "outputs": [],
   "source": [
    "parse_root('/text-versions'\n",
    "           ,'/home/harry/PycharmProjects/congress/data/115/bills/s/s1/text-versions/pcs/BILLS-115s1pcs.xml'\n",
    "           , []\n",
    "           , Graph(user=\"neo4j\", password=\"W8ih9^ql#38^mD$r2\"))"
   ],
   "metadata": {
    "collapsed": false,
    "pycharm": {
     "name": "#%%\n"
    }
   }
  },
  {
   "cell_type": "code",
   "execution_count": 5,
   "outputs": [],
   "source": [
    "_, _, filenames = next(walk('/home/harry/PycharmProjects/congress/docs/'))\n",
    "g = Graph(user=\"neo4j\", password=\"W8ih9^ql#38^mD$r2\")\n",
    "\n",
    "with open('/home/harry/PycharmProjects/congress/data/115/xml_todo.txt') as xml_todos:\n",
    "    for file_name in xml_todos:\n",
    "        parse_root('/text-versions', file_name, filenames, g)"
   ],
   "metadata": {
    "collapsed": false,
    "pycharm": {
     "name": "#%%\n"
    }
   }
  },
  {
   "cell_type": "code",
   "execution_count": 23,
   "outputs": [],
   "source": [
    "_, _, filenames = next(walk('/home/harry/PycharmProjects/congress/docs/'))\n",
    "g = Graph(user=\"neo4j\", password=\"W8ih9^ql#38^mD$r2\")\n",
    "\n",
    "with open('/home/harry/PycharmProjects/congress/data/usc/xml_todo.txt') as xml_todos:\n",
    "    count = 0\n",
    "    for file_name in xml_todos:\n",
    "        count += 1\n",
    "        if count > 15:\n",
    "            break\n",
    "        parse_root('.xml', file_name, filenames, g)"
   ],
   "metadata": {
    "collapsed": false,
    "pycharm": {
     "name": "#%%\n"
    }
   }
  },
  {
   "cell_type": "code",
   "execution_count": 2,
   "outputs": [],
   "source": [
    "graph = Graph(user=\"neo4j\", password=\"W8ih9^ql#38^mD$r2\")\n",
    "transaction = graph.begin()\n",
    "\n",
    "\n"
   ],
   "metadata": {
    "collapsed": false,
    "pycharm": {
     "name": "#%%\n"
    }
   }
  }
 ],
 "metadata": {
  "kernelspec": {
   "display_name": "Python 3",
   "language": "python",
   "name": "python3"
  },
  "language_info": {
   "codemirror_mode": {
    "name": "ipython",
    "version": 2
   },
   "file_extension": ".py",
   "mimetype": "text/x-python",
   "name": "python",
   "nbconvert_exporter": "python",
   "pygments_lexer": "ipython2",
   "version": "2.7.6"
  }
 },
 "nbformat": 4,
 "nbformat_minor": 0
}