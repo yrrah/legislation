{
 "cells": [
  {
   "cell_type": "code",
   "execution_count": 63,
   "metadata": {
    "collapsed": true
   },
   "outputs": [],
   "source": [
    "import sys\n",
    "from collections import OrderedDict\n",
    "\n",
    "import numpy as np\n",
    "from gensim.test.test_doc2vec import ConcatenatedDoc2Vec\n",
    "from gensim.models.doc2vec import TaggedDocument, Doc2Vec\n",
    "from gensim.similarities import Similarity\n",
    "from gensim.utils import simple_preprocess\n",
    "from gensim.test.utils import get_tmpfile\n",
    "from sklearn.cluster import KMeans\n",
    "from sklearn.decomposition import PCA\n",
    "from tqdm.notebook import tqdm\n",
    "import csv\n",
    "from os import walk\n",
    "import logging\n",
    "import lexnlp.nlp.en.tokens\n",
    "from gensim.models import TfidfModel\n",
    "from gensim import corpora\n",
    "import ray\n",
    "import time"
   ]
  },
  {
   "cell_type": "code",
   "execution_count": 2,
   "outputs": [],
   "source": [
    "def progress_filter(record: logging.LogRecord) -> int:\n",
    "    if 'PROGRESS' in record.msg:\n",
    "        return 0\n",
    "    else:\n",
    "        return 1\n",
    "\n",
    "logger = logging.getLogger()\n",
    "handler = logging.StreamHandler(stream=sys.stdout)\n",
    "handler.addFilter(progress_filter)\n",
    "logger.addHandler(handler)\n",
    "logger.setLevel(logging.INFO)\n",
    "logging.basicConfig(format='%(asctime)s : %(levelname)s : %(message)s')"
   ],
   "metadata": {
    "collapsed": false,
    "pycharm": {
     "name": "#%%\n"
    }
   }
  },
  {
   "cell_type": "code",
   "execution_count": 3,
   "outputs": [],
   "source": [
    "# simple_preprocess(doc, deacc=False, min_len=2, max_len=15):\n",
    "# \"\"\"Convert a document into a list of lowercase tokens, ignoring tokens that are too short or too long.\n",
    "\n",
    "class MyCorpus:\n",
    "    def __iter__(self):\n",
    "        _, _, filenames = next(walk('/home/harry/PycharmProjects/congress/docs/'))\n",
    "        for filename in tqdm(filenames):\n",
    "            with open('/home/harry/PycharmProjects/congress/docs/'+filename, 'r') as bill:\n",
    "                bill_reader = csv.reader(bill, delimiter='\\t')\n",
    "                for line in bill_reader:\n",
    "                    yield TaggedDocument(simple_preprocess(line[1]), [line[0]])"
   ],
   "metadata": {
    "collapsed": false,
    "pycharm": {
     "name": "#%%\n"
    }
   }
  },
  {
   "cell_type": "code",
   "execution_count": 3,
   "outputs": [],
   "source": [
    "class LexCorpus:\n",
    "    def __iter__(self):\n",
    "        _, _, filenames = next(walk('/home/harry/PycharmProjects/congress/docs/'))\n",
    "        for filename in tqdm(filenames):\n",
    "            with open('/home/harry/PycharmProjects/congress/docs/'+filename, 'r') as bill:\n",
    "                bill_reader = csv.reader(bill, delimiter='\\t')\n",
    "                for line in bill_reader:\n",
    "                    yield TaggedDocument(lexnlp.nlp.en.tokens.get_token_list(line[1], lowercase=True, stopword=True), [line[0]])"
   ],
   "metadata": {
    "collapsed": false,
    "pycharm": {
     "name": "#%%\n"
    }
   }
  },
  {
   "cell_type": "code",
   "execution_count": 29,
   "outputs": [],
   "source": [
    "class LexTexts:\n",
    "    def __iter__(self):\n",
    "        _, _, filenames = next(walk('/home/harry/PycharmProjects/congress/docs/'))\n",
    "        for filename in tqdm(filenames):\n",
    "            with open('/home/harry/PycharmProjects/congress/docs/'+filename, 'r') as bill:\n",
    "                bill_reader = csv.reader(bill, delimiter='\\t')\n",
    "                for line in bill_reader:\n",
    "                    yield lexnlp.nlp.en.tokens.get_token_list(line[1], lowercase=True, stopword=True)"
   ],
   "metadata": {
    "collapsed": false,
    "pycharm": {
     "name": "#%%\n"
    }
   }
  },
  {
   "cell_type": "code",
   "execution_count": 54,
   "outputs": [
    {
     "data": {
      "text/plain": "  0%|          | 0/13357 [00:00<?, ?it/s]",
      "application/vnd.jupyter.widget-view+json": {
       "version_major": 2,
       "version_minor": 0,
       "model_id": "7e7c4a79a5804317bdf27fc41284d80c"
      }
     },
     "metadata": {},
     "output_type": "display_data"
    }
   ],
   "source": [
    "class LexIndex:\n",
    "    def __iter__(self):\n",
    "        _, _, filenames = next(walk('/home/harry/PycharmProjects/congress/docs/'))\n",
    "        for filename in tqdm(filenames):\n",
    "            with open('/home/harry/PycharmProjects/congress/docs/'+filename, 'r') as bill:\n",
    "                bill_reader = csv.reader(bill, delimiter='\\t')\n",
    "                for line in bill_reader:\n",
    "                    yield line[0]\n",
    "docids = [docid for docid in LexIndex()]"
   ],
   "metadata": {
    "collapsed": false,
    "pycharm": {
     "name": "#%%\n"
    }
   }
  },
  {
   "cell_type": "code",
   "execution_count": 40,
   "outputs": [],
   "source": [
    "class LexBowCorpus:\n",
    "    def __init__(self):\n",
    "        self.lex_dict = None\n",
    "\n",
    "    def __iter__(self):\n",
    "        _, _, filenames = next(walk('/home/harry/PycharmProjects/congress/docs/'))\n",
    "        for filename in tqdm(filenames):\n",
    "            with open('/home/harry/PycharmProjects/congress/docs/'+filename, 'r') as bill:\n",
    "                bill_reader = csv.reader(bill, delimiter='\\t')\n",
    "                for line in bill_reader:\n",
    "                    yield self.lex_dict.doc2bow(lexnlp.nlp.en.tokens.get_token_list(line[1], lowercase=True, stopword=True))\n",
    "\n",
    "    def __call__(self, lex_dict):\n",
    "        self.lex_dict = lex_dict\n",
    "        if self.lex_dict is None:\n",
    "            self.lex_dict = corpora.Dictionary(LexTexts())\n",
    "        return self"
   ],
   "metadata": {
    "collapsed": false,
    "pycharm": {
     "name": "#%%\n"
    }
   }
  },
  {
   "cell_type": "code",
   "execution_count": 4,
   "outputs": [
    {
     "data": {
      "text/plain": "  0%|          | 0/13357 [00:00<?, ?it/s]",
      "application/vnd.jupyter.widget-view+json": {
       "version_major": 2,
       "version_minor": 0,
       "model_id": "2f677cc11d0144b7a6bf633ed2d4a416"
      }
     },
     "metadata": {},
     "output_type": "display_data"
    },
    {
     "name": "stdout",
     "output_type": "stream",
     "text": [
      "TaggedDocument(['whereas', 'nineveh', 'plain', 'wider', 'region', 'ancestral', 'homeland', 'assyrian', 'chaldean', 'syriac', 'christians', ',', 'yazidis', ',', 'shabak', ',', 'others', ',', 'lived', 'centuries', 'islamic', 'state', 'iraq', 'syria', '(', 'isis', ')', 'overran', 'occupied', 'much', 'region', '2014', ';'], ['data__115__bills__hres__hres1117_20_277'])\n",
      "TaggedDocument(['whereas', 'christians', 'iraq', 'numbered', '1.5', 'million', '2003', 'dwindled', 'less', '200,000', 'today', ';'], ['data__115__bills__hres__hres1117_21_111'])\n",
      "TaggedDocument(['whereas', 'united', 'states', 'president', ',', 'vice', 'president', ',', 'congress', ',', 'secretary', 'state', 'recognized', 'isis', 'committed', 'genocide', ',', 'war', 'crimes', ',', 'crimes', 'humanity', ',', 'crimes', 'christians', ',', 'yazidis', ',', 'religious', 'ethnic', 'minorities', ';'], ['data__115__bills__hres__hres1117_22_261'])\n",
      "TaggedDocument(['whereas', 'atrocities', 'undertaken', 'specific', 'intent', 'bring', 'eradication', 'displacement', 'christians', ',', 'yazidis', ',', 'communities', 'destruction', 'cultural', 'heritage', 'violation', 'united', 'nations', 'convention', 'prevention', 'punishment', 'crime', 'genocide', ';'], ['data__115__bills__hres__hres1117_23_311'])\n",
      "TaggedDocument(['whereas', 'consistent', 'commitments', 'republic', 'iraq', ',', 'kurdish', 'regional', 'government', ',', 'united', 'states', ',', 'international', 'community', 'guarantee', 'restoration', 'fundamental', 'human', 'rights', ',', 'including', 'property', 'rights', ',', 'genocide', 'victims', ',', 'see', 'ethnic', 'religious', 'pluralism', 'survives', 'iraq', ';'], ['data__115__bills__hres__hres1117_24_325'])\n",
      "TaggedDocument(['whereas', 'facilitating', 'success', 'communities', 'ensuring', 'flourish', 'require', 'appropriate', 'local', 'security', 'plan', ':', ',', 'therefore', ','], ['data__115__bills__hres__hres1117_26_155'])\n",
      "TaggedDocument(['policy', 'priority', 'united', 'states', 'support', 'secure', 'return', 'displaced', 'indigenous', 'people', 'nineveh', 'plain', 'sinjar', 'ancestral', 'homeland', ',', 'working', 'international', 'partners', ',', 'government', 'iraq', ',', 'kurdistan', 'regional', 'government', ';'], ['data__115__bills__hres__hres1117_28_272'])\n",
      "TaggedDocument(['united', 'states', 'department', 'defense', ',', 'national', 'security', 'council', ',', 'department', 'state', ',', 'relevant', 'government', 'entities', 'swiftly', 'develop', 'coordinated', 'implementable', 'plan', 'stabilization', 'security', 'mission', ',', 'cooperation', 'government', 'iraq', 'kurdish', 'regional', 'government', ',', 'train', 'indigenous', 'police', 'units', 'regularized', 'military', 'structures', 'include', 'christian', 'yazidi', 'local', 'security', 'forces', 'emphasis', 'nineveh', 'plain', 'sinjar', ';'], ['data__115__bills__hres__hres1117_29_492'])\n",
      "TaggedDocument(['secretary', 'state', ',', 'secretary', '’', 'designee', ',', 'actively', 'participate', 'development', 'strategy', '.'], ['data__115__bills__hres__hres1117_30_117'])\n",
      "TaggedDocument(['extent', 'agency', 'makes', 'decision', 'based', 'science', 'issuing', 'rule', 'section', ',', 'agency', 'shall', 'use', 'scientific', 'information', ',', 'technical', 'procedures', ',', 'measures', ',', 'methods', ',', 'protocols', ',', 'methodologies', ',', 'models', ',', 'employed', 'manner', 'consistent', 'best', 'available', 'science', ',', 'shall', 'consider', 'applicable—'], ['data__115__bills__s__s578_31_324'])\n"
     ]
    }
   ],
   "source": [
    "# print first few from the corpus\n",
    "test_corpus = LexCorpus()\n",
    "count = 0\n",
    "for vector in test_corpus:\n",
    "    count += 1\n",
    "    if count>10:\n",
    "        break\n",
    "    print(vector)"
   ],
   "metadata": {
    "collapsed": false,
    "pycharm": {
     "name": "#%%\n"
    }
   }
  },
  {
   "cell_type": "code",
   "execution_count": 30,
   "outputs": [
    {
     "data": {
      "text/plain": "  0%|          | 0/13357 [00:00<?, ?it/s]",
      "application/vnd.jupyter.widget-view+json": {
       "version_major": 2,
       "version_minor": 0,
       "model_id": "9fedb37e959f4d798d93ce4ae81f78a6"
      }
     },
     "metadata": {},
     "output_type": "display_data"
    },
    {
     "name": "stdout",
     "output_type": "stream",
     "text": [
      "adding document #0 to Dictionary(0 unique tokens: [])\n",
      "adding document #10000 to Dictionary(12438 unique tokens: ['(', ')', ',', '2014', ';']...)\n",
      "adding document #20000 to Dictionary(17480 unique tokens: ['(', ')', ',', '2014', ';']...)\n",
      "adding document #30000 to Dictionary(21564 unique tokens: ['(', ')', ',', '2014', ';']...)\n",
      "adding document #40000 to Dictionary(24950 unique tokens: ['(', ')', ',', '2014', ';']...)\n",
      "adding document #50000 to Dictionary(27370 unique tokens: ['(', ')', ',', '2014', ';']...)\n",
      "adding document #60000 to Dictionary(28993 unique tokens: ['(', ')', ',', '2014', ';']...)\n",
      "adding document #70000 to Dictionary(31301 unique tokens: ['(', ')', ',', '2014', ';']...)\n",
      "adding document #80000 to Dictionary(32859 unique tokens: ['(', ')', ',', '2014', ';']...)\n",
      "adding document #90000 to Dictionary(34797 unique tokens: ['(', ')', ',', '2014', ';']...)\n",
      "adding document #100000 to Dictionary(36507 unique tokens: ['(', ')', ',', '2014', ';']...)\n",
      "adding document #110000 to Dictionary(38002 unique tokens: ['(', ')', ',', '2014', ';']...)\n",
      "adding document #120000 to Dictionary(39393 unique tokens: ['(', ')', ',', '2014', ';']...)\n",
      "adding document #130000 to Dictionary(41054 unique tokens: ['(', ')', ',', '2014', ';']...)\n",
      "adding document #140000 to Dictionary(42201 unique tokens: ['(', ')', ',', '2014', ';']...)\n",
      "adding document #150000 to Dictionary(43515 unique tokens: ['(', ')', ',', '2014', ';']...)\n",
      "adding document #160000 to Dictionary(44926 unique tokens: ['(', ')', ',', '2014', ';']...)\n",
      "adding document #170000 to Dictionary(46038 unique tokens: ['(', ')', ',', '2014', ';']...)\n",
      "adding document #180000 to Dictionary(47066 unique tokens: ['(', ')', ',', '2014', ';']...)\n",
      "adding document #190000 to Dictionary(47925 unique tokens: ['(', ')', ',', '2014', ';']...)\n",
      "adding document #200000 to Dictionary(48911 unique tokens: ['(', ')', ',', '2014', ';']...)\n",
      "adding document #210000 to Dictionary(50016 unique tokens: ['(', ')', ',', '2014', ';']...)\n",
      "adding document #220000 to Dictionary(51038 unique tokens: ['(', ')', ',', '2014', ';']...)\n",
      "adding document #230000 to Dictionary(51926 unique tokens: ['(', ')', ',', '2014', ';']...)\n",
      "adding document #240000 to Dictionary(52839 unique tokens: ['(', ')', ',', '2014', ';']...)\n",
      "adding document #250000 to Dictionary(53543 unique tokens: ['(', ')', ',', '2014', ';']...)\n",
      "adding document #260000 to Dictionary(54601 unique tokens: ['(', ')', ',', '2014', ';']...)\n",
      "adding document #270000 to Dictionary(55307 unique tokens: ['(', ')', ',', '2014', ';']...)\n",
      "adding document #280000 to Dictionary(55809 unique tokens: ['(', ')', ',', '2014', ';']...)\n",
      "adding document #290000 to Dictionary(56388 unique tokens: ['(', ')', ',', '2014', ';']...)\n",
      "adding document #300000 to Dictionary(57090 unique tokens: ['(', ')', ',', '2014', ';']...)\n",
      "adding document #310000 to Dictionary(57690 unique tokens: ['(', ')', ',', '2014', ';']...)\n",
      "adding document #320000 to Dictionary(58532 unique tokens: ['(', ')', ',', '2014', ';']...)\n",
      "adding document #330000 to Dictionary(58946 unique tokens: ['(', ')', ',', '2014', ';']...)\n",
      "adding document #340000 to Dictionary(59510 unique tokens: ['(', ')', ',', '2014', ';']...)\n",
      "adding document #350000 to Dictionary(60148 unique tokens: ['(', ')', ',', '2014', ';']...)\n",
      "built Dictionary(60700 unique tokens: ['(', ')', ',', '2014', ';']...) from 359010 documents (total 8678364 corpus positions)\n"
     ]
    }
   ],
   "source": [
    "# print first few from the corpus\n",
    "dictionary = corpora.Dictionary(LexTexts())\n",
    "corpus = LexBowCorpus()\n",
    "count = 0\n",
    "for x in iter(corpus(dictionary)):\n",
    "    print(x)\n",
    "    count += 1\n",
    "    if count > 5:\n",
    "        break"
   ],
   "metadata": {
    "collapsed": false,
    "pycharm": {
     "name": "#%%\n"
    }
   }
  },
  {
   "cell_type": "code",
   "execution_count": 46,
   "outputs": [
    {
     "name": "stdout",
     "output_type": "stream",
     "text": [
      "collecting document frequencies\n"
     ]
    },
    {
     "data": {
      "text/plain": "  0%|          | 0/13357 [00:00<?, ?it/s]",
      "application/vnd.jupyter.widget-view+json": {
       "version_major": 2,
       "version_minor": 0,
       "model_id": "1bd761077da4479a8f182083707d5aba"
      }
     },
     "metadata": {},
     "output_type": "display_data"
    },
    {
     "name": "stdout",
     "output_type": "stream",
     "text": [
      "calculating IDF weights for 359010 documents and 60700 features (7118541 matrix non-zeros)\n"
     ]
    }
   ],
   "source": [
    "from gensim import models\n",
    "corpus = LexBowCorpus()\n",
    "tfidf = models.TfidfModel(corpus(dictionary))"
   ],
   "metadata": {
    "collapsed": false,
    "pycharm": {
     "name": "#%%\n"
    }
   }
  },
  {
   "cell_type": "code",
   "execution_count": 47,
   "outputs": [],
   "source": [
    "pivot_tfidf = models.TfidfModel(dictionary=dictionary, smartirs='nfu')"
   ],
   "metadata": {
    "collapsed": false,
    "pycharm": {
     "name": "#%%\n"
    }
   }
  },
  {
   "cell_type": "code",
   "execution_count": 52,
   "outputs": [
    {
     "name": "stdout",
     "output_type": "stream",
     "text": [
      "starting similarity index under tfidf_index\n"
     ]
    },
    {
     "data": {
      "text/plain": "  0%|          | 0/13357 [00:00<?, ?it/s]",
      "application/vnd.jupyter.widget-view+json": {
       "version_major": 2,
       "version_minor": 0,
       "model_id": "e00cfa07ffc9426fa7fe4d97881e104d"
      }
     },
     "metadata": {},
     "output_type": "display_data"
    },
    {
     "name": "stdout",
     "output_type": "stream",
     "text": [
      "creating sparse index\n",
      "creating sparse matrix from corpus\n",
      "created <32768x60700 sparse matrix of type '<class 'numpy.float32'>'\n",
      "\twith 652577 stored elements in Compressed Sparse Row format>\n",
      "creating sparse shard #0\n",
      "saving index shard to tfidf_index.0\n",
      "saving SparseMatrixSimilarity object under tfidf_index.0, separately None\n",
      "saved tfidf_index.0\n",
      "loading SparseMatrixSimilarity object from tfidf_index.0\n",
      "loaded tfidf_index.0\n",
      "creating sparse index\n",
      "creating sparse matrix from corpus\n",
      "created <32768x60700 sparse matrix of type '<class 'numpy.float32'>'\n",
      "\twith 650190 stored elements in Compressed Sparse Row format>\n",
      "creating sparse shard #1\n",
      "saving index shard to tfidf_index.1\n",
      "saving SparseMatrixSimilarity object under tfidf_index.1, separately None\n",
      "saved tfidf_index.1\n",
      "loading SparseMatrixSimilarity object from tfidf_index.1\n",
      "loaded tfidf_index.1\n",
      "creating sparse index\n",
      "creating sparse matrix from corpus\n",
      "created <32768x60700 sparse matrix of type '<class 'numpy.float32'>'\n",
      "\twith 653005 stored elements in Compressed Sparse Row format>\n",
      "creating sparse shard #2\n",
      "saving index shard to tfidf_index.2\n",
      "saving SparseMatrixSimilarity object under tfidf_index.2, separately None\n",
      "saved tfidf_index.2\n",
      "loading SparseMatrixSimilarity object from tfidf_index.2\n",
      "loaded tfidf_index.2\n",
      "creating sparse index\n",
      "creating sparse matrix from corpus\n",
      "created <32768x60700 sparse matrix of type '<class 'numpy.float32'>'\n",
      "\twith 640438 stored elements in Compressed Sparse Row format>\n",
      "creating sparse shard #3\n",
      "saving index shard to tfidf_index.3\n",
      "saving SparseMatrixSimilarity object under tfidf_index.3, separately None\n",
      "saved tfidf_index.3\n",
      "loading SparseMatrixSimilarity object from tfidf_index.3\n",
      "loaded tfidf_index.3\n",
      "creating sparse index\n",
      "creating sparse matrix from corpus\n",
      "created <32768x60700 sparse matrix of type '<class 'numpy.float32'>'\n",
      "\twith 652636 stored elements in Compressed Sparse Row format>\n",
      "creating sparse shard #4\n",
      "saving index shard to tfidf_index.4\n",
      "saving SparseMatrixSimilarity object under tfidf_index.4, separately None\n",
      "saved tfidf_index.4\n",
      "loading SparseMatrixSimilarity object from tfidf_index.4\n",
      "loaded tfidf_index.4\n",
      "creating sparse index\n",
      "creating sparse matrix from corpus\n",
      "created <32768x60700 sparse matrix of type '<class 'numpy.float32'>'\n",
      "\twith 651109 stored elements in Compressed Sparse Row format>\n",
      "creating sparse shard #5\n",
      "saving index shard to tfidf_index.5\n",
      "saving SparseMatrixSimilarity object under tfidf_index.5, separately None\n",
      "saved tfidf_index.5\n",
      "loading SparseMatrixSimilarity object from tfidf_index.5\n",
      "loaded tfidf_index.5\n",
      "creating sparse index\n",
      "creating sparse matrix from corpus\n",
      "created <32768x60700 sparse matrix of type '<class 'numpy.float32'>'\n",
      "\twith 658902 stored elements in Compressed Sparse Row format>\n",
      "creating sparse shard #6\n",
      "saving index shard to tfidf_index.6\n",
      "saving SparseMatrixSimilarity object under tfidf_index.6, separately None\n",
      "saved tfidf_index.6\n",
      "loading SparseMatrixSimilarity object from tfidf_index.6\n",
      "loaded tfidf_index.6\n",
      "creating sparse index\n",
      "creating sparse matrix from corpus\n",
      "created <32768x60700 sparse matrix of type '<class 'numpy.float32'>'\n",
      "\twith 647630 stored elements in Compressed Sparse Row format>\n",
      "creating sparse shard #7\n",
      "saving index shard to tfidf_index.7\n",
      "saving SparseMatrixSimilarity object under tfidf_index.7, separately None\n",
      "saved tfidf_index.7\n",
      "loading SparseMatrixSimilarity object from tfidf_index.7\n",
      "loaded tfidf_index.7\n",
      "creating sparse index\n",
      "creating sparse matrix from corpus\n",
      "created <32768x60700 sparse matrix of type '<class 'numpy.float32'>'\n",
      "\twith 646454 stored elements in Compressed Sparse Row format>\n",
      "creating sparse shard #8\n",
      "saving index shard to tfidf_index.8\n",
      "saving SparseMatrixSimilarity object under tfidf_index.8, separately None\n",
      "saved tfidf_index.8\n",
      "loading SparseMatrixSimilarity object from tfidf_index.8\n",
      "loaded tfidf_index.8\n",
      "creating sparse index\n",
      "creating sparse matrix from corpus\n",
      "created <32768x60700 sparse matrix of type '<class 'numpy.float32'>'\n",
      "\twith 647871 stored elements in Compressed Sparse Row format>\n",
      "creating sparse shard #9\n",
      "saving index shard to tfidf_index.9\n",
      "saving SparseMatrixSimilarity object under tfidf_index.9, separately None\n",
      "saved tfidf_index.9\n",
      "loading SparseMatrixSimilarity object from tfidf_index.9\n",
      "loaded tfidf_index.9\n",
      "creating sparse index\n",
      "creating sparse matrix from corpus\n",
      "created <31330x60700 sparse matrix of type '<class 'numpy.float32'>'\n",
      "\twith 617729 stored elements in Compressed Sparse Row format>\n",
      "creating sparse shard #10\n",
      "saving index shard to tfidf_index.10\n",
      "saving SparseMatrixSimilarity object under tfidf_index.10, separately None\n",
      "saved tfidf_index.10\n",
      "loading SparseMatrixSimilarity object from tfidf_index.10\n",
      "loaded tfidf_index.10\n",
      "saving Similarity object under tfidf_index, separately None\n",
      "saved tfidf_index\n",
      "loading Similarity object from tfidf_index\n",
      "loaded tfidf_index\n"
     ]
    }
   ],
   "source": [
    "from gensim import similarities\n",
    "index = similarities.Similarity('tfidf_index', tfidf[corpus(dictionary)], num_features=len(dictionary))\n",
    "index.save('tfidf_index')"
   ],
   "metadata": {
    "collapsed": false,
    "pycharm": {
     "name": "#%%\n"
    }
   }
  },
  {
   "cell_type": "code",
   "execution_count": null,
   "outputs": [],
   "source": [
    "index = similarities.Similarity.load('tfidf_index')"
   ],
   "metadata": {
    "collapsed": false,
    "pycharm": {
     "name": "#%%\n"
    }
   }
  },
  {
   "cell_type": "code",
   "execution_count": 112,
   "outputs": [
    {
     "name": "stdout",
     "output_type": "stream",
     "text": [
      "starting similarity index under tfidf_index_pivot\n"
     ]
    },
    {
     "data": {
      "text/plain": "  0%|          | 0/13357 [00:00<?, ?it/s]",
      "application/vnd.jupyter.widget-view+json": {
       "version_major": 2,
       "version_minor": 0,
       "model_id": "6d835d1dc08343f6867256b7072a3296"
      }
     },
     "metadata": {},
     "output_type": "display_data"
    },
    {
     "name": "stdout",
     "output_type": "stream",
     "text": [
      "creating sparse index\n",
      "creating sparse matrix from corpus\n",
      "created <32768x60700 sparse matrix of type '<class 'numpy.float32'>'\n",
      "\twith 652577 stored elements in Compressed Sparse Row format>\n",
      "creating sparse shard #0\n",
      "saving index shard to tfidf_index_pivot.0\n",
      "saving SparseMatrixSimilarity object under tfidf_index_pivot.0, separately None\n",
      "saved tfidf_index_pivot.0\n",
      "loading SparseMatrixSimilarity object from tfidf_index_pivot.0\n",
      "loaded tfidf_index_pivot.0\n",
      "creating sparse index\n",
      "creating sparse matrix from corpus\n",
      "created <32768x60700 sparse matrix of type '<class 'numpy.float32'>'\n",
      "\twith 650190 stored elements in Compressed Sparse Row format>\n",
      "creating sparse shard #1\n",
      "saving index shard to tfidf_index_pivot.1\n",
      "saving SparseMatrixSimilarity object under tfidf_index_pivot.1, separately None\n",
      "saved tfidf_index_pivot.1\n",
      "loading SparseMatrixSimilarity object from tfidf_index_pivot.1\n",
      "loaded tfidf_index_pivot.1\n",
      "creating sparse index\n",
      "creating sparse matrix from corpus\n",
      "created <32768x60700 sparse matrix of type '<class 'numpy.float32'>'\n",
      "\twith 653005 stored elements in Compressed Sparse Row format>\n",
      "creating sparse shard #2\n",
      "saving index shard to tfidf_index_pivot.2\n",
      "saving SparseMatrixSimilarity object under tfidf_index_pivot.2, separately None\n",
      "saved tfidf_index_pivot.2\n",
      "loading SparseMatrixSimilarity object from tfidf_index_pivot.2\n",
      "loaded tfidf_index_pivot.2\n",
      "creating sparse index\n",
      "creating sparse matrix from corpus\n",
      "created <32768x60700 sparse matrix of type '<class 'numpy.float32'>'\n",
      "\twith 640438 stored elements in Compressed Sparse Row format>\n",
      "creating sparse shard #3\n",
      "saving index shard to tfidf_index_pivot.3\n",
      "saving SparseMatrixSimilarity object under tfidf_index_pivot.3, separately None\n",
      "saved tfidf_index_pivot.3\n",
      "loading SparseMatrixSimilarity object from tfidf_index_pivot.3\n",
      "loaded tfidf_index_pivot.3\n",
      "creating sparse index\n",
      "creating sparse matrix from corpus\n",
      "created <32768x60700 sparse matrix of type '<class 'numpy.float32'>'\n",
      "\twith 652636 stored elements in Compressed Sparse Row format>\n",
      "creating sparse shard #4\n",
      "saving index shard to tfidf_index_pivot.4\n",
      "saving SparseMatrixSimilarity object under tfidf_index_pivot.4, separately None\n",
      "saved tfidf_index_pivot.4\n",
      "loading SparseMatrixSimilarity object from tfidf_index_pivot.4\n",
      "loaded tfidf_index_pivot.4\n",
      "creating sparse index\n",
      "creating sparse matrix from corpus\n",
      "created <32768x60700 sparse matrix of type '<class 'numpy.float32'>'\n",
      "\twith 651109 stored elements in Compressed Sparse Row format>\n",
      "creating sparse shard #5\n",
      "saving index shard to tfidf_index_pivot.5\n",
      "saving SparseMatrixSimilarity object under tfidf_index_pivot.5, separately None\n",
      "saved tfidf_index_pivot.5\n",
      "loading SparseMatrixSimilarity object from tfidf_index_pivot.5\n",
      "loaded tfidf_index_pivot.5\n",
      "creating sparse index\n",
      "creating sparse matrix from corpus\n",
      "created <32768x60700 sparse matrix of type '<class 'numpy.float32'>'\n",
      "\twith 658902 stored elements in Compressed Sparse Row format>\n",
      "creating sparse shard #6\n",
      "saving index shard to tfidf_index_pivot.6\n",
      "saving SparseMatrixSimilarity object under tfidf_index_pivot.6, separately None\n",
      "saved tfidf_index_pivot.6\n",
      "loading SparseMatrixSimilarity object from tfidf_index_pivot.6\n",
      "loaded tfidf_index_pivot.6\n",
      "creating sparse index\n",
      "creating sparse matrix from corpus\n",
      "created <32768x60700 sparse matrix of type '<class 'numpy.float32'>'\n",
      "\twith 647630 stored elements in Compressed Sparse Row format>\n",
      "creating sparse shard #7\n",
      "saving index shard to tfidf_index_pivot.7\n",
      "saving SparseMatrixSimilarity object under tfidf_index_pivot.7, separately None\n",
      "saved tfidf_index_pivot.7\n",
      "loading SparseMatrixSimilarity object from tfidf_index_pivot.7\n",
      "loaded tfidf_index_pivot.7\n",
      "creating sparse index\n",
      "creating sparse matrix from corpus\n",
      "created <32768x60700 sparse matrix of type '<class 'numpy.float32'>'\n",
      "\twith 646454 stored elements in Compressed Sparse Row format>\n",
      "creating sparse shard #8\n",
      "saving index shard to tfidf_index_pivot.8\n",
      "saving SparseMatrixSimilarity object under tfidf_index_pivot.8, separately None\n",
      "saved tfidf_index_pivot.8\n",
      "loading SparseMatrixSimilarity object from tfidf_index_pivot.8\n",
      "loaded tfidf_index_pivot.8\n",
      "creating sparse index\n",
      "creating sparse matrix from corpus\n",
      "created <32768x60700 sparse matrix of type '<class 'numpy.float32'>'\n",
      "\twith 647871 stored elements in Compressed Sparse Row format>\n",
      "creating sparse shard #9\n",
      "saving index shard to tfidf_index_pivot.9\n",
      "saving SparseMatrixSimilarity object under tfidf_index_pivot.9, separately None\n",
      "saved tfidf_index_pivot.9\n",
      "loading SparseMatrixSimilarity object from tfidf_index_pivot.9\n",
      "loaded tfidf_index_pivot.9\n",
      "creating sparse index\n",
      "creating sparse matrix from corpus\n",
      "created <31330x60700 sparse matrix of type '<class 'numpy.float32'>'\n",
      "\twith 617729 stored elements in Compressed Sparse Row format>\n",
      "creating sparse shard #10\n",
      "saving index shard to tfidf_index_pivot.10\n",
      "saving SparseMatrixSimilarity object under tfidf_index_pivot.10, separately None\n",
      "saved tfidf_index_pivot.10\n",
      "loading SparseMatrixSimilarity object from tfidf_index_pivot.10\n",
      "loaded tfidf_index_pivot.10\n",
      "saving Similarity object under tfidf_index_pivot, separately None\n",
      "saved tfidf_index_pivot\n"
     ]
    }
   ],
   "source": [
    "index = similarities.Similarity('tfidf_index_pivot', pivot_tfidf[corpus(dictionary)], num_features=len(dictionary))\n",
    "index.save('tfidf_index_pivot')"
   ],
   "metadata": {
    "collapsed": false,
    "pycharm": {
     "name": "#%%\n"
    }
   }
  },
  {
   "cell_type": "code",
   "execution_count": null,
   "outputs": [],
   "source": [
    "index = similarities.Similarity.load('tfidf_index_pivot')"
   ],
   "metadata": {
    "collapsed": false,
    "pycharm": {
     "name": "#%%\n"
    }
   }
  },
  {
   "cell_type": "code",
   "execution_count": 53,
   "outputs": [
    {
     "name": "stdout",
     "output_type": "stream",
     "text": [
      "using serial LSI version on this node\n",
      "updating model with new documents\n"
     ]
    },
    {
     "data": {
      "text/plain": "  0%|          | 0/13357 [00:00<?, ?it/s]",
      "application/vnd.jupyter.widget-view+json": {
       "version_major": 2,
       "version_minor": 0,
       "model_id": "341c1071c0094cae99a6f6666f2921f4"
      }
     },
     "metadata": {},
     "output_type": "display_data"
    },
    {
     "name": "stdout",
     "output_type": "stream",
     "text": [
      "preparing a new chunk of documents\n",
      "using 100 extra samples and 2 power iterations\n",
      "1st phase: constructing (60700, 400) action matrix\n",
      "orthonormalizing (60700, 400) action matrix\n",
      "2nd phase: running dense svd on (400, 20000) matrix\n",
      "computing the final decomposition\n",
      "keeping 300 factors (discarding 3.931% of energy spectrum)\n",
      "processed documents up to #20000\n",
      "topic #0(472.651): 0.856*\",\" + 0.311*\"(\" + 0.301*\")\" + 0.117*\".\" + 0.110*\"shall\" + 0.085*\"section\" + 0.060*\"secretary\" + 0.051*\";\" + 0.049*\"act\" + 0.045*\"subsection\"\n",
      "topic #1(285.536): 0.613*\"(\" + 0.599*\")\" + -0.467*\",\" + 0.096*\"section\" + 0.072*\"b\" + 0.070*\"1\" + 0.063*\"subsection\" + 0.059*\"paragraph\" + 0.049*\"2\" + 0.043*\"described\"\n",
      "topic #2(122.393): -0.578*\"shall\" + -0.494*\".\" + -0.263*\"secretary\" + -0.176*\"section\" + 0.172*\",\" + -0.161*\"act\" + -0.157*\"date\" + 0.135*\")\" + 0.123*\"(\" + -0.115*\"year\"\n",
      "topic #3(89.307): -0.531*\"united\" + -0.530*\"states\" + -0.406*\"section\" + -0.303*\";\" + 0.174*\"secretary\" + 0.167*\"shall\" + -0.156*\"act\" + -0.126*\"title\" + -0.096*\"code\" + -0.075*\"whereas\"\n",
      "topic #4(83.361): -0.654*\"section\" + -0.399*\"act\" + 0.329*\"united\" + 0.329*\"states\" + 0.223*\".\" + 0.122*\"paragraph\" + -0.107*\"date\" + 0.106*\"subsection\" + 0.103*\")\" + -0.102*\"enactment\"\n",
      "preparing a new chunk of documents\n",
      "using 100 extra samples and 2 power iterations\n",
      "1st phase: constructing (60700, 400) action matrix\n",
      "orthonormalizing (60700, 400) action matrix\n",
      "2nd phase: running dense svd on (400, 20000) matrix\n",
      "computing the final decomposition\n",
      "keeping 300 factors (discarding 3.809% of energy spectrum)\n",
      "merging projections: (60700, 300) + (60700, 300)\n",
      "keeping 300 factors (discarding 2.791% of energy spectrum)\n",
      "processed documents up to #40000\n",
      "topic #0(668.487): 0.868*\",\" + 0.296*\"(\" + 0.285*\")\" + 0.115*\".\" + 0.108*\"shall\" + 0.078*\"section\" + 0.059*\"secretary\" + 0.053*\";\" + 0.049*\"act\" + 0.044*\"subsection\"\n",
      "topic #1(402.708): 0.622*\"(\" + 0.605*\")\" + -0.446*\",\" + 0.101*\"section\" + 0.073*\"b\" + 0.068*\"1\" + 0.067*\"subsection\" + 0.060*\"paragraph\" + 0.050*\"2\" + 0.045*\"described\"\n",
      "topic #2(175.257): -0.591*\"shall\" + -0.472*\".\" + -0.265*\"secretary\" + 0.169*\",\" + -0.168*\"act\" + -0.166*\"section\" + -0.148*\"date\" + 0.137*\")\" + 0.126*\"(\" + 0.112*\";\"\n",
      "topic #3(131.060): 0.615*\"states\" + 0.605*\"united\" + 0.275*\";\" + 0.207*\"section\" + -0.173*\"shall\" + -0.133*\"secretary\" + 0.100*\"title\" + 0.094*\"act\" + 0.082*\"code\" + -0.077*\",\"\n",
      "topic #4(116.525): 0.644*\"section\" + 0.522*\"act\" + -0.223*\".\" + -0.206*\"states\" + -0.201*\"united\" + 0.151*\"date\" + 0.131*\"enactment\" + -0.122*\")\" + -0.117*\"shall\" + -0.117*\"paragraph\"\n",
      "preparing a new chunk of documents\n",
      "using 100 extra samples and 2 power iterations\n",
      "1st phase: constructing (60700, 400) action matrix\n",
      "orthonormalizing (60700, 400) action matrix\n",
      "2nd phase: running dense svd on (400, 20000) matrix\n",
      "computing the final decomposition\n",
      "keeping 300 factors (discarding 3.691% of energy spectrum)\n",
      "merging projections: (60700, 300) + (60700, 300)\n",
      "keeping 300 factors (discarding 1.974% of energy spectrum)\n",
      "processed documents up to #60000\n",
      "topic #0(826.281): 0.870*\",\" + 0.293*\"(\" + 0.282*\")\" + 0.114*\".\" + 0.108*\"shall\" + 0.077*\"section\" + 0.058*\"secretary\" + 0.056*\";\" + 0.051*\"act\" + 0.044*\"subsection\"\n",
      "topic #1(495.634): 0.625*\"(\" + 0.607*\")\" + -0.441*\",\" + 0.096*\"section\" + 0.071*\"b\" + 0.069*\"subsection\" + 0.067*\"1\" + 0.059*\"paragraph\" + 0.049*\"2\" + 0.048*\"described\"\n",
      "topic #2(215.685): -0.598*\"shall\" + -0.464*\".\" + -0.262*\"secretary\" + -0.174*\"act\" + 0.170*\",\" + -0.163*\"section\" + -0.145*\"date\" + 0.134*\")\" + 0.125*\";\" + 0.123*\"(\"\n",
      "topic #3(158.274): 0.573*\"states\" + 0.561*\"united\" + 0.298*\"section\" + 0.292*\";\" + -0.189*\"shall\" + 0.158*\"act\" + 0.130*\"title\" + -0.115*\"secretary\" + 0.101*\"code\" + -0.083*\"committee\"\n",
      "topic #4(143.538): 0.571*\"act\" + 0.545*\"section\" + -0.247*\"states\" + -0.237*\"united\" + -0.234*\".\" + 0.162*\"date\" + 0.141*\"enactment\" + -0.136*\";\" + -0.115*\"subsection\" + -0.114*\"paragraph\"\n",
      "preparing a new chunk of documents\n",
      "using 100 extra samples and 2 power iterations\n",
      "1st phase: constructing (60700, 400) action matrix\n",
      "orthonormalizing (60700, 400) action matrix\n",
      "2nd phase: running dense svd on (400, 20000) matrix\n",
      "computing the final decomposition\n",
      "keeping 300 factors (discarding 3.843% of energy spectrum)\n",
      "merging projections: (60700, 300) + (60700, 300)\n",
      "keeping 300 factors (discarding 1.546% of energy spectrum)\n",
      "processed documents up to #80000\n",
      "topic #0(954.219): 0.865*\",\" + 0.300*\"(\" + 0.289*\")\" + 0.113*\".\" + 0.109*\"shall\" + 0.077*\"section\" + 0.058*\"secretary\" + 0.054*\";\" + 0.049*\"act\" + 0.045*\"subsection\"\n",
      "topic #1(573.688): 0.622*\"(\" + 0.605*\")\" + -0.450*\",\" + 0.092*\"section\" + 0.071*\"b\" + 0.069*\"subsection\" + 0.066*\"1\" + 0.058*\"paragraph\" + 0.048*\"2\" + 0.047*\"described\"\n",
      "topic #2(249.376): -0.595*\"shall\" + -0.466*\".\" + -0.265*\"secretary\" + -0.175*\"section\" + 0.172*\",\" + -0.166*\"act\" + -0.146*\"date\" + 0.133*\")\" + 0.122*\"(\" + 0.115*\";\"\n",
      "topic #3(182.964): 0.577*\"states\" + 0.572*\"united\" + 0.302*\"section\" + 0.279*\";\" + -0.188*\"shall\" + 0.140*\"act\" + 0.135*\"title\" + -0.117*\"secretary\" + 0.105*\"code\" + -0.077*\",\"\n",
      "topic #4(165.099): 0.593*\"section\" + 0.530*\"act\" + -0.244*\"states\" + -0.238*\"united\" + -0.217*\".\" + 0.150*\"date\" + -0.147*\";\" + 0.132*\"enactment\" + -0.121*\"subsection\" + -0.114*\"paragraph\"\n",
      "preparing a new chunk of documents\n",
      "using 100 extra samples and 2 power iterations\n",
      "1st phase: constructing (60700, 400) action matrix\n",
      "orthonormalizing (60700, 400) action matrix\n",
      "2nd phase: running dense svd on (400, 20000) matrix\n",
      "computing the final decomposition\n",
      "keeping 300 factors (discarding 3.941% of energy spectrum)\n",
      "merging projections: (60700, 300) + (60700, 300)\n",
      "keeping 300 factors (discarding 1.388% of energy spectrum)\n",
      "processed documents up to #100000\n",
      "topic #0(1064.229): 0.873*\",\" + 0.290*\"(\" + 0.279*\")\" + 0.113*\".\" + 0.110*\"shall\" + 0.076*\"section\" + 0.057*\"secretary\" + 0.054*\";\" + 0.046*\"act\" + 0.045*\"subsection\"\n",
      "topic #1(635.543): 0.625*\"(\" + 0.608*\")\" + -0.438*\",\" + 0.095*\"section\" + 0.073*\"subsection\" + 0.072*\"b\" + 0.067*\"1\" + 0.060*\"paragraph\" + 0.049*\"2\" + 0.049*\"described\"\n",
      "topic #2(279.640): -0.594*\"shall\" + -0.474*\".\" + -0.264*\"secretary\" + -0.175*\"section\" + 0.168*\",\" + -0.158*\"act\" + -0.144*\"date\" + 0.138*\")\" + 0.129*\"(\" + 0.112*\";\"\n",
      "topic #3(205.714): 0.586*\"states\" + 0.584*\"united\" + 0.298*\"section\" + 0.261*\";\" + -0.195*\"shall\" + 0.139*\"title\" + 0.112*\"act\" + -0.111*\"secretary\" + 0.110*\"code\" + -0.073*\",\"\n",
      "topic #4(183.772): 0.637*\"section\" + 0.492*\"act\" + -0.235*\"states\" + -0.232*\"united\" + -0.214*\".\" + 0.149*\"date\" + -0.135*\";\" + 0.127*\"enactment\" + -0.120*\"subsection\" + -0.118*\"paragraph\"\n",
      "preparing a new chunk of documents\n",
      "using 100 extra samples and 2 power iterations\n",
      "1st phase: constructing (60700, 400) action matrix\n",
      "orthonormalizing (60700, 400) action matrix\n",
      "2nd phase: running dense svd on (400, 20000) matrix\n",
      "computing the final decomposition\n",
      "keeping 300 factors (discarding 3.766% of energy spectrum)\n",
      "merging projections: (60700, 300) + (60700, 300)\n",
      "keeping 300 factors (discarding 1.087% of energy spectrum)\n",
      "processed documents up to #120000\n",
      "topic #0(1167.491): 0.872*\",\" + 0.291*\"(\" + 0.281*\")\" + 0.114*\".\" + 0.110*\"shall\" + 0.077*\"section\" + 0.057*\"secretary\" + 0.057*\";\" + 0.045*\"act\" + 0.045*\"subsection\"\n",
      "topic #1(701.397): 0.624*\"(\" + 0.607*\")\" + -0.440*\",\" + 0.097*\"section\" + 0.074*\"b\" + 0.072*\"subsection\" + 0.066*\"1\" + 0.059*\"paragraph\" + 0.048*\"described\" + 0.048*\"2\"\n",
      "topic #2(307.912): -0.592*\"shall\" + -0.475*\".\" + -0.268*\"secretary\" + -0.177*\"section\" + 0.164*\",\" + -0.155*\"act\" + -0.144*\"date\" + 0.139*\")\" + 0.131*\";\" + 0.130*\"(\"\n",
      "topic #3(224.961): 0.583*\"states\" + 0.579*\"united\" + 0.302*\";\" + 0.296*\"section\" + -0.176*\"shall\" + 0.134*\"title\" + -0.114*\"secretary\" + 0.106*\"code\" + 0.105*\"act\" + -0.077*\",\"\n",
      "topic #4(200.630): 0.662*\"section\" + 0.445*\"act\" + -0.260*\";\" + -0.206*\"states\" + -0.203*\"united\" + -0.160*\".\" + -0.145*\"shall\" + 0.127*\"date\" + -0.125*\"paragraph\" + -0.119*\"subsection\"\n",
      "preparing a new chunk of documents\n",
      "using 100 extra samples and 2 power iterations\n",
      "1st phase: constructing (60700, 400) action matrix\n",
      "orthonormalizing (60700, 400) action matrix\n",
      "2nd phase: running dense svd on (400, 20000) matrix\n",
      "computing the final decomposition\n",
      "keeping 300 factors (discarding 3.679% of energy spectrum)\n",
      "merging projections: (60700, 300) + (60700, 300)\n",
      "keeping 300 factors (discarding 0.935% of energy spectrum)\n",
      "processed documents up to #140000\n",
      "topic #0(1262.485): 0.880*\",\" + 0.280*\"(\" + 0.269*\")\" + 0.112*\".\" + 0.108*\"shall\" + 0.075*\"section\" + 0.057*\"secretary\" + 0.056*\";\" + 0.044*\"subsection\" + 0.044*\"act\"\n",
      "topic #1(754.717): 0.629*\"(\" + 0.611*\")\" + -0.425*\",\" + 0.100*\"section\" + 0.075*\"b\" + 0.073*\"subsection\" + 0.067*\"1\" + 0.060*\"paragraph\" + 0.051*\"shall\" + 0.049*\"described\"\n",
      "topic #2(331.543): -0.587*\"shall\" + -0.478*\".\" + -0.276*\"secretary\" + -0.178*\"section\" + 0.161*\",\" + -0.151*\"act\" + 0.142*\")\" + -0.140*\"date\" + 0.133*\"(\" + 0.124*\";\"\n",
      "topic #3(241.825): 0.584*\"states\" + 0.579*\"united\" + 0.318*\";\" + 0.284*\"section\" + -0.175*\"shall\" + 0.130*\"title\" + -0.114*\"secretary\" + 0.104*\"code\" + 0.101*\"act\" + 0.077*\"whereas\"\n",
      "topic #4(215.272): 0.667*\"section\" + 0.440*\"act\" + -0.276*\";\" + -0.184*\"states\" + -0.179*\"united\" + -0.168*\".\" + -0.129*\"paragraph\" + 0.128*\"date\" + -0.123*\"shall\" + -0.120*\"subsection\"\n",
      "preparing a new chunk of documents\n",
      "using 100 extra samples and 2 power iterations\n",
      "1st phase: constructing (60700, 400) action matrix\n",
      "orthonormalizing (60700, 400) action matrix\n",
      "2nd phase: running dense svd on (400, 20000) matrix\n",
      "computing the final decomposition\n",
      "keeping 300 factors (discarding 3.832% of energy spectrum)\n",
      "merging projections: (60700, 300) + (60700, 300)\n",
      "keeping 300 factors (discarding 0.850% of energy spectrum)\n",
      "processed documents up to #160000\n",
      "topic #0(1349.953): 0.877*\",\" + 0.285*\"(\" + 0.274*\")\" + 0.113*\".\" + 0.108*\"shall\" + 0.076*\"section\" + 0.058*\"secretary\" + 0.057*\";\" + 0.045*\"act\" + 0.044*\"subsection\"\n",
      "topic #1(812.508): 0.628*\"(\" + 0.609*\")\" + -0.431*\",\" + 0.099*\"section\" + 0.075*\"b\" + 0.072*\"subsection\" + 0.066*\"1\" + 0.058*\"paragraph\" + 0.050*\"described\" + 0.048*\"2\"\n",
      "topic #2(355.013): -0.585*\"shall\" + -0.478*\".\" + -0.281*\"secretary\" + -0.181*\"section\" + 0.164*\",\" + -0.155*\"act\" + -0.141*\"date\" + 0.141*\")\" + 0.131*\"(\" + 0.122*\";\"\n",
      "topic #3(256.961): 0.571*\"states\" + 0.564*\"united\" + 0.327*\";\" + 0.309*\"section\" + -0.174*\"shall\" + 0.137*\"title\" + -0.124*\"secretary\" + 0.119*\"act\" + 0.108*\"code\" + -0.076*\",\"\n",
      "topic #4(230.829): 0.640*\"section\" + 0.456*\"act\" + -0.273*\";\" + -0.205*\"states\" + -0.199*\"united\" + -0.188*\".\" + 0.136*\"date\" + -0.128*\"paragraph\" + -0.124*\"subsection\" + -0.121*\"secretary\"\n",
      "preparing a new chunk of documents\n",
      "using 100 extra samples and 2 power iterations\n",
      "1st phase: constructing (60700, 400) action matrix\n",
      "orthonormalizing (60700, 400) action matrix\n",
      "2nd phase: running dense svd on (400, 20000) matrix\n",
      "computing the final decomposition\n",
      "keeping 300 factors (discarding 3.909% of energy spectrum)\n",
      "merging projections: (60700, 300) + (60700, 300)\n",
      "keeping 300 factors (discarding 0.753% of energy spectrum)\n",
      "processed documents up to #180000\n",
      "topic #0(1428.971): 0.879*\",\" + 0.281*\"(\" + 0.270*\")\" + 0.112*\".\" + 0.107*\"shall\" + 0.075*\"section\" + 0.059*\"secretary\" + 0.058*\";\" + 0.044*\"act\" + 0.044*\"subsection\"\n",
      "topic #1(855.980): 0.629*\"(\" + 0.610*\")\" + -0.426*\",\" + 0.097*\"section\" + 0.076*\"b\" + 0.073*\"subsection\" + 0.066*\"1\" + 0.060*\"paragraph\" + 0.050*\"described\" + 0.049*\"shall\"\n",
      "topic #2(375.931): -0.583*\"shall\" + -0.476*\".\" + -0.290*\"secretary\" + -0.182*\"section\" + 0.163*\",\" + -0.153*\"act\" + 0.141*\")\" + -0.140*\"date\" + 0.132*\"(\" + 0.126*\";\"\n",
      "topic #3(273.618): 0.579*\"states\" + 0.574*\"united\" + 0.330*\";\" + 0.286*\"section\" + -0.168*\"shall\" + 0.133*\"title\" + -0.121*\"secretary\" + 0.107*\"act\" + 0.105*\"code\" + -0.079*\",\"\n",
      "topic #4(244.356): 0.646*\"section\" + 0.454*\"act\" + -0.287*\";\" + -0.181*\"states\" + -0.176*\"united\" + -0.167*\".\" + -0.148*\"secretary\" + 0.133*\"date\" + -0.130*\"paragraph\" + -0.122*\"subsection\"\n",
      "preparing a new chunk of documents\n",
      "using 100 extra samples and 2 power iterations\n",
      "1st phase: constructing (60700, 400) action matrix\n",
      "orthonormalizing (60700, 400) action matrix\n",
      "2nd phase: running dense svd on (400, 20000) matrix\n",
      "computing the final decomposition\n",
      "keeping 300 factors (discarding 3.821% of energy spectrum)\n",
      "merging projections: (60700, 300) + (60700, 300)\n",
      "keeping 300 factors (discarding 0.650% of energy spectrum)\n",
      "processed documents up to #200000\n",
      "topic #0(1507.849): 0.879*\",\" + 0.281*\"(\" + 0.270*\")\" + 0.112*\".\" + 0.107*\"shall\" + 0.075*\"section\" + 0.059*\"secretary\" + 0.059*\";\" + 0.044*\"act\" + 0.044*\"subsection\"\n",
      "topic #1(905.013): 0.630*\"(\" + 0.611*\")\" + -0.425*\",\" + 0.098*\"section\" + 0.076*\"b\" + 0.073*\"subsection\" + 0.066*\"1\" + 0.059*\"paragraph\" + 0.050*\"described\" + 0.049*\"shall\"\n",
      "topic #2(396.865): -0.582*\"shall\" + -0.476*\".\" + -0.291*\"secretary\" + -0.184*\"section\" + 0.163*\",\" + -0.151*\"act\" + 0.141*\")\" + -0.138*\"date\" + 0.132*\"(\" + 0.128*\";\"\n",
      "topic #3(287.418): 0.569*\"states\" + 0.561*\"united\" + 0.342*\";\" + 0.306*\"section\" + -0.167*\"shall\" + 0.138*\"title\" + -0.125*\"secretary\" + 0.115*\"act\" + 0.109*\"code\" + -0.081*\",\"\n",
      "topic #4(257.669): 0.618*\"section\" + 0.430*\"act\" + -0.388*\";\" + -0.177*\"secretary\" + -0.156*\"states\" + -0.149*\"united\" + -0.141*\".\" + 0.124*\"date\" + -0.123*\"paragraph\" + -0.120*\"subsection\"\n",
      "preparing a new chunk of documents\n",
      "using 100 extra samples and 2 power iterations\n",
      "1st phase: constructing (60700, 400) action matrix\n",
      "orthonormalizing (60700, 400) action matrix\n",
      "2nd phase: running dense svd on (400, 20000) matrix\n",
      "computing the final decomposition\n",
      "keeping 300 factors (discarding 3.811% of energy spectrum)\n",
      "merging projections: (60700, 300) + (60700, 300)\n",
      "keeping 300 factors (discarding 0.640% of energy spectrum)\n",
      "processed documents up to #220000\n",
      "topic #0(1586.571): 0.881*\",\" + 0.277*\"(\" + 0.266*\")\" + 0.112*\".\" + 0.107*\"shall\" + 0.075*\"section\" + 0.060*\";\" + 0.057*\"secretary\" + 0.045*\"act\" + 0.043*\"subsection\"\n",
      "topic #1(946.857): 0.631*\"(\" + 0.612*\")\" + -0.420*\",\" + 0.098*\"section\" + 0.076*\"b\" + 0.074*\"subsection\" + 0.067*\"1\" + 0.059*\"paragraph\" + 0.051*\"shall\" + 0.050*\"described\"\n",
      "topic #2(416.323): -0.584*\"shall\" + -0.473*\".\" + -0.282*\"secretary\" + -0.183*\"section\" + 0.162*\",\" + -0.156*\"act\" + 0.142*\")\" + -0.138*\"date\" + 0.133*\"(\" + 0.129*\";\"\n",
      "topic #3(304.154): 0.570*\"states\" + 0.562*\"united\" + 0.341*\";\" + 0.299*\"section\" + -0.170*\"shall\" + 0.141*\"title\" + 0.115*\"act\" + -0.112*\"secretary\" + 0.111*\"code\" + -0.083*\",\"\n",
      "topic #4(271.942): -0.561*\";\" + 0.553*\"section\" + 0.370*\"act\" + -0.183*\"secretary\" + -0.159*\"shall\" + -0.111*\"paragraph\" + -0.105*\"subsection\" + -0.101*\"state\" + 0.094*\"title\" + 0.091*\"date\"\n",
      "preparing a new chunk of documents\n",
      "using 100 extra samples and 2 power iterations\n",
      "1st phase: constructing (60700, 400) action matrix\n",
      "orthonormalizing (60700, 400) action matrix\n",
      "2nd phase: running dense svd on (400, 20000) matrix\n",
      "computing the final decomposition\n",
      "keeping 300 factors (discarding 4.029% of energy spectrum)\n",
      "merging projections: (60700, 300) + (60700, 300)\n",
      "keeping 300 factors (discarding 0.568% of energy spectrum)\n",
      "processed documents up to #240000\n",
      "topic #0(1651.645): 0.881*\",\" + 0.276*\"(\" + 0.265*\")\" + 0.112*\".\" + 0.108*\"shall\" + 0.075*\"section\" + 0.060*\";\" + 0.058*\"secretary\" + 0.045*\"act\" + 0.043*\"subsection\"\n",
      "topic #1(986.011): 0.631*\"(\" + 0.612*\")\" + -0.420*\",\" + 0.099*\"section\" + 0.076*\"b\" + 0.075*\"subsection\" + 0.067*\"1\" + 0.060*\"paragraph\" + 0.051*\"shall\" + 0.051*\"described\"\n",
      "topic #2(433.829): -0.585*\"shall\" + -0.473*\".\" + -0.285*\"secretary\" + -0.181*\"section\" + 0.162*\",\" + -0.155*\"act\" + 0.142*\")\" + -0.140*\"date\" + 0.134*\"(\" + 0.133*\";\"\n",
      "topic #3(316.892): 0.571*\"states\" + 0.562*\"united\" + 0.339*\";\" + 0.305*\"section\" + -0.165*\"shall\" + 0.142*\"title\" + 0.116*\"act\" + -0.114*\"secretary\" + 0.113*\"code\" + -0.084*\",\"\n",
      "topic #4(283.869): 0.564*\"section\" + -0.528*\";\" + 0.390*\"act\" + -0.184*\"secretary\" + -0.150*\"shall\" + -0.113*\"paragraph\" + -0.110*\"subsection\" + -0.102*\"state\" + 0.101*\"date\" + -0.099*\"states\"\n",
      "preparing a new chunk of documents\n",
      "using 100 extra samples and 2 power iterations\n",
      "1st phase: constructing (60700, 400) action matrix\n",
      "orthonormalizing (60700, 400) action matrix\n",
      "2nd phase: running dense svd on (400, 20000) matrix\n",
      "computing the final decomposition\n",
      "keeping 300 factors (discarding 3.907% of energy spectrum)\n",
      "merging projections: (60700, 300) + (60700, 300)\n",
      "keeping 300 factors (discarding 0.477% of energy spectrum)\n",
      "processed documents up to #260000\n",
      "topic #0(1719.059): 0.883*\",\" + 0.273*\"(\" + 0.262*\")\" + 0.113*\".\" + 0.108*\"shall\" + 0.075*\"section\" + 0.060*\";\" + 0.058*\"secretary\" + 0.045*\"act\" + 0.043*\"subsection\"\n",
      "topic #1(1022.421): 0.632*\"(\" + 0.613*\")\" + -0.416*\",\" + 0.100*\"section\" + 0.076*\"b\" + 0.075*\"subsection\" + 0.067*\"1\" + 0.060*\"paragraph\" + 0.052*\"shall\" + 0.051*\"described\"\n",
      "topic #2(451.023): -0.586*\"shall\" + -0.472*\".\" + -0.284*\"secretary\" + -0.179*\"section\" + 0.162*\",\" + -0.156*\"act\" + 0.143*\")\" + -0.142*\"date\" + 0.134*\"(\" + 0.132*\";\"\n",
      "topic #3(330.473): 0.580*\"states\" + 0.571*\"united\" + 0.330*\";\" + 0.291*\"section\" + -0.161*\"shall\" + 0.140*\"title\" + 0.113*\"code\" + -0.112*\"secretary\" + 0.103*\"act\" + -0.084*\",\"\n",
      "topic #4(294.871): 0.592*\"section\" + -0.455*\";\" + 0.419*\"act\" + -0.187*\"secretary\" + -0.138*\"shall\" + -0.120*\"states\" + -0.119*\"paragraph\" + 0.118*\"date\" + -0.118*\"subsection\" + -0.113*\"united\"\n",
      "preparing a new chunk of documents\n",
      "using 100 extra samples and 2 power iterations\n",
      "1st phase: constructing (60700, 400) action matrix\n",
      "orthonormalizing (60700, 400) action matrix\n",
      "2nd phase: running dense svd on (400, 20000) matrix\n",
      "computing the final decomposition\n",
      "keeping 300 factors (discarding 3.812% of energy spectrum)\n",
      "merging projections: (60700, 300) + (60700, 300)\n",
      "keeping 300 factors (discarding 0.473% of energy spectrum)\n",
      "processed documents up to #280000\n",
      "topic #0(1781.695): 0.882*\",\" + 0.276*\"(\" + 0.265*\")\" + 0.113*\".\" + 0.108*\"shall\" + 0.075*\"section\" + 0.060*\";\" + 0.058*\"secretary\" + 0.045*\"act\" + 0.044*\"subsection\"\n",
      "topic #1(1062.426): 0.631*\"(\" + 0.612*\")\" + -0.419*\",\" + 0.098*\"section\" + 0.076*\"b\" + 0.075*\"subsection\" + 0.066*\"1\" + 0.059*\"paragraph\" + 0.051*\"described\" + 0.051*\"shall\"\n",
      "topic #2(467.782): -0.585*\"shall\" + -0.471*\".\" + -0.287*\"secretary\" + -0.177*\"section\" + 0.162*\",\" + -0.155*\"act\" + -0.143*\"date\" + 0.142*\")\" + 0.133*\"(\" + 0.133*\";\"\n",
      "topic #3(342.303): 0.582*\"states\" + 0.573*\"united\" + 0.319*\";\" + 0.294*\"section\" + -0.162*\"shall\" + 0.142*\"title\" + -0.114*\"secretary\" + 0.114*\"code\" + 0.105*\"act\" + -0.083*\",\"\n",
      "topic #4(305.585): 0.590*\"section\" + -0.441*\";\" + 0.426*\"act\" + -0.187*\"secretary\" + -0.129*\"states\" + 0.127*\"date\" + -0.126*\"shall\" + -0.122*\"united\" + -0.119*\"paragraph\" + -0.118*\"subsection\"\n",
      "preparing a new chunk of documents\n",
      "using 100 extra samples and 2 power iterations\n",
      "1st phase: constructing (60700, 400) action matrix\n",
      "orthonormalizing (60700, 400) action matrix\n",
      "2nd phase: running dense svd on (400, 20000) matrix\n",
      "computing the final decomposition\n",
      "keeping 300 factors (discarding 3.804% of energy spectrum)\n",
      "merging projections: (60700, 300) + (60700, 300)\n",
      "keeping 300 factors (discarding 0.469% of energy spectrum)\n",
      "processed documents up to #300000\n",
      "topic #0(1845.080): 0.880*\",\" + 0.279*\"(\" + 0.267*\")\" + 0.113*\".\" + 0.108*\"shall\" + 0.076*\"section\" + 0.059*\";\" + 0.058*\"secretary\" + 0.045*\"act\" + 0.044*\"subsection\"\n",
      "topic #1(1102.732): 0.631*\"(\" + 0.611*\")\" + -0.423*\",\" + 0.097*\"section\" + 0.076*\"b\" + 0.074*\"subsection\" + 0.066*\"1\" + 0.058*\"paragraph\" + 0.051*\"described\" + 0.049*\"shall\"\n",
      "topic #2(485.036): -0.585*\"shall\" + -0.471*\".\" + -0.288*\"secretary\" + -0.181*\"section\" + 0.164*\",\" + -0.155*\"act\" + -0.143*\"date\" + 0.141*\")\" + 0.132*\"(\" + 0.132*\";\"\n",
      "topic #3(354.195): 0.579*\"states\" + 0.571*\"united\" + 0.308*\"section\" + 0.306*\";\" + -0.167*\"shall\" + 0.147*\"title\" + -0.120*\"secretary\" + 0.117*\"code\" + 0.110*\"act\" + -0.081*\",\"\n",
      "topic #4(316.424): 0.612*\"section\" + 0.456*\"act\" + -0.334*\";\" + -0.182*\"states\" + -0.174*\"united\" + -0.172*\"secretary\" + -0.162*\".\" + 0.141*\"date\" + -0.123*\"subsection\" + 0.123*\"enactment\"\n",
      "preparing a new chunk of documents\n",
      "using 100 extra samples and 2 power iterations\n",
      "1st phase: constructing (60700, 400) action matrix\n",
      "orthonormalizing (60700, 400) action matrix\n",
      "2nd phase: running dense svd on (400, 20000) matrix\n",
      "computing the final decomposition\n",
      "keeping 300 factors (discarding 3.834% of energy spectrum)\n",
      "merging projections: (60700, 300) + (60700, 300)\n",
      "keeping 300 factors (discarding 0.394% of energy spectrum)\n",
      "processed documents up to #320000\n",
      "topic #0(1902.742): 0.878*\",\" + 0.281*\"(\" + 0.270*\")\" + 0.113*\".\" + 0.109*\"shall\" + 0.076*\"section\" + 0.059*\";\" + 0.059*\"secretary\" + 0.044*\"act\" + 0.044*\"subsection\"\n",
      "topic #1(1141.681): 0.630*\"(\" + 0.611*\")\" + -0.425*\",\" + 0.097*\"section\" + 0.076*\"b\" + 0.074*\"subsection\" + 0.065*\"1\" + 0.058*\"paragraph\" + 0.051*\"described\" + 0.048*\"shall\"\n",
      "topic #2(500.647): -0.585*\"shall\" + -0.472*\".\" + -0.291*\"secretary\" + -0.179*\"section\" + 0.164*\",\" + -0.154*\"act\" + -0.143*\"date\" + 0.140*\")\" + 0.132*\"(\" + 0.131*\";\"\n",
      "topic #3(365.629): 0.585*\"states\" + 0.576*\"united\" + 0.306*\";\" + 0.297*\"section\" + -0.160*\"shall\" + 0.143*\"title\" + -0.122*\"secretary\" + 0.115*\"code\" + 0.105*\"act\" + -0.082*\",\"\n",
      "topic #4(326.291): 0.618*\"section\" + 0.450*\"act\" + -0.340*\";\" + -0.185*\"secretary\" + -0.172*\"states\" + -0.165*\"united\" + -0.149*\".\" + 0.141*\"date\" + -0.123*\"subsection\" + 0.122*\"enactment\"\n",
      "preparing a new chunk of documents\n",
      "using 100 extra samples and 2 power iterations\n",
      "1st phase: constructing (60700, 400) action matrix\n",
      "orthonormalizing (60700, 400) action matrix\n",
      "2nd phase: running dense svd on (400, 20000) matrix\n",
      "computing the final decomposition\n",
      "keeping 300 factors (discarding 3.856% of energy spectrum)\n",
      "merging projections: (60700, 300) + (60700, 300)\n",
      "keeping 300 factors (discarding 0.369% of energy spectrum)\n",
      "processed documents up to #340000\n",
      "topic #0(1959.676): 0.879*\",\" + 0.279*\"(\" + 0.268*\")\" + 0.114*\".\" + 0.109*\"shall\" + 0.075*\"section\" + 0.059*\"secretary\" + 0.059*\";\" + 0.045*\"act\" + 0.044*\"subsection\"\n",
      "topic #1(1172.978): 0.631*\"(\" + 0.611*\")\" + -0.423*\",\" + 0.097*\"section\" + 0.076*\"b\" + 0.074*\"subsection\" + 0.064*\"1\" + 0.058*\"paragraph\" + 0.051*\"described\" + 0.048*\"shall\"\n",
      "topic #2(516.515): -0.585*\"shall\" + -0.472*\".\" + -0.291*\"secretary\" + -0.178*\"section\" + 0.165*\",\" + -0.153*\"act\" + -0.142*\"date\" + 0.140*\")\" + 0.132*\"(\" + 0.130*\";\"\n",
      "topic #3(376.331): 0.585*\"states\" + 0.577*\"united\" + 0.300*\";\" + 0.297*\"section\" + -0.162*\"shall\" + 0.142*\"title\" + -0.126*\"secretary\" + 0.115*\"code\" + 0.109*\"act\" + -0.081*\",\"\n",
      "topic #4(336.022): 0.615*\"section\" + 0.463*\"act\" + -0.305*\";\" + -0.188*\"secretary\" + -0.185*\"states\" + -0.177*\"united\" + -0.164*\".\" + 0.149*\"date\" + 0.127*\"enactment\" + -0.124*\"subsection\"\n",
      "preparing a new chunk of documents\n",
      "using 100 extra samples and 2 power iterations\n",
      "1st phase: constructing (60700, 400) action matrix\n",
      "orthonormalizing (60700, 400) action matrix\n",
      "2nd phase: running dense svd on (400, 19010) matrix\n",
      "computing the final decomposition\n",
      "keeping 300 factors (discarding 3.807% of energy spectrum)\n",
      "merging projections: (60700, 300) + (60700, 300)\n",
      "keeping 300 factors (discarding 0.325% of energy spectrum)\n",
      "processed documents up to #359010\n",
      "topic #0(2011.061): 0.881*\",\" + 0.277*\"(\" + 0.266*\")\" + 0.113*\".\" + 0.109*\"shall\" + 0.075*\"section\" + 0.060*\";\" + 0.059*\"secretary\" + 0.045*\"act\" + 0.044*\"subsection\"\n",
      "topic #1(1202.074): 0.631*\"(\" + 0.612*\")\" + -0.420*\",\" + 0.098*\"section\" + 0.076*\"b\" + 0.074*\"subsection\" + 0.065*\"1\" + 0.059*\"paragraph\" + 0.051*\"described\" + 0.049*\"shall\"\n",
      "topic #2(529.712): -0.585*\"shall\" + -0.472*\".\" + -0.291*\"secretary\" + -0.178*\"section\" + 0.164*\",\" + -0.153*\"act\" + -0.143*\"date\" + 0.141*\")\" + 0.133*\";\" + 0.133*\"(\"\n",
      "topic #3(386.173): 0.579*\"states\" + 0.570*\"united\" + 0.321*\";\" + 0.298*\"section\" + -0.159*\"shall\" + 0.142*\"title\" + -0.123*\"secretary\" + 0.114*\"act\" + 0.113*\"code\" + -0.083*\",\"\n",
      "topic #4(345.223): 0.581*\"section\" + -0.447*\";\" + 0.427*\"act\" + -0.201*\"secretary\" + -0.133*\"states\" + 0.128*\"date\" + -0.125*\"united\" + -0.120*\"shall\" + -0.118*\"paragraph\" + -0.118*\"subsection\"\n",
      "saving Projection object under /tmp/lsi_model.projection, separately None\n",
      "storing np array 'u' to /tmp/lsi_model.projection.u.npy\n",
      "saved /tmp/lsi_model.projection\n",
      "saving LsiModel object under /tmp/lsi_model, separately None\n",
      "not storing attribute projection\n",
      "not storing attribute dispatcher\n",
      "saved /tmp/lsi_model\n"
     ]
    }
   ],
   "source": [
    "lsi_tfidf = models.LsiModel(corpus(dictionary), id2word=dictionary, num_topics=300)\n",
    "tmp_fname = get_tmpfile(\"lsi_model\")\n",
    "lsi_tfidf.save(tmp_fname)  # save model"
   ],
   "metadata": {
    "collapsed": false,
    "pycharm": {
     "name": "#%%\n"
    }
   }
  },
  {
   "cell_type": "code",
   "execution_count": null,
   "outputs": [],
   "source": [
    "tmp_fname = get_tmpfile(\"lsi_model\")\n",
    "lsi_tfidf.load(tmp_fname)  #"
   ],
   "metadata": {
    "collapsed": false,
    "pycharm": {
     "name": "#%%\n"
    }
   }
  },
  {
   "cell_type": "code",
   "execution_count": 113,
   "outputs": [
    {
     "name": "stdout",
     "output_type": "stream",
     "text": [
      "topic #0(2011.061): 0.881*\",\" + 0.277*\"(\" + 0.266*\")\" + 0.113*\".\" + 0.109*\"shall\" + 0.075*\"section\" + 0.060*\";\" + 0.059*\"secretary\" + 0.045*\"act\" + 0.044*\"subsection\"\n",
      "topic #1(1202.074): 0.631*\"(\" + 0.612*\")\" + -0.420*\",\" + 0.098*\"section\" + 0.076*\"b\" + 0.074*\"subsection\" + 0.065*\"1\" + 0.059*\"paragraph\" + 0.051*\"described\" + 0.049*\"shall\"\n",
      "topic #2(529.712): -0.585*\"shall\" + -0.472*\".\" + -0.291*\"secretary\" + -0.178*\"section\" + 0.164*\",\" + -0.153*\"act\" + -0.143*\"date\" + 0.141*\")\" + 0.133*\";\" + 0.133*\"(\"\n",
      "topic #3(386.173): 0.579*\"states\" + 0.570*\"united\" + 0.321*\";\" + 0.298*\"section\" + -0.159*\"shall\" + 0.142*\"title\" + -0.123*\"secretary\" + 0.114*\"act\" + 0.113*\"code\" + -0.083*\",\"\n",
      "topic #4(345.223): 0.581*\"section\" + -0.447*\";\" + 0.427*\"act\" + -0.201*\"secretary\" + -0.133*\"states\" + 0.128*\"date\" + -0.125*\"united\" + -0.120*\"shall\" + -0.118*\"paragraph\" + -0.118*\"subsection\"\n",
      "topic #5(342.015): 0.691*\";\" + -0.331*\".\" + -0.267*\"states\" + -0.266*\"united\" + 0.266*\"act\" + 0.210*\"section\" + 0.118*\"date\" + 0.113*\"shall\" + 0.112*\"state\" + 0.087*\"enactment\"\n",
      "topic #6(328.986): 0.473*\"shall\" + -0.368*\".\" + -0.294*\"state\" + -0.257*\"section\" + -0.250*\"secretary\" + -0.226*\"may\" + 0.183*\"committee\" + 0.159*\"united\" + 0.158*\"date\" + 0.152*\"states\"\n",
      "topic #7(311.942): 0.810*\"secretary\" + -0.366*\".\" + -0.135*\";\" + 0.119*\"states\" + 0.118*\"united\" + -0.118*\"year\" + -0.110*\"state\" + -0.080*\"federal\" + -0.077*\"shall\" + -0.073*\"amount\"\n",
      "topic #8(293.296): -0.482*\"section\" + 0.479*\"act\" + 0.373*\"date\" + -0.356*\"shall\" + 0.249*\"enactment\" + 0.189*\".\" + 0.163*\"later\" + 0.106*\"days\" + 0.088*\"1\" + 0.084*\"year\"\n",
      "topic #9(285.389): 0.812*\"state\" + -0.278*\".\" + -0.197*\";\" + -0.167*\"year\" + 0.150*\"federal\" + 0.127*\"shall\" + 0.113*\"local\" + 0.108*\"agency\" + -0.107*\"$\" + -0.093*\"section\"\n",
      "topic #10(276.273): -0.678*\"year\" + -0.377*\"fiscal\" + -0.216*\"amount\" + 0.205*\".\" + -0.196*\"state\" + 0.150*\"health\" + -0.112*\"1\" + -0.110*\"$\" + 0.105*\"act\" + 0.102*\"services\"\n",
      "topic #11(255.128): 0.634*\"health\" + -0.344*\"may\" + 0.309*\"services\" + 0.305*\"care\" + -0.157*\"subsection\" + 0.156*\"plan\" + -0.151*\"federal\" + 0.137*\"year\" + -0.124*\";\" + 0.093*\"shall\"\n",
      "topic #12(252.498): 0.576*\"committee\" + 0.371*\"may\" + 0.257*\"house\" + -0.255*\"shall\" + 0.187*\"report\" + 0.172*\"bill\" + 0.157*\"senate\" + 0.156*\"amendment\" + 0.153*\"representatives\" + 0.135*\"order\"\n",
      "topic #13(246.039): -0.372*\"paragraph\" + -0.336*\"1\" + 0.305*\"act\" + -0.300*\"date\" + 0.282*\"subsection\" + -0.243*\"section\" + 0.220*\"available\" + 0.169*\"$\" + -0.159*\"later\" + 0.147*\"funds\"\n",
      "topic #14(242.267): -0.662*\"subsection\" + 0.386*\"paragraph\" + 0.238*\"1\" + -0.230*\"date\" + 0.212*\"act\" + 0.170*\"federal\" + 0.148*\"available\" + -0.134*\"section\" + -0.105*\"later\" + -0.105*\"enactment\"\n",
      "topic #15(234.648): -0.513*\"may\" + -0.275*\"subsection\" + 0.263*\".\" + -0.242*\"paragraph\" + -0.210*\"individual\" + 0.206*\"committee\" + -0.196*\"1\" + 0.186*\"federal\" + -0.182*\"health\" + -0.130*\"plan\"\n",
      "topic #16(226.414): -0.661*\"federal\" + -0.299*\"agency\" + 0.222*\"state\" + -0.209*\"subsection\" + 0.199*\".\" + -0.170*\"year\" + 0.161*\"act\" + -0.155*\"health\" + -0.115*\"information\" + 0.111*\"$\"\n",
      "topic #17(219.106): -0.387*\"1\" + -0.351*\"subsection\" + -0.315*\"paragraph\" + -0.301*\"program\" + 0.269*\"individual\" + 0.242*\"plan\" + 0.191*\"subparagraph\" + 0.183*\"federal\" + 0.152*\"may\" + 0.139*\"year\"\n",
      "topic #18(212.355): 0.725*\"program\" + 0.205*\"eligible\" + 0.205*\"individual\" + -0.168*\"$\" + -0.167*\"health\" + -0.141*\"subsection\" + -0.124*\"federal\" + -0.121*\"1\" + 0.119*\"grant\" + 0.114*\"education\"\n",
      "topic #19(207.188): 0.534*\"information\" + -0.331*\"federal\" + 0.252*\"agency\" + -0.229*\"program\" + 0.182*\"security\" + 0.173*\"including\" + 0.162*\"department\" + 0.158*\"available\" + 0.130*\"individual\" + 0.120*\"$\"\n"
     ]
    },
    {
     "data": {
      "text/plain": "[(0,\n  '0.881*\",\" + 0.277*\"(\" + 0.266*\")\" + 0.113*\".\" + 0.109*\"shall\" + 0.075*\"section\" + 0.060*\";\" + 0.059*\"secretary\" + 0.045*\"act\" + 0.044*\"subsection\"'),\n (1,\n  '0.631*\"(\" + 0.612*\")\" + -0.420*\",\" + 0.098*\"section\" + 0.076*\"b\" + 0.074*\"subsection\" + 0.065*\"1\" + 0.059*\"paragraph\" + 0.051*\"described\" + 0.049*\"shall\"'),\n (2,\n  '-0.585*\"shall\" + -0.472*\".\" + -0.291*\"secretary\" + -0.178*\"section\" + 0.164*\",\" + -0.153*\"act\" + -0.143*\"date\" + 0.141*\")\" + 0.133*\";\" + 0.133*\"(\"'),\n (3,\n  '0.579*\"states\" + 0.570*\"united\" + 0.321*\";\" + 0.298*\"section\" + -0.159*\"shall\" + 0.142*\"title\" + -0.123*\"secretary\" + 0.114*\"act\" + 0.113*\"code\" + -0.083*\",\"'),\n (4,\n  '0.581*\"section\" + -0.447*\";\" + 0.427*\"act\" + -0.201*\"secretary\" + -0.133*\"states\" + 0.128*\"date\" + -0.125*\"united\" + -0.120*\"shall\" + -0.118*\"paragraph\" + -0.118*\"subsection\"'),\n (5,\n  '0.691*\";\" + -0.331*\".\" + -0.267*\"states\" + -0.266*\"united\" + 0.266*\"act\" + 0.210*\"section\" + 0.118*\"date\" + 0.113*\"shall\" + 0.112*\"state\" + 0.087*\"enactment\"'),\n (6,\n  '0.473*\"shall\" + -0.368*\".\" + -0.294*\"state\" + -0.257*\"section\" + -0.250*\"secretary\" + -0.226*\"may\" + 0.183*\"committee\" + 0.159*\"united\" + 0.158*\"date\" + 0.152*\"states\"'),\n (7,\n  '0.810*\"secretary\" + -0.366*\".\" + -0.135*\";\" + 0.119*\"states\" + 0.118*\"united\" + -0.118*\"year\" + -0.110*\"state\" + -0.080*\"federal\" + -0.077*\"shall\" + -0.073*\"amount\"'),\n (8,\n  '-0.482*\"section\" + 0.479*\"act\" + 0.373*\"date\" + -0.356*\"shall\" + 0.249*\"enactment\" + 0.189*\".\" + 0.163*\"later\" + 0.106*\"days\" + 0.088*\"1\" + 0.084*\"year\"'),\n (9,\n  '0.812*\"state\" + -0.278*\".\" + -0.197*\";\" + -0.167*\"year\" + 0.150*\"federal\" + 0.127*\"shall\" + 0.113*\"local\" + 0.108*\"agency\" + -0.107*\"$\" + -0.093*\"section\"'),\n (10,\n  '-0.678*\"year\" + -0.377*\"fiscal\" + -0.216*\"amount\" + 0.205*\".\" + -0.196*\"state\" + 0.150*\"health\" + -0.112*\"1\" + -0.110*\"$\" + 0.105*\"act\" + 0.102*\"services\"'),\n (11,\n  '0.634*\"health\" + -0.344*\"may\" + 0.309*\"services\" + 0.305*\"care\" + -0.157*\"subsection\" + 0.156*\"plan\" + -0.151*\"federal\" + 0.137*\"year\" + -0.124*\";\" + 0.093*\"shall\"'),\n (12,\n  '0.576*\"committee\" + 0.371*\"may\" + 0.257*\"house\" + -0.255*\"shall\" + 0.187*\"report\" + 0.172*\"bill\" + 0.157*\"senate\" + 0.156*\"amendment\" + 0.153*\"representatives\" + 0.135*\"order\"'),\n (13,\n  '-0.372*\"paragraph\" + -0.336*\"1\" + 0.305*\"act\" + -0.300*\"date\" + 0.282*\"subsection\" + -0.243*\"section\" + 0.220*\"available\" + 0.169*\"$\" + -0.159*\"later\" + 0.147*\"funds\"'),\n (14,\n  '-0.662*\"subsection\" + 0.386*\"paragraph\" + 0.238*\"1\" + -0.230*\"date\" + 0.212*\"act\" + 0.170*\"federal\" + 0.148*\"available\" + -0.134*\"section\" + -0.105*\"later\" + -0.105*\"enactment\"'),\n (15,\n  '-0.513*\"may\" + -0.275*\"subsection\" + 0.263*\".\" + -0.242*\"paragraph\" + -0.210*\"individual\" + 0.206*\"committee\" + -0.196*\"1\" + 0.186*\"federal\" + -0.182*\"health\" + -0.130*\"plan\"'),\n (16,\n  '-0.661*\"federal\" + -0.299*\"agency\" + 0.222*\"state\" + -0.209*\"subsection\" + 0.199*\".\" + -0.170*\"year\" + 0.161*\"act\" + -0.155*\"health\" + -0.115*\"information\" + 0.111*\"$\"'),\n (17,\n  '-0.387*\"1\" + -0.351*\"subsection\" + -0.315*\"paragraph\" + -0.301*\"program\" + 0.269*\"individual\" + 0.242*\"plan\" + 0.191*\"subparagraph\" + 0.183*\"federal\" + 0.152*\"may\" + 0.139*\"year\"'),\n (18,\n  '0.725*\"program\" + 0.205*\"eligible\" + 0.205*\"individual\" + -0.168*\"$\" + -0.167*\"health\" + -0.141*\"subsection\" + -0.124*\"federal\" + -0.121*\"1\" + 0.119*\"grant\" + 0.114*\"education\"'),\n (19,\n  '0.534*\"information\" + -0.331*\"federal\" + 0.252*\"agency\" + -0.229*\"program\" + 0.182*\"security\" + 0.173*\"including\" + 0.162*\"department\" + 0.158*\"available\" + 0.130*\"individual\" + 0.120*\"$\"')]"
     },
     "execution_count": 113,
     "metadata": {},
     "output_type": "execute_result"
    }
   ],
   "source": [
    "lsi_tfidf.print_topics()"
   ],
   "metadata": {
    "collapsed": false,
    "pycharm": {
     "name": "#%%\n"
    }
   }
  },
  {
   "cell_type": "code",
   "execution_count": null,
   "outputs": [],
   "source": [
    "# model = Doc2Vec(test_corpus, dm=1, epochs=10, vector_size=100,\n",
    "#                 window=10, min_count=1, workers=8,\n",
    "#                 compute_loss=True)"
   ],
   "metadata": {
    "collapsed": false,
    "pycharm": {
     "name": "#%%\n"
    }
   }
  },
  {
   "cell_type": "code",
   "execution_count": 5,
   "outputs": [],
   "source": [
    "common_kwargs = dict(\n",
    "    dm=0, epochs=20, min_count=2, sample=0, workers=5,\n",
    ")\n",
    "def name_string(model):\n",
    "    return f\"{model}\".replace(',','').replace('(','').replace(')','')\\\n",
    "        .replace('/','').replace('.','').replace('\"','').replace('=','')"
   ],
   "metadata": {
    "collapsed": false,
    "pycharm": {
     "name": "#%%\n"
    }
   }
  },
  {
   "cell_type": "code",
   "execution_count": 125,
   "outputs": [],
   "source": [
    "simple_models = [\n",
    "    # 'Doc2Vecdbowd100n5mc2t8',                        #0.7819972111134498\n",
    "    # .8 threshold Accuracy: 0.6512576299726374, Avg Conf: 0.5941407531666877, Min Conf: 0.8000008463859558, Max Conf: 0.9923915863037109\n",
    "    # 'Doc2Vec\\\"alpha=0.05\\\"dmmd100n5w10mc2t8',\n",
    "    # 'Doc2Vecdmcd100n5w5mc2t8',\n",
    "    # 'Doc2Vecdbowd100n10mc2t5',\n",
    "    # 'Doc2Vecdbowd100n5hsmc2t5',                      #0.7691328141443906\n",
    "    # 'Doc2Vecdbowd200n5mc2t5'                         #0.7855977688907598\n",
    "    'Doc2Vecdbowd100n5mc2t5lex'\n",
    "]"
   ],
   "metadata": {
    "collapsed": false,
    "pycharm": {
     "name": "#%%\n"
    }
   }
  },
  {
   "cell_type": "code",
   "execution_count": 126,
   "outputs": [
    {
     "name": "stdout",
     "output_type": "stream",
     "text": [
      "loading Doc2Vec object from /tmp/Doc2Vecdbowd100n5mc2t5lex\n",
      "loading vocabulary recursively from /tmp/Doc2Vecdbowd100n5mc2t5lex.vocabulary.* with mmap=None\n",
      "loading trainables recursively from /tmp/Doc2Vecdbowd100n5mc2t5lex.trainables.* with mmap=None\n",
      "loading wv recursively from /tmp/Doc2Vecdbowd100n5mc2t5lex.wv.* with mmap=None\n",
      "loading docvecs recursively from /tmp/Doc2Vecdbowd100n5mc2t5lex.docvecs.* with mmap=None\n",
      "loading vectors_docs from /tmp/Doc2Vecdbowd100n5mc2t5lex.docvecs.vectors_docs.npy with mmap=None\n",
      "loaded /tmp/Doc2Vecdbowd100n5mc2t5lex\n"
     ]
    }
   ],
   "source": [
    "models_by_name = OrderedDict((name, Doc2Vec.load(get_tmpfile(name))) for name in simple_models)"
   ],
   "metadata": {
    "collapsed": false,
    "pycharm": {
     "name": "#%%\n"
    }
   }
  },
  {
   "cell_type": "code",
   "execution_count": 9,
   "outputs": [
    {
     "name": "stdout",
     "output_type": "stream",
     "text": [
      "collecting all words and their counts\n"
     ]
    },
    {
     "data": {
      "text/plain": "  0%|          | 0/13357 [00:00<?, ?it/s]",
      "application/vnd.jupyter.widget-view+json": {
       "version_major": 2,
       "version_minor": 0,
       "model_id": "98f13743c0964585b069dc5d288deb93"
      }
     },
     "metadata": {},
     "output_type": "display_data"
    },
    {
     "name": "stdout",
     "output_type": "stream",
     "text": [
      "collected 60700 word types and 358234 unique tags from a corpus of 359010 examples and 8678364 words\n",
      "Loading a fresh vocabulary\n",
      "effective_min_count=2 retains 44311 unique words (73% of original 60700, drops 16389)\n",
      "effective_min_count=2 leaves 8661975 word corpus (99% of original 8678364, drops 16389)\n",
      "deleting the raw counts dictionary of 60700 items\n",
      "sample=0 downsamples 0 most-common words\n",
      "downsampling leaves estimated 8661975 word corpus (100.0% of prior 8661975)\n",
      "estimated required memory for 44311 words and 100 dimensions: 272544700 bytes\n",
      "resetting layer weights\n",
      "training model with 5 workers on 44311 vocabulary and 100 features, using sg=1 hs=0 sample=0 negative=5 window=5\n"
     ]
    },
    {
     "data": {
      "text/plain": "  0%|          | 0/13357 [00:00<?, ?it/s]",
      "application/vnd.jupyter.widget-view+json": {
       "version_major": 2,
       "version_minor": 0,
       "model_id": "3bf1a93276bf453d8c175ce5995a0ab2"
      }
     },
     "metadata": {},
     "output_type": "display_data"
    },
    {
     "name": "stdout",
     "output_type": "stream",
     "text": [
      "worker thread finished; awaiting finish of 4 more threads\n",
      "worker thread finished; awaiting finish of 3 more threads\n",
      "worker thread finished; awaiting finish of 2 more threads\n",
      "worker thread finished; awaiting finish of 1 more threads\n",
      "worker thread finished; awaiting finish of 0 more threads\n",
      "EPOCH - 1 : training on 8678364 raw words (9020985 effective words) took 107.0s, 84340 effective words/s\n"
     ]
    },
    {
     "data": {
      "text/plain": "  0%|          | 0/13357 [00:00<?, ?it/s]",
      "application/vnd.jupyter.widget-view+json": {
       "version_major": 2,
       "version_minor": 0,
       "model_id": "ad94936b284b4d24b06cc14531729f8f"
      }
     },
     "metadata": {},
     "output_type": "display_data"
    },
    {
     "name": "stdout",
     "output_type": "stream",
     "text": [
      "worker thread finished; awaiting finish of 4 more threads\n",
      "worker thread finished; awaiting finish of 3 more threads\n",
      "worker thread finished; awaiting finish of 2 more threads\n",
      "worker thread finished; awaiting finish of 1 more threads\n",
      "worker thread finished; awaiting finish of 0 more threads\n",
      "EPOCH - 2 : training on 8678364 raw words (9020985 effective words) took 104.9s, 85963 effective words/s\n"
     ]
    },
    {
     "data": {
      "text/plain": "  0%|          | 0/13357 [00:00<?, ?it/s]",
      "application/vnd.jupyter.widget-view+json": {
       "version_major": 2,
       "version_minor": 0,
       "model_id": "94d39c40b88e41ca9154de64d8522f8f"
      }
     },
     "metadata": {},
     "output_type": "display_data"
    },
    {
     "name": "stdout",
     "output_type": "stream",
     "text": [
      "worker thread finished; awaiting finish of 4 more threads\n",
      "worker thread finished; awaiting finish of 3 more threads\n",
      "worker thread finished; awaiting finish of 2 more threads\n",
      "worker thread finished; awaiting finish of 1 more threads\n",
      "worker thread finished; awaiting finish of 0 more threads\n",
      "EPOCH - 3 : training on 8678364 raw words (9020985 effective words) took 105.0s, 85887 effective words/s\n"
     ]
    },
    {
     "data": {
      "text/plain": "  0%|          | 0/13357 [00:00<?, ?it/s]",
      "application/vnd.jupyter.widget-view+json": {
       "version_major": 2,
       "version_minor": 0,
       "model_id": "5aa9db70d1a1424182b06242543c308a"
      }
     },
     "metadata": {},
     "output_type": "display_data"
    },
    {
     "name": "stdout",
     "output_type": "stream",
     "text": [
      "worker thread finished; awaiting finish of 4 more threads\n",
      "worker thread finished; awaiting finish of 3 more threads\n",
      "worker thread finished; awaiting finish of 2 more threads\n",
      "worker thread finished; awaiting finish of 1 more threads\n",
      "worker thread finished; awaiting finish of 0 more threads\n",
      "EPOCH - 4 : training on 8678364 raw words (9020985 effective words) took 105.2s, 85733 effective words/s\n"
     ]
    },
    {
     "data": {
      "text/plain": "  0%|          | 0/13357 [00:00<?, ?it/s]",
      "application/vnd.jupyter.widget-view+json": {
       "version_major": 2,
       "version_minor": 0,
       "model_id": "b314c3c9b4bd421d88f438a3921849f2"
      }
     },
     "metadata": {},
     "output_type": "display_data"
    },
    {
     "name": "stdout",
     "output_type": "stream",
     "text": [
      "worker thread finished; awaiting finish of 4 more threads\n",
      "worker thread finished; awaiting finish of 3 more threads\n",
      "worker thread finished; awaiting finish of 2 more threads\n",
      "worker thread finished; awaiting finish of 1 more threads\n",
      "worker thread finished; awaiting finish of 0 more threads\n",
      "EPOCH - 5 : training on 8678364 raw words (9020985 effective words) took 104.9s, 85956 effective words/s\n"
     ]
    },
    {
     "data": {
      "text/plain": "  0%|          | 0/13357 [00:00<?, ?it/s]",
      "application/vnd.jupyter.widget-view+json": {
       "version_major": 2,
       "version_minor": 0,
       "model_id": "4fa4625d50b1452280bc950bae057b42"
      }
     },
     "metadata": {},
     "output_type": "display_data"
    },
    {
     "name": "stdout",
     "output_type": "stream",
     "text": [
      "worker thread finished; awaiting finish of 4 more threads\n",
      "worker thread finished; awaiting finish of 3 more threads\n",
      "worker thread finished; awaiting finish of 2 more threads\n",
      "worker thread finished; awaiting finish of 1 more threads\n",
      "worker thread finished; awaiting finish of 0 more threads\n",
      "EPOCH - 6 : training on 8678364 raw words (9020985 effective words) took 105.5s, 85481 effective words/s\n"
     ]
    },
    {
     "data": {
      "text/plain": "  0%|          | 0/13357 [00:00<?, ?it/s]",
      "application/vnd.jupyter.widget-view+json": {
       "version_major": 2,
       "version_minor": 0,
       "model_id": "e04cb2f3913043789f9885afecd43029"
      }
     },
     "metadata": {},
     "output_type": "display_data"
    },
    {
     "name": "stdout",
     "output_type": "stream",
     "text": [
      "worker thread finished; awaiting finish of 4 more threads\n",
      "worker thread finished; awaiting finish of 3 more threads\n",
      "worker thread finished; awaiting finish of 2 more threads\n",
      "worker thread finished; awaiting finish of 1 more threads\n",
      "worker thread finished; awaiting finish of 0 more threads\n",
      "EPOCH - 7 : training on 8678364 raw words (9020985 effective words) took 105.7s, 85382 effective words/s\n"
     ]
    },
    {
     "data": {
      "text/plain": "  0%|          | 0/13357 [00:00<?, ?it/s]",
      "application/vnd.jupyter.widget-view+json": {
       "version_major": 2,
       "version_minor": 0,
       "model_id": "4061a15ce8af43219077bd5245b244bc"
      }
     },
     "metadata": {},
     "output_type": "display_data"
    },
    {
     "name": "stdout",
     "output_type": "stream",
     "text": [
      "worker thread finished; awaiting finish of 4 more threads\n",
      "worker thread finished; awaiting finish of 3 more threads\n",
      "worker thread finished; awaiting finish of 2 more threads\n",
      "worker thread finished; awaiting finish of 1 more threads\n",
      "worker thread finished; awaiting finish of 0 more threads\n",
      "EPOCH - 8 : training on 8678364 raw words (9020985 effective words) took 106.0s, 85104 effective words/s\n"
     ]
    },
    {
     "data": {
      "text/plain": "  0%|          | 0/13357 [00:00<?, ?it/s]",
      "application/vnd.jupyter.widget-view+json": {
       "version_major": 2,
       "version_minor": 0,
       "model_id": "aef0b3b1fdc2430689cd618f8a174a40"
      }
     },
     "metadata": {},
     "output_type": "display_data"
    },
    {
     "name": "stdout",
     "output_type": "stream",
     "text": [
      "worker thread finished; awaiting finish of 4 more threads\n",
      "worker thread finished; awaiting finish of 3 more threads\n",
      "worker thread finished; awaiting finish of 2 more threads\n",
      "worker thread finished; awaiting finish of 1 more threads\n",
      "worker thread finished; awaiting finish of 0 more threads\n",
      "EPOCH - 9 : training on 8678364 raw words (9020985 effective words) took 105.5s, 85501 effective words/s\n"
     ]
    },
    {
     "data": {
      "text/plain": "  0%|          | 0/13357 [00:00<?, ?it/s]",
      "application/vnd.jupyter.widget-view+json": {
       "version_major": 2,
       "version_minor": 0,
       "model_id": "ccb466b7c94b4c6aa238f623b28090b8"
      }
     },
     "metadata": {},
     "output_type": "display_data"
    },
    {
     "name": "stdout",
     "output_type": "stream",
     "text": [
      "worker thread finished; awaiting finish of 4 more threads\n",
      "worker thread finished; awaiting finish of 3 more threads\n",
      "worker thread finished; awaiting finish of 2 more threads\n",
      "worker thread finished; awaiting finish of 1 more threads\n",
      "worker thread finished; awaiting finish of 0 more threads\n",
      "EPOCH - 10 : training on 8678364 raw words (9020985 effective words) took 105.4s, 85568 effective words/s\n"
     ]
    },
    {
     "data": {
      "text/plain": "  0%|          | 0/13357 [00:00<?, ?it/s]",
      "application/vnd.jupyter.widget-view+json": {
       "version_major": 2,
       "version_minor": 0,
       "model_id": "272cd1df601f40829fa6807176bc1e28"
      }
     },
     "metadata": {},
     "output_type": "display_data"
    },
    {
     "name": "stdout",
     "output_type": "stream",
     "text": [
      "worker thread finished; awaiting finish of 4 more threads\n",
      "worker thread finished; awaiting finish of 3 more threads\n",
      "worker thread finished; awaiting finish of 2 more threads\n",
      "worker thread finished; awaiting finish of 1 more threads\n",
      "worker thread finished; awaiting finish of 0 more threads\n",
      "EPOCH - 11 : training on 8678364 raw words (9020985 effective words) took 106.2s, 84956 effective words/s\n"
     ]
    },
    {
     "data": {
      "text/plain": "  0%|          | 0/13357 [00:00<?, ?it/s]",
      "application/vnd.jupyter.widget-view+json": {
       "version_major": 2,
       "version_minor": 0,
       "model_id": "931a6471db1f477982b3328a66393240"
      }
     },
     "metadata": {},
     "output_type": "display_data"
    },
    {
     "name": "stdout",
     "output_type": "stream",
     "text": [
      "worker thread finished; awaiting finish of 4 more threads\n",
      "worker thread finished; awaiting finish of 3 more threads\n",
      "worker thread finished; awaiting finish of 2 more threads\n",
      "worker thread finished; awaiting finish of 1 more threads\n",
      "worker thread finished; awaiting finish of 0 more threads\n",
      "EPOCH - 12 : training on 8678364 raw words (9020985 effective words) took 105.9s, 85179 effective words/s\n"
     ]
    },
    {
     "data": {
      "text/plain": "  0%|          | 0/13357 [00:00<?, ?it/s]",
      "application/vnd.jupyter.widget-view+json": {
       "version_major": 2,
       "version_minor": 0,
       "model_id": "f58dda62caea4352af242f71e4030ff0"
      }
     },
     "metadata": {},
     "output_type": "display_data"
    },
    {
     "name": "stdout",
     "output_type": "stream",
     "text": [
      "worker thread finished; awaiting finish of 4 more threads\n",
      "worker thread finished; awaiting finish of 3 more threads\n",
      "worker thread finished; awaiting finish of 2 more threads\n",
      "worker thread finished; awaiting finish of 1 more threads\n",
      "worker thread finished; awaiting finish of 0 more threads\n",
      "EPOCH - 13 : training on 8678364 raw words (9020985 effective words) took 106.4s, 84764 effective words/s\n"
     ]
    },
    {
     "data": {
      "text/plain": "  0%|          | 0/13357 [00:00<?, ?it/s]",
      "application/vnd.jupyter.widget-view+json": {
       "version_major": 2,
       "version_minor": 0,
       "model_id": "d8d3a2181ccd4102b4ba20e018572ed2"
      }
     },
     "metadata": {},
     "output_type": "display_data"
    },
    {
     "name": "stdout",
     "output_type": "stream",
     "text": [
      "worker thread finished; awaiting finish of 4 more threads\n",
      "worker thread finished; awaiting finish of 3 more threads\n",
      "worker thread finished; awaiting finish of 2 more threads\n",
      "worker thread finished; awaiting finish of 1 more threads\n",
      "worker thread finished; awaiting finish of 0 more threads\n",
      "EPOCH - 14 : training on 8678364 raw words (9020985 effective words) took 106.5s, 84726 effective words/s\n"
     ]
    },
    {
     "data": {
      "text/plain": "  0%|          | 0/13357 [00:00<?, ?it/s]",
      "application/vnd.jupyter.widget-view+json": {
       "version_major": 2,
       "version_minor": 0,
       "model_id": "7750316fdf544c518ddb1987e4a80d97"
      }
     },
     "metadata": {},
     "output_type": "display_data"
    },
    {
     "name": "stdout",
     "output_type": "stream",
     "text": [
      "worker thread finished; awaiting finish of 4 more threads\n",
      "worker thread finished; awaiting finish of 3 more threads\n",
      "worker thread finished; awaiting finish of 2 more threads\n",
      "worker thread finished; awaiting finish of 1 more threads\n",
      "worker thread finished; awaiting finish of 0 more threads\n",
      "EPOCH - 15 : training on 8678364 raw words (9020985 effective words) took 105.3s, 85705 effective words/s\n"
     ]
    },
    {
     "data": {
      "text/plain": "  0%|          | 0/13357 [00:00<?, ?it/s]",
      "application/vnd.jupyter.widget-view+json": {
       "version_major": 2,
       "version_minor": 0,
       "model_id": "6a0f540bcee048b7bb7ab9ae71b24687"
      }
     },
     "metadata": {},
     "output_type": "display_data"
    },
    {
     "name": "stdout",
     "output_type": "stream",
     "text": [
      "worker thread finished; awaiting finish of 4 more threads\n",
      "worker thread finished; awaiting finish of 3 more threads\n",
      "worker thread finished; awaiting finish of 2 more threads\n",
      "worker thread finished; awaiting finish of 1 more threads\n",
      "worker thread finished; awaiting finish of 0 more threads\n",
      "EPOCH - 16 : training on 8678364 raw words (9020985 effective words) took 105.6s, 85431 effective words/s\n"
     ]
    },
    {
     "data": {
      "text/plain": "  0%|          | 0/13357 [00:00<?, ?it/s]",
      "application/vnd.jupyter.widget-view+json": {
       "version_major": 2,
       "version_minor": 0,
       "model_id": "429667ba59b944d7ba4540abc544d126"
      }
     },
     "metadata": {},
     "output_type": "display_data"
    },
    {
     "name": "stdout",
     "output_type": "stream",
     "text": [
      "worker thread finished; awaiting finish of 4 more threads\n",
      "worker thread finished; awaiting finish of 3 more threads\n",
      "worker thread finished; awaiting finish of 2 more threads\n",
      "worker thread finished; awaiting finish of 1 more threads\n",
      "worker thread finished; awaiting finish of 0 more threads\n",
      "EPOCH - 17 : training on 8678364 raw words (9020985 effective words) took 105.8s, 85279 effective words/s\n"
     ]
    },
    {
     "data": {
      "text/plain": "  0%|          | 0/13357 [00:00<?, ?it/s]",
      "application/vnd.jupyter.widget-view+json": {
       "version_major": 2,
       "version_minor": 0,
       "model_id": "5357b73a560e4f3893e66692e0d09898"
      }
     },
     "metadata": {},
     "output_type": "display_data"
    },
    {
     "name": "stdout",
     "output_type": "stream",
     "text": [
      "worker thread finished; awaiting finish of 4 more threads\n",
      "worker thread finished; awaiting finish of 3 more threads\n",
      "worker thread finished; awaiting finish of 2 more threads\n",
      "worker thread finished; awaiting finish of 1 more threads\n",
      "worker thread finished; awaiting finish of 0 more threads\n",
      "EPOCH - 18 : training on 8678364 raw words (9020985 effective words) took 105.4s, 85589 effective words/s\n"
     ]
    },
    {
     "data": {
      "text/plain": "  0%|          | 0/13357 [00:00<?, ?it/s]",
      "application/vnd.jupyter.widget-view+json": {
       "version_major": 2,
       "version_minor": 0,
       "model_id": "ada3f17056cf4932b0c848990c584f57"
      }
     },
     "metadata": {},
     "output_type": "display_data"
    },
    {
     "name": "stdout",
     "output_type": "stream",
     "text": [
      "worker thread finished; awaiting finish of 4 more threads\n",
      "worker thread finished; awaiting finish of 3 more threads\n",
      "worker thread finished; awaiting finish of 2 more threads\n",
      "worker thread finished; awaiting finish of 1 more threads\n",
      "worker thread finished; awaiting finish of 0 more threads\n",
      "EPOCH - 19 : training on 8678364 raw words (9020985 effective words) took 104.6s, 86282 effective words/s\n"
     ]
    },
    {
     "data": {
      "text/plain": "  0%|          | 0/13357 [00:00<?, ?it/s]",
      "application/vnd.jupyter.widget-view+json": {
       "version_major": 2,
       "version_minor": 0,
       "model_id": "453ba4f5d23041d8b447b97861576117"
      }
     },
     "metadata": {},
     "output_type": "display_data"
    },
    {
     "name": "stdout",
     "output_type": "stream",
     "text": [
      "worker thread finished; awaiting finish of 4 more threads\n",
      "worker thread finished; awaiting finish of 3 more threads\n",
      "worker thread finished; awaiting finish of 2 more threads\n",
      "worker thread finished; awaiting finish of 1 more threads\n",
      "worker thread finished; awaiting finish of 0 more threads\n",
      "EPOCH - 20 : training on 8678364 raw words (9020985 effective words) took 104.9s, 85967 effective words/s\n",
      "training on a 173567280 raw words (180419700 effective words) took 2111.8s, 85435 effective words/s\n",
      "saving Doc2Vec object under /tmp/Doc2Vecdbowd100n5mc2t5lex, separately None\n",
      "storing np array 'vectors_docs' to /tmp/Doc2Vecdbowd100n5mc2t5lex.docvecs.vectors_docs.npy\n",
      "saved /tmp/Doc2Vecdbowd100n5mc2t5lex\n"
     ]
    }
   ],
   "source": [
    "model = Doc2Vec(test_corpus,  vector_size=100, negative=5, hs=0, **common_kwargs)\n",
    "fname = get_tmpfile(name_string(model)+'lex')\n",
    "model.save(fname)\n",
    "models_by_name[fname] = model"
   ],
   "metadata": {
    "collapsed": false,
    "pycharm": {
     "name": "#%%\n"
    }
   }
  },
  {
   "cell_type": "code",
   "execution_count": 190,
   "outputs": [
    {
     "name": "stdout",
     "output_type": "stream",
     "text": [
      "collecting all words and their counts\n"
     ]
    },
    {
     "data": {
      "text/plain": "  0%|          | 0/13357 [00:00<?, ?it/s]",
      "application/vnd.jupyter.widget-view+json": {
       "version_major": 2,
       "version_minor": 0,
       "model_id": "aa37c5029bfd4aa1ae23789c76328d58"
      }
     },
     "metadata": {},
     "output_type": "display_data"
    },
    {
     "name": "stdout",
     "output_type": "stream",
     "text": [
      "collected 35959 word types and 358234 unique tags from a corpus of 359010 examples and 11981471 words\n",
      "Loading a fresh vocabulary\n",
      "effective_min_count=2 retains 28724 unique words (79% of original 35959, drops 7235)\n",
      "effective_min_count=2 leaves 11974236 word corpus (99% of original 11981471, drops 7235)\n",
      "deleting the raw counts dictionary of 35959 items\n",
      "sample=0 downsamples 0 most-common words\n",
      "downsampling leaves estimated 11974236 word corpus (100.0% of prior 11974236)\n",
      "constructing a huffman tree from 28724 words\n",
      "built huffman tree with maximum node depth 23\n",
      "estimated required memory for 28724 words and 100 dimensions: 269516000 bytes\n",
      "resetting layer weights\n",
      "training model with 5 workers on 28724 vocabulary and 100 features, using sg=1 hs=1 sample=0 negative=5 window=5\n"
     ]
    },
    {
     "data": {
      "text/plain": "  0%|          | 0/13357 [00:00<?, ?it/s]",
      "application/vnd.jupyter.widget-view+json": {
       "version_major": 2,
       "version_minor": 0,
       "model_id": "90856a9ebc94402c934c93812f668847"
      }
     },
     "metadata": {},
     "output_type": "display_data"
    },
    {
     "name": "stdout",
     "output_type": "stream",
     "text": [
      "worker thread finished; awaiting finish of 4 more threads\n",
      "worker thread finished; awaiting finish of 3 more threads\n",
      "worker thread finished; awaiting finish of 2 more threads\n",
      "worker thread finished; awaiting finish of 1 more threads\n",
      "worker thread finished; awaiting finish of 0 more threads\n",
      "EPOCH - 1 : training on 11981471 raw words (12333246 effective words) took 57.2s, 215674 effective words/s\n"
     ]
    },
    {
     "data": {
      "text/plain": "  0%|          | 0/13357 [00:00<?, ?it/s]",
      "application/vnd.jupyter.widget-view+json": {
       "version_major": 2,
       "version_minor": 0,
       "model_id": "5998b65f5ca64b1c985551a379a5875a"
      }
     },
     "metadata": {},
     "output_type": "display_data"
    },
    {
     "name": "stdout",
     "output_type": "stream",
     "text": [
      "worker thread finished; awaiting finish of 4 more threads\n",
      "worker thread finished; awaiting finish of 3 more threads\n",
      "worker thread finished; awaiting finish of 2 more threads\n",
      "worker thread finished; awaiting finish of 1 more threads\n",
      "worker thread finished; awaiting finish of 0 more threads\n",
      "EPOCH - 2 : training on 11981471 raw words (12333246 effective words) took 57.6s, 214003 effective words/s\n"
     ]
    },
    {
     "data": {
      "text/plain": "  0%|          | 0/13357 [00:00<?, ?it/s]",
      "application/vnd.jupyter.widget-view+json": {
       "version_major": 2,
       "version_minor": 0,
       "model_id": "38cf8714d122464492903150a5f16fbe"
      }
     },
     "metadata": {},
     "output_type": "display_data"
    },
    {
     "name": "stdout",
     "output_type": "stream",
     "text": [
      "worker thread finished; awaiting finish of 4 more threads\n",
      "worker thread finished; awaiting finish of 3 more threads\n",
      "worker thread finished; awaiting finish of 2 more threads\n",
      "worker thread finished; awaiting finish of 1 more threads\n",
      "worker thread finished; awaiting finish of 0 more threads\n",
      "EPOCH - 3 : training on 11981471 raw words (12333246 effective words) took 57.8s, 213417 effective words/s\n"
     ]
    },
    {
     "data": {
      "text/plain": "  0%|          | 0/13357 [00:00<?, ?it/s]",
      "application/vnd.jupyter.widget-view+json": {
       "version_major": 2,
       "version_minor": 0,
       "model_id": "fb8c9aa8ecce4e1a92af01b1982e676e"
      }
     },
     "metadata": {},
     "output_type": "display_data"
    },
    {
     "name": "stdout",
     "output_type": "stream",
     "text": [
      "worker thread finished; awaiting finish of 4 more threads\n",
      "worker thread finished; awaiting finish of 3 more threads\n",
      "worker thread finished; awaiting finish of 2 more threads\n",
      "worker thread finished; awaiting finish of 1 more threads\n",
      "worker thread finished; awaiting finish of 0 more threads\n",
      "EPOCH - 4 : training on 11981471 raw words (12333246 effective words) took 57.7s, 213823 effective words/s\n"
     ]
    },
    {
     "data": {
      "text/plain": "  0%|          | 0/13357 [00:00<?, ?it/s]",
      "application/vnd.jupyter.widget-view+json": {
       "version_major": 2,
       "version_minor": 0,
       "model_id": "72a32a5b02e643748753ad2ec5965a2b"
      }
     },
     "metadata": {},
     "output_type": "display_data"
    },
    {
     "name": "stdout",
     "output_type": "stream",
     "text": [
      "worker thread finished; awaiting finish of 4 more threads\n",
      "worker thread finished; awaiting finish of 3 more threads\n",
      "worker thread finished; awaiting finish of 2 more threads\n",
      "worker thread finished; awaiting finish of 1 more threads\n",
      "worker thread finished; awaiting finish of 0 more threads\n",
      "EPOCH - 5 : training on 11981471 raw words (12333246 effective words) took 57.6s, 214219 effective words/s\n"
     ]
    },
    {
     "data": {
      "text/plain": "  0%|          | 0/13357 [00:00<?, ?it/s]",
      "application/vnd.jupyter.widget-view+json": {
       "version_major": 2,
       "version_minor": 0,
       "model_id": "c5dd1e771840413aa459a19ae9b6b182"
      }
     },
     "metadata": {},
     "output_type": "display_data"
    },
    {
     "name": "stdout",
     "output_type": "stream",
     "text": [
      "worker thread finished; awaiting finish of 4 more threads\n",
      "worker thread finished; awaiting finish of 3 more threads\n",
      "worker thread finished; awaiting finish of 2 more threads\n",
      "worker thread finished; awaiting finish of 1 more threads\n",
      "worker thread finished; awaiting finish of 0 more threads\n",
      "EPOCH - 6 : training on 11981471 raw words (12333246 effective words) took 57.8s, 213236 effective words/s\n"
     ]
    },
    {
     "data": {
      "text/plain": "  0%|          | 0/13357 [00:00<?, ?it/s]",
      "application/vnd.jupyter.widget-view+json": {
       "version_major": 2,
       "version_minor": 0,
       "model_id": "58fcf4e6830f493aad5e2fa5a3d019c6"
      }
     },
     "metadata": {},
     "output_type": "display_data"
    },
    {
     "name": "stdout",
     "output_type": "stream",
     "text": [
      "worker thread finished; awaiting finish of 4 more threads\n",
      "worker thread finished; awaiting finish of 3 more threads\n",
      "worker thread finished; awaiting finish of 2 more threads\n",
      "worker thread finished; awaiting finish of 1 more threads\n",
      "worker thread finished; awaiting finish of 0 more threads\n",
      "EPOCH - 7 : training on 11981471 raw words (12333246 effective words) took 57.7s, 213751 effective words/s\n"
     ]
    },
    {
     "data": {
      "text/plain": "  0%|          | 0/13357 [00:00<?, ?it/s]",
      "application/vnd.jupyter.widget-view+json": {
       "version_major": 2,
       "version_minor": 0,
       "model_id": "2032daebc87448318e396af7cdf39d2b"
      }
     },
     "metadata": {},
     "output_type": "display_data"
    },
    {
     "name": "stdout",
     "output_type": "stream",
     "text": [
      "worker thread finished; awaiting finish of 4 more threads\n",
      "worker thread finished; awaiting finish of 3 more threads\n",
      "worker thread finished; awaiting finish of 2 more threads\n",
      "worker thread finished; awaiting finish of 1 more threads\n",
      "worker thread finished; awaiting finish of 0 more threads\n",
      "EPOCH - 8 : training on 11981471 raw words (12333246 effective words) took 58.3s, 211698 effective words/s\n"
     ]
    },
    {
     "data": {
      "text/plain": "  0%|          | 0/13357 [00:00<?, ?it/s]",
      "application/vnd.jupyter.widget-view+json": {
       "version_major": 2,
       "version_minor": 0,
       "model_id": "9f4e065b79064e749f4e323675844b98"
      }
     },
     "metadata": {},
     "output_type": "display_data"
    },
    {
     "name": "stdout",
     "output_type": "stream",
     "text": [
      "worker thread finished; awaiting finish of 4 more threads\n",
      "worker thread finished; awaiting finish of 3 more threads\n",
      "worker thread finished; awaiting finish of 2 more threads\n",
      "worker thread finished; awaiting finish of 1 more threads\n",
      "worker thread finished; awaiting finish of 0 more threads\n",
      "EPOCH - 9 : training on 11981471 raw words (12333246 effective words) took 58.1s, 212377 effective words/s\n"
     ]
    },
    {
     "data": {
      "text/plain": "  0%|          | 0/13357 [00:00<?, ?it/s]",
      "application/vnd.jupyter.widget-view+json": {
       "version_major": 2,
       "version_minor": 0,
       "model_id": "47a3b123d0ab49478a5d6421a6a49712"
      }
     },
     "metadata": {},
     "output_type": "display_data"
    },
    {
     "name": "stdout",
     "output_type": "stream",
     "text": [
      "worker thread finished; awaiting finish of 4 more threads\n",
      "worker thread finished; awaiting finish of 3 more threads\n",
      "worker thread finished; awaiting finish of 2 more threads\n",
      "worker thread finished; awaiting finish of 1 more threads\n",
      "worker thread finished; awaiting finish of 0 more threads\n",
      "EPOCH - 10 : training on 11981471 raw words (12333246 effective words) took 57.7s, 213616 effective words/s\n"
     ]
    },
    {
     "data": {
      "text/plain": "  0%|          | 0/13357 [00:00<?, ?it/s]",
      "application/vnd.jupyter.widget-view+json": {
       "version_major": 2,
       "version_minor": 0,
       "model_id": "bee6ef6a2938437a803730527a01d68f"
      }
     },
     "metadata": {},
     "output_type": "display_data"
    },
    {
     "name": "stdout",
     "output_type": "stream",
     "text": [
      "worker thread finished; awaiting finish of 4 more threads\n",
      "worker thread finished; awaiting finish of 3 more threads\n",
      "worker thread finished; awaiting finish of 2 more threads\n",
      "worker thread finished; awaiting finish of 1 more threads\n",
      "worker thread finished; awaiting finish of 0 more threads\n",
      "EPOCH - 11 : training on 11981471 raw words (12333246 effective words) took 57.3s, 215058 effective words/s\n"
     ]
    },
    {
     "data": {
      "text/plain": "  0%|          | 0/13357 [00:00<?, ?it/s]",
      "application/vnd.jupyter.widget-view+json": {
       "version_major": 2,
       "version_minor": 0,
       "model_id": "672c90386fd540ba8f74938a19a9308d"
      }
     },
     "metadata": {},
     "output_type": "display_data"
    },
    {
     "name": "stdout",
     "output_type": "stream",
     "text": [
      "worker thread finished; awaiting finish of 4 more threads\n",
      "worker thread finished; awaiting finish of 3 more threads\n",
      "worker thread finished; awaiting finish of 2 more threads\n",
      "worker thread finished; awaiting finish of 1 more threads\n",
      "worker thread finished; awaiting finish of 0 more threads\n",
      "EPOCH - 12 : training on 11981471 raw words (12333246 effective words) took 58.4s, 211135 effective words/s\n"
     ]
    },
    {
     "data": {
      "text/plain": "  0%|          | 0/13357 [00:00<?, ?it/s]",
      "application/vnd.jupyter.widget-view+json": {
       "version_major": 2,
       "version_minor": 0,
       "model_id": "d482cda74725436bba952d581fd3521a"
      }
     },
     "metadata": {},
     "output_type": "display_data"
    },
    {
     "name": "stdout",
     "output_type": "stream",
     "text": [
      "worker thread finished; awaiting finish of 4 more threads\n",
      "worker thread finished; awaiting finish of 3 more threads\n",
      "worker thread finished; awaiting finish of 2 more threads\n",
      "worker thread finished; awaiting finish of 1 more threads\n",
      "worker thread finished; awaiting finish of 0 more threads\n",
      "EPOCH - 13 : training on 11981471 raw words (12333246 effective words) took 58.4s, 211209 effective words/s\n"
     ]
    },
    {
     "data": {
      "text/plain": "  0%|          | 0/13357 [00:00<?, ?it/s]",
      "application/vnd.jupyter.widget-view+json": {
       "version_major": 2,
       "version_minor": 0,
       "model_id": "e306ffb9b0ca478792dc5bfb6f3eb9c2"
      }
     },
     "metadata": {},
     "output_type": "display_data"
    },
    {
     "name": "stdout",
     "output_type": "stream",
     "text": [
      "worker thread finished; awaiting finish of 4 more threads\n",
      "worker thread finished; awaiting finish of 3 more threads\n",
      "worker thread finished; awaiting finish of 2 more threads\n",
      "worker thread finished; awaiting finish of 1 more threads\n",
      "worker thread finished; awaiting finish of 0 more threads\n",
      "EPOCH - 14 : training on 11981471 raw words (12333246 effective words) took 57.8s, 213482 effective words/s\n"
     ]
    },
    {
     "data": {
      "text/plain": "  0%|          | 0/13357 [00:00<?, ?it/s]",
      "application/vnd.jupyter.widget-view+json": {
       "version_major": 2,
       "version_minor": 0,
       "model_id": "7774442a150241b491e97a02d5ca7e8d"
      }
     },
     "metadata": {},
     "output_type": "display_data"
    },
    {
     "name": "stdout",
     "output_type": "stream",
     "text": [
      "worker thread finished; awaiting finish of 4 more threads\n",
      "worker thread finished; awaiting finish of 3 more threads\n",
      "worker thread finished; awaiting finish of 2 more threads\n",
      "worker thread finished; awaiting finish of 1 more threads\n",
      "worker thread finished; awaiting finish of 0 more threads\n",
      "EPOCH - 15 : training on 11981471 raw words (12333246 effective words) took 58.4s, 211163 effective words/s\n"
     ]
    },
    {
     "data": {
      "text/plain": "  0%|          | 0/13357 [00:00<?, ?it/s]",
      "application/vnd.jupyter.widget-view+json": {
       "version_major": 2,
       "version_minor": 0,
       "model_id": "cc89bd4e310e4b2ca9cc5fb22e59a15e"
      }
     },
     "metadata": {},
     "output_type": "display_data"
    },
    {
     "name": "stdout",
     "output_type": "stream",
     "text": [
      "worker thread finished; awaiting finish of 4 more threads\n",
      "worker thread finished; awaiting finish of 3 more threads\n",
      "worker thread finished; awaiting finish of 2 more threads\n",
      "worker thread finished; awaiting finish of 1 more threads\n",
      "worker thread finished; awaiting finish of 0 more threads\n",
      "EPOCH - 16 : training on 11981471 raw words (12333246 effective words) took 58.9s, 209550 effective words/s\n"
     ]
    },
    {
     "data": {
      "text/plain": "  0%|          | 0/13357 [00:00<?, ?it/s]",
      "application/vnd.jupyter.widget-view+json": {
       "version_major": 2,
       "version_minor": 0,
       "model_id": "a502eae71b2549eb9fe005acfbbe12fd"
      }
     },
     "metadata": {},
     "output_type": "display_data"
    },
    {
     "name": "stdout",
     "output_type": "stream",
     "text": [
      "worker thread finished; awaiting finish of 4 more threads\n",
      "worker thread finished; awaiting finish of 3 more threads\n",
      "worker thread finished; awaiting finish of 2 more threads\n",
      "worker thread finished; awaiting finish of 1 more threads\n",
      "worker thread finished; awaiting finish of 0 more threads\n",
      "EPOCH - 17 : training on 11981471 raw words (12333246 effective words) took 58.5s, 210719 effective words/s\n"
     ]
    },
    {
     "data": {
      "text/plain": "  0%|          | 0/13357 [00:00<?, ?it/s]",
      "application/vnd.jupyter.widget-view+json": {
       "version_major": 2,
       "version_minor": 0,
       "model_id": "157f9d97e8a34327a7038be56fdbedd3"
      }
     },
     "metadata": {},
     "output_type": "display_data"
    },
    {
     "name": "stdout",
     "output_type": "stream",
     "text": [
      "worker thread finished; awaiting finish of 4 more threads\n",
      "worker thread finished; awaiting finish of 3 more threads\n",
      "worker thread finished; awaiting finish of 2 more threads\n",
      "worker thread finished; awaiting finish of 1 more threads\n",
      "worker thread finished; awaiting finish of 0 more threads\n",
      "EPOCH - 18 : training on 11981471 raw words (12333246 effective words) took 58.8s, 209734 effective words/s\n"
     ]
    },
    {
     "data": {
      "text/plain": "  0%|          | 0/13357 [00:00<?, ?it/s]",
      "application/vnd.jupyter.widget-view+json": {
       "version_major": 2,
       "version_minor": 0,
       "model_id": "5c7eb523009f41a994b253f10c146159"
      }
     },
     "metadata": {},
     "output_type": "display_data"
    },
    {
     "name": "stdout",
     "output_type": "stream",
     "text": [
      "worker thread finished; awaiting finish of 4 more threads\n",
      "worker thread finished; awaiting finish of 3 more threads\n",
      "worker thread finished; awaiting finish of 2 more threads\n",
      "worker thread finished; awaiting finish of 1 more threads\n",
      "worker thread finished; awaiting finish of 0 more threads\n",
      "EPOCH - 19 : training on 11981471 raw words (12333246 effective words) took 58.5s, 210710 effective words/s\n"
     ]
    },
    {
     "data": {
      "text/plain": "  0%|          | 0/13357 [00:00<?, ?it/s]",
      "application/vnd.jupyter.widget-view+json": {
       "version_major": 2,
       "version_minor": 0,
       "model_id": "9d612557b991420db242ddeff7b0a56b"
      }
     },
     "metadata": {},
     "output_type": "display_data"
    },
    {
     "name": "stdout",
     "output_type": "stream",
     "text": [
      "worker thread finished; awaiting finish of 4 more threads\n",
      "worker thread finished; awaiting finish of 3 more threads\n",
      "worker thread finished; awaiting finish of 2 more threads\n",
      "worker thread finished; awaiting finish of 1 more threads\n",
      "worker thread finished; awaiting finish of 0 more threads\n",
      "EPOCH - 20 : training on 11981471 raw words (12333246 effective words) took 58.6s, 210506 effective words/s\n",
      "training on a 239629420 raw words (246664920 effective words) took 1161.2s, 212430 effective words/s\n",
      "saving Doc2Vec object under /tmp/Doc2Vecdbowd100n5hsmc2t5, separately None\n",
      "storing np array 'vectors_docs' to /tmp/Doc2Vecdbowd100n5hsmc2t5.docvecs.vectors_docs.npy\n",
      "saved /tmp/Doc2Vecdbowd100n5hsmc2t5\n"
     ]
    }
   ],
   "source": [
    "model = Doc2Vec(test_corpus,vector_size=100, negative=5, hs=1, **common_kwargs)\n",
    "fname = get_tmpfile(name_string(model)+'lex')\n",
    "model.save(fname)\n",
    "models_by_name[fname] = model"
   ],
   "metadata": {
    "collapsed": false,
    "pycharm": {
     "name": "#%%\n"
    }
   }
  },
  {
   "cell_type": "code",
   "execution_count": 191,
   "outputs": [
    {
     "name": "stdout",
     "output_type": "stream",
     "text": [
      "collecting all words and their counts\n"
     ]
    },
    {
     "data": {
      "text/plain": "  0%|          | 0/13357 [00:00<?, ?it/s]",
      "application/vnd.jupyter.widget-view+json": {
       "version_major": 2,
       "version_minor": 0,
       "model_id": "d7e9ba27b6874a01921a082b1f9966b4"
      }
     },
     "metadata": {},
     "output_type": "display_data"
    },
    {
     "name": "stdout",
     "output_type": "stream",
     "text": [
      "collected 35959 word types and 358234 unique tags from a corpus of 359010 examples and 11981471 words\n",
      "Loading a fresh vocabulary\n",
      "effective_min_count=2 retains 28724 unique words (79% of original 35959, drops 7235)\n",
      "effective_min_count=2 leaves 11974236 word corpus (99% of original 11981471, drops 7235)\n",
      "deleting the raw counts dictionary of 35959 items\n",
      "sample=0 downsamples 0 most-common words\n",
      "downsampling leaves estimated 11974236 word corpus (100.0% of prior 11974236)\n",
      "estimated required memory for 28724 words and 200 dimensions: 418554400 bytes\n",
      "resetting layer weights\n",
      "training model with 5 workers on 28724 vocabulary and 200 features, using sg=1 hs=0 sample=0 negative=5 window=5\n"
     ]
    },
    {
     "data": {
      "text/plain": "  0%|          | 0/13357 [00:00<?, ?it/s]",
      "application/vnd.jupyter.widget-view+json": {
       "version_major": 2,
       "version_minor": 0,
       "model_id": "6389478c22a14ea289beabc35620a3de"
      }
     },
     "metadata": {},
     "output_type": "display_data"
    },
    {
     "name": "stdout",
     "output_type": "stream",
     "text": [
      "worker thread finished; awaiting finish of 4 more threads\n",
      "worker thread finished; awaiting finish of 3 more threads\n",
      "worker thread finished; awaiting finish of 2 more threads\n",
      "worker thread finished; awaiting finish of 1 more threads\n",
      "worker thread finished; awaiting finish of 0 more threads\n",
      "EPOCH - 1 : training on 11981471 raw words (12333246 effective words) took 56.2s, 219632 effective words/s\n"
     ]
    },
    {
     "data": {
      "text/plain": "  0%|          | 0/13357 [00:00<?, ?it/s]",
      "application/vnd.jupyter.widget-view+json": {
       "version_major": 2,
       "version_minor": 0,
       "model_id": "934cf79dd38b4f0cb93d1e10a9cff778"
      }
     },
     "metadata": {},
     "output_type": "display_data"
    },
    {
     "name": "stdout",
     "output_type": "stream",
     "text": [
      "worker thread finished; awaiting finish of 4 more threads\n",
      "worker thread finished; awaiting finish of 3 more threads\n",
      "worker thread finished; awaiting finish of 2 more threads\n",
      "worker thread finished; awaiting finish of 1 more threads\n",
      "worker thread finished; awaiting finish of 0 more threads\n",
      "EPOCH - 2 : training on 11981471 raw words (12333246 effective words) took 56.9s, 216642 effective words/s\n"
     ]
    },
    {
     "data": {
      "text/plain": "  0%|          | 0/13357 [00:00<?, ?it/s]",
      "application/vnd.jupyter.widget-view+json": {
       "version_major": 2,
       "version_minor": 0,
       "model_id": "e4abcaf6a32d47efa5e596b4a1f63876"
      }
     },
     "metadata": {},
     "output_type": "display_data"
    },
    {
     "name": "stdout",
     "output_type": "stream",
     "text": [
      "worker thread finished; awaiting finish of 4 more threads\n",
      "worker thread finished; awaiting finish of 3 more threads\n",
      "worker thread finished; awaiting finish of 2 more threads\n",
      "worker thread finished; awaiting finish of 1 more threads\n",
      "worker thread finished; awaiting finish of 0 more threads\n",
      "EPOCH - 3 : training on 11981471 raw words (12333246 effective words) took 56.4s, 218597 effective words/s\n"
     ]
    },
    {
     "data": {
      "text/plain": "  0%|          | 0/13357 [00:00<?, ?it/s]",
      "application/vnd.jupyter.widget-view+json": {
       "version_major": 2,
       "version_minor": 0,
       "model_id": "867e0b24060a4326a5a1e20db966e38d"
      }
     },
     "metadata": {},
     "output_type": "display_data"
    },
    {
     "name": "stdout",
     "output_type": "stream",
     "text": [
      "worker thread finished; awaiting finish of 4 more threads\n",
      "worker thread finished; awaiting finish of 3 more threads\n",
      "worker thread finished; awaiting finish of 2 more threads\n",
      "worker thread finished; awaiting finish of 1 more threads\n",
      "worker thread finished; awaiting finish of 0 more threads\n",
      "EPOCH - 4 : training on 11981471 raw words (12333246 effective words) took 56.7s, 217704 effective words/s\n"
     ]
    },
    {
     "data": {
      "text/plain": "  0%|          | 0/13357 [00:00<?, ?it/s]",
      "application/vnd.jupyter.widget-view+json": {
       "version_major": 2,
       "version_minor": 0,
       "model_id": "b5c38735251a4e9da9dd0aaacd8e1151"
      }
     },
     "metadata": {},
     "output_type": "display_data"
    },
    {
     "name": "stdout",
     "output_type": "stream",
     "text": [
      "worker thread finished; awaiting finish of 4 more threads\n",
      "worker thread finished; awaiting finish of 3 more threads\n",
      "worker thread finished; awaiting finish of 2 more threads\n",
      "worker thread finished; awaiting finish of 1 more threads\n",
      "worker thread finished; awaiting finish of 0 more threads\n",
      "EPOCH - 5 : training on 11981471 raw words (12333246 effective words) took 56.0s, 220079 effective words/s\n"
     ]
    },
    {
     "data": {
      "text/plain": "  0%|          | 0/13357 [00:00<?, ?it/s]",
      "application/vnd.jupyter.widget-view+json": {
       "version_major": 2,
       "version_minor": 0,
       "model_id": "73fd51dd85b8426582c57e10f1591715"
      }
     },
     "metadata": {},
     "output_type": "display_data"
    },
    {
     "name": "stdout",
     "output_type": "stream",
     "text": [
      "worker thread finished; awaiting finish of 4 more threads\n",
      "worker thread finished; awaiting finish of 3 more threads\n",
      "worker thread finished; awaiting finish of 2 more threads\n",
      "worker thread finished; awaiting finish of 1 more threads\n",
      "worker thread finished; awaiting finish of 0 more threads\n",
      "EPOCH - 6 : training on 11981471 raw words (12333246 effective words) took 56.5s, 218291 effective words/s\n"
     ]
    },
    {
     "data": {
      "text/plain": "  0%|          | 0/13357 [00:00<?, ?it/s]",
      "application/vnd.jupyter.widget-view+json": {
       "version_major": 2,
       "version_minor": 0,
       "model_id": "c05665304b2d4ec2a302ebbda54d71ea"
      }
     },
     "metadata": {},
     "output_type": "display_data"
    },
    {
     "name": "stdout",
     "output_type": "stream",
     "text": [
      "worker thread finished; awaiting finish of 4 more threads\n",
      "worker thread finished; awaiting finish of 3 more threads\n",
      "worker thread finished; awaiting finish of 2 more threads\n",
      "worker thread finished; awaiting finish of 1 more threads\n",
      "worker thread finished; awaiting finish of 0 more threads\n",
      "EPOCH - 7 : training on 11981471 raw words (12333246 effective words) took 56.1s, 219692 effective words/s\n"
     ]
    },
    {
     "data": {
      "text/plain": "  0%|          | 0/13357 [00:00<?, ?it/s]",
      "application/vnd.jupyter.widget-view+json": {
       "version_major": 2,
       "version_minor": 0,
       "model_id": "f24491f2931b4c3495cba041afcaa71c"
      }
     },
     "metadata": {},
     "output_type": "display_data"
    },
    {
     "name": "stdout",
     "output_type": "stream",
     "text": [
      "worker thread finished; awaiting finish of 4 more threads\n",
      "worker thread finished; awaiting finish of 3 more threads\n",
      "worker thread finished; awaiting finish of 2 more threads\n",
      "worker thread finished; awaiting finish of 1 more threads\n",
      "worker thread finished; awaiting finish of 0 more threads\n",
      "EPOCH - 8 : training on 11981471 raw words (12333246 effective words) took 56.7s, 217686 effective words/s\n"
     ]
    },
    {
     "data": {
      "text/plain": "  0%|          | 0/13357 [00:00<?, ?it/s]",
      "application/vnd.jupyter.widget-view+json": {
       "version_major": 2,
       "version_minor": 0,
       "model_id": "b11ca6ff20d942f29dbae5b473be78f2"
      }
     },
     "metadata": {},
     "output_type": "display_data"
    },
    {
     "name": "stdout",
     "output_type": "stream",
     "text": [
      "worker thread finished; awaiting finish of 4 more threads\n",
      "worker thread finished; awaiting finish of 3 more threads\n",
      "worker thread finished; awaiting finish of 2 more threads\n",
      "worker thread finished; awaiting finish of 1 more threads\n",
      "worker thread finished; awaiting finish of 0 more threads\n",
      "EPOCH - 9 : training on 11981471 raw words (12333246 effective words) took 56.8s, 217263 effective words/s\n"
     ]
    },
    {
     "data": {
      "text/plain": "  0%|          | 0/13357 [00:00<?, ?it/s]",
      "application/vnd.jupyter.widget-view+json": {
       "version_major": 2,
       "version_minor": 0,
       "model_id": "cf34e0102300426e82253bc8a4f52edf"
      }
     },
     "metadata": {},
     "output_type": "display_data"
    },
    {
     "name": "stdout",
     "output_type": "stream",
     "text": [
      "worker thread finished; awaiting finish of 4 more threads\n",
      "worker thread finished; awaiting finish of 3 more threads\n",
      "worker thread finished; awaiting finish of 2 more threads\n",
      "worker thread finished; awaiting finish of 1 more threads\n",
      "worker thread finished; awaiting finish of 0 more threads\n",
      "EPOCH - 10 : training on 11981471 raw words (12333246 effective words) took 57.2s, 215665 effective words/s\n"
     ]
    },
    {
     "data": {
      "text/plain": "  0%|          | 0/13357 [00:00<?, ?it/s]",
      "application/vnd.jupyter.widget-view+json": {
       "version_major": 2,
       "version_minor": 0,
       "model_id": "c2215089e97c49a6b29ec350f29f05a6"
      }
     },
     "metadata": {},
     "output_type": "display_data"
    },
    {
     "name": "stdout",
     "output_type": "stream",
     "text": [
      "worker thread finished; awaiting finish of 4 more threads\n",
      "worker thread finished; awaiting finish of 3 more threads\n",
      "worker thread finished; awaiting finish of 2 more threads\n",
      "worker thread finished; awaiting finish of 1 more threads\n",
      "worker thread finished; awaiting finish of 0 more threads\n",
      "EPOCH - 11 : training on 11981471 raw words (12333246 effective words) took 56.6s, 217838 effective words/s\n"
     ]
    },
    {
     "data": {
      "text/plain": "  0%|          | 0/13357 [00:00<?, ?it/s]",
      "application/vnd.jupyter.widget-view+json": {
       "version_major": 2,
       "version_minor": 0,
       "model_id": "b36ea3b9fc284798bf6220c04a601096"
      }
     },
     "metadata": {},
     "output_type": "display_data"
    },
    {
     "name": "stdout",
     "output_type": "stream",
     "text": [
      "worker thread finished; awaiting finish of 4 more threads\n",
      "worker thread finished; awaiting finish of 3 more threads\n",
      "worker thread finished; awaiting finish of 2 more threads\n",
      "worker thread finished; awaiting finish of 1 more threads\n",
      "worker thread finished; awaiting finish of 0 more threads\n",
      "EPOCH - 12 : training on 11981471 raw words (12333246 effective words) took 56.9s, 216754 effective words/s\n"
     ]
    },
    {
     "data": {
      "text/plain": "  0%|          | 0/13357 [00:00<?, ?it/s]",
      "application/vnd.jupyter.widget-view+json": {
       "version_major": 2,
       "version_minor": 0,
       "model_id": "b874f2a15ca6468eaefacb8636c75d17"
      }
     },
     "metadata": {},
     "output_type": "display_data"
    },
    {
     "name": "stdout",
     "output_type": "stream",
     "text": [
      "worker thread finished; awaiting finish of 4 more threads\n",
      "worker thread finished; awaiting finish of 3 more threads\n",
      "worker thread finished; awaiting finish of 2 more threads\n",
      "worker thread finished; awaiting finish of 1 more threads\n",
      "worker thread finished; awaiting finish of 0 more threads\n",
      "EPOCH - 13 : training on 11981471 raw words (12333246 effective words) took 57.1s, 216078 effective words/s\n"
     ]
    },
    {
     "data": {
      "text/plain": "  0%|          | 0/13357 [00:00<?, ?it/s]",
      "application/vnd.jupyter.widget-view+json": {
       "version_major": 2,
       "version_minor": 0,
       "model_id": "3491a27882c345a2b2b5b974cf367656"
      }
     },
     "metadata": {},
     "output_type": "display_data"
    },
    {
     "name": "stdout",
     "output_type": "stream",
     "text": [
      "worker thread finished; awaiting finish of 4 more threads\n",
      "worker thread finished; awaiting finish of 3 more threads\n",
      "worker thread finished; awaiting finish of 2 more threads\n",
      "worker thread finished; awaiting finish of 1 more threads\n",
      "worker thread finished; awaiting finish of 0 more threads\n",
      "EPOCH - 14 : training on 11981471 raw words (12333246 effective words) took 57.6s, 213980 effective words/s\n"
     ]
    },
    {
     "data": {
      "text/plain": "  0%|          | 0/13357 [00:00<?, ?it/s]",
      "application/vnd.jupyter.widget-view+json": {
       "version_major": 2,
       "version_minor": 0,
       "model_id": "74c9630fd0d94bfc9c0a2de35bc5e08b"
      }
     },
     "metadata": {},
     "output_type": "display_data"
    },
    {
     "name": "stdout",
     "output_type": "stream",
     "text": [
      "worker thread finished; awaiting finish of 4 more threads\n",
      "worker thread finished; awaiting finish of 3 more threads\n",
      "worker thread finished; awaiting finish of 2 more threads\n",
      "worker thread finished; awaiting finish of 1 more threads\n",
      "worker thread finished; awaiting finish of 0 more threads\n",
      "EPOCH - 15 : training on 11981471 raw words (12333246 effective words) took 56.4s, 218764 effective words/s\n"
     ]
    },
    {
     "data": {
      "text/plain": "  0%|          | 0/13357 [00:00<?, ?it/s]",
      "application/vnd.jupyter.widget-view+json": {
       "version_major": 2,
       "version_minor": 0,
       "model_id": "fcbd7152aa4747568107bf8719358108"
      }
     },
     "metadata": {},
     "output_type": "display_data"
    },
    {
     "name": "stdout",
     "output_type": "stream",
     "text": [
      "worker thread finished; awaiting finish of 4 more threads\n",
      "worker thread finished; awaiting finish of 3 more threads\n",
      "worker thread finished; awaiting finish of 2 more threads\n",
      "worker thread finished; awaiting finish of 1 more threads\n",
      "worker thread finished; awaiting finish of 0 more threads\n",
      "EPOCH - 16 : training on 11981471 raw words (12333246 effective words) took 57.0s, 216325 effective words/s\n"
     ]
    },
    {
     "data": {
      "text/plain": "  0%|          | 0/13357 [00:00<?, ?it/s]",
      "application/vnd.jupyter.widget-view+json": {
       "version_major": 2,
       "version_minor": 0,
       "model_id": "8da078d984cf4073aa4f8f727073f612"
      }
     },
     "metadata": {},
     "output_type": "display_data"
    },
    {
     "name": "stdout",
     "output_type": "stream",
     "text": [
      "worker thread finished; awaiting finish of 4 more threads\n",
      "worker thread finished; awaiting finish of 3 more threads\n",
      "worker thread finished; awaiting finish of 2 more threads\n",
      "worker thread finished; awaiting finish of 1 more threads\n",
      "worker thread finished; awaiting finish of 0 more threads\n",
      "EPOCH - 17 : training on 11981471 raw words (12333246 effective words) took 57.1s, 216026 effective words/s\n"
     ]
    },
    {
     "data": {
      "text/plain": "  0%|          | 0/13357 [00:00<?, ?it/s]",
      "application/vnd.jupyter.widget-view+json": {
       "version_major": 2,
       "version_minor": 0,
       "model_id": "73e7483a88f741488e63a05a60934dcb"
      }
     },
     "metadata": {},
     "output_type": "display_data"
    },
    {
     "name": "stdout",
     "output_type": "stream",
     "text": [
      "worker thread finished; awaiting finish of 4 more threads\n",
      "worker thread finished; awaiting finish of 3 more threads\n",
      "worker thread finished; awaiting finish of 2 more threads\n",
      "worker thread finished; awaiting finish of 1 more threads\n",
      "worker thread finished; awaiting finish of 0 more threads\n",
      "EPOCH - 18 : training on 11981471 raw words (12333246 effective words) took 57.0s, 216382 effective words/s\n"
     ]
    },
    {
     "data": {
      "text/plain": "  0%|          | 0/13357 [00:00<?, ?it/s]",
      "application/vnd.jupyter.widget-view+json": {
       "version_major": 2,
       "version_minor": 0,
       "model_id": "d36b13b22b404b27bdb5f075bf10ee14"
      }
     },
     "metadata": {},
     "output_type": "display_data"
    },
    {
     "name": "stdout",
     "output_type": "stream",
     "text": [
      "worker thread finished; awaiting finish of 4 more threads\n",
      "worker thread finished; awaiting finish of 3 more threads\n",
      "worker thread finished; awaiting finish of 2 more threads\n",
      "worker thread finished; awaiting finish of 1 more threads\n",
      "worker thread finished; awaiting finish of 0 more threads\n",
      "EPOCH - 19 : training on 11981471 raw words (12333246 effective words) took 57.2s, 215516 effective words/s\n"
     ]
    },
    {
     "data": {
      "text/plain": "  0%|          | 0/13357 [00:00<?, ?it/s]",
      "application/vnd.jupyter.widget-view+json": {
       "version_major": 2,
       "version_minor": 0,
       "model_id": "a3b856411a584846939c8347f4dd0bae"
      }
     },
     "metadata": {},
     "output_type": "display_data"
    },
    {
     "name": "stdout",
     "output_type": "stream",
     "text": [
      "worker thread finished; awaiting finish of 4 more threads\n",
      "worker thread finished; awaiting finish of 3 more threads\n",
      "worker thread finished; awaiting finish of 2 more threads\n",
      "worker thread finished; awaiting finish of 1 more threads\n",
      "worker thread finished; awaiting finish of 0 more threads\n",
      "EPOCH - 20 : training on 11981471 raw words (12333246 effective words) took 57.9s, 213058 effective words/s\n",
      "training on a 239629420 raw words (246664920 effective words) took 1136.3s, 217073 effective words/s\n",
      "saving Doc2Vec object under /tmp/Doc2Vecdbowd200n5mc2t5, separately None\n",
      "storing np array 'vectors_docs' to /tmp/Doc2Vecdbowd200n5mc2t5.docvecs.vectors_docs.npy\n",
      "saved /tmp/Doc2Vecdbowd200n5mc2t5\n"
     ]
    }
   ],
   "source": [
    "model = Doc2Vec(test_corpus,vector_size=200, negative=5, hs=0, **common_kwargs)\n",
    "fname = get_tmpfile(name_string(model)+'lex')\n",
    "model.save(fname)\n",
    "models_by_name[fname] = model"
   ],
   "metadata": {
    "collapsed": false,
    "pycharm": {
     "name": "#%%\n"
    }
   }
  },
  {
   "cell_type": "code",
   "execution_count": 38,
   "outputs": [],
   "source": [
    "#0.7819972111134498 'Doc2Vecdbowd100n5mc2t8' PV-DBOW plain\n",
    "#0.7855977688907598  Doc2Vecdbowd200n5mc2t5\n",
    "\n",
    "# models_by_name['dbow_dmm'] = ConcatenatedDoc2Vec([simple_models[0], simple_models[1]])\n",
    "# models_by_name['dbow_dmc'] = ConcatenatedDoc2Vec([simple_models[0], simple_models[2]])"
   ],
   "metadata": {
    "collapsed": false,
    "pycharm": {
     "name": "#%%\n"
    }
   }
  },
  {
   "cell_type": "code",
   "execution_count": 47,
   "outputs": [],
   "source": [
    "# model = models_by_name[simple_models[1]]"
   ],
   "metadata": {
    "collapsed": false,
    "pycharm": {
     "name": "#%%\n"
    }
   }
  },
  {
   "cell_type": "code",
   "execution_count": 60,
   "outputs": [],
   "source": [
    "import matplotlib.pyplot as plt\n",
    "%matplotlib inline\n",
    "\n",
    "def plot_model(model):\n",
    "    kmeans_model = KMeans(n_clusters=4, init='k-means++', max_iter=100)\n",
    "    X = kmeans_model.fit(model.docvecs.vectors_docs)\n",
    "    labels=kmeans_model.labels_.tolist()\n",
    "    l = kmeans_model.fit_predict(model.docvecs.vectors_docs)\n",
    "    pca = PCA(n_components=2).fit(model.docvecs.vectors_docs)\n",
    "    datapoint = pca.transform(model.docvecs.vectors_docs)\n",
    "\n",
    "    plt.figure\n",
    "    label1 = [\"#FFFF00\", \"#008000\", \"#0000FF\", \"#800080\"]\n",
    "    color = [label1[i] for i in labels]\n",
    "    plt.scatter(datapoint[:, 0], datapoint[:, 1], c=color)\n",
    "    centroids = kmeans_model.cluster_centers_\n",
    "    centroidpoint = pca.transform(centroids)\n",
    "    plt.scatter(centroidpoint[:, 0], centroidpoint[:, 1], marker='^', s=150, c='#000000')\n",
    "    plt.show()\n",
    "\n",
    "def index_to_original_text(idx):\n",
    "    file_name = idx.rsplit(\"_\",2)[0]\n",
    "    with open('/home/harry/PycharmProjects/congress/docs/'+file_name) as bill:\n",
    "        bill_reader = csv.reader(bill, delimiter='\\t')\n",
    "        for line in bill_reader:\n",
    "            if line[0] == idx:\n",
    "                return line[1]\n",
    "\n",
    "def get_texts(similars):\n",
    "    billdocs = []\n",
    "    for filepart, score in similars:\n",
    "        billdocs.append(f'{filepart} {score}'[:45] + '  ' + index_to_original_text(filepart))\n",
    "    return billdocs"
   ],
   "metadata": {
    "collapsed": false,
    "pycharm": {
     "name": "#%%\n"
    }
   }
  },
  {
   "cell_type": "code",
   "execution_count": 191,
   "outputs": [
    {
     "name": "stdout",
     "output_type": "stream",
     "text": [
      "['data__115__bills__s__s1_51_247', 'In determining the amount of tax imposed by this section for the taxable year on a child described in subparagraph (A), the income tax table otherwise applicable under this subsection to the child shall be applied with the following modifications:', '2017-11-28']\n"
     ]
    },
    {
     "data": {
      "text/plain": "['data__115__bills__hr__hr6760_71_218 0.8978298  In determining the amount of tax imposed by this section for the taxable year on such child, the income tax table otherwise applicable under this section to such child shall be applied with the following modifications:',\n 'data__115__bills__s__s2281_93_124 0.868156671  The income tax table otherwise applicable under this section to the child shall be applied with the following modifications:',\n 'data__115__bills__s__s2687_93_124 0.847423315  The income tax table otherwise applicable under this section to the child shall be applied with the following modifications:',\n 'data__115__bills__s__s2291_93_124 0.843777358  The income tax table otherwise applicable under this section to the child shall be applied with the following modifications:',\n 'data__115__bills__hr__hr2267_31_193 0.7848389  For purposes of determining an increase in the otherwise applicable resident limit under subparagraph (A) (other than such an increase described in subparagraph (B)), the following shall apply:',\n 'data__115__bills__s__s2198_34_103 0.743726730  The amount of tax imposed by subsection (a) shall be determined in accordance with the following table:',\n 'data__115__bills__hr__hr35_19_614 0.734501600  For purposes of this section, except as otherwise provided in this subsection, a child health savings account established for the benefit of the child of a taxpayer shall be treated as a health savings account of the taxpayer until the first taxable year (and each taxable year thereafter) for which no deduction under section 151 is allowable to any taxpayer with respect to such child, after which such account shall be treated as a health savings account of the child. The preceding sentence shall not apply for purposes of applying the limitations in subsection (b) to a health savings account of the taxpayer.',\n 'data__115__bills__hr__hr1531_44_107 0.7292989  The amount of the tax imposed by subsection (a) shall be determined in accordance with the following table:',\n 'data__115__bills__hr__hr1040_55_195 0.7277489  In the case of any taxable year beginning in a calendar year after 2018, each dollar amount contained in subsection (c) shall be increased by an amount determined by the Secretary to be equal to—',\n 'data__115__bills__s__s2718_39_205 0.727592229  In applying subsection (a) for any taxable year to which this paragraph applies, only the itemized deductions described in subparagraph (A) shall be taken into account as miscellaneous itemized deductions.']"
     },
     "execution_count": 191,
     "metadata": {},
     "output_type": "execute_result"
    }
   ],
   "source": [
    "d2vmod = models_by_name['Doc2Vecdbowd100n5mc2t5lex']\n",
    "# get doc2vec top similar docs\n",
    "test_bill = []\n",
    "num = 7\n",
    "with open('/home/harry/PycharmProjects/congress/docs/data__115__bills__s__s1', 'r') as bill:\n",
    "    bill_reader = csv.reader(bill, delimiter='\\t')\n",
    "    test_bill = [line for line in bill_reader]\n",
    "similar_docs = get_texts(d2vmod.docvecs.most_similar(test_bill[num][0]))\n",
    "print(test_bill[num])\n",
    "similar_docs"
   ],
   "metadata": {
    "collapsed": false,
    "pycharm": {
     "name": "#%%\n"
    }
   }
  },
  {
   "cell_type": "code",
   "execution_count": 192,
   "outputs": [
    {
     "data": {
      "text/plain": "<Figure size 432x288 with 1 Axes>",
      "image/png": "[encoded data removed]"
     },
     "metadata": {
      "needs_background": "light"
     },
     "output_type": "display_data"
    }
   ],
   "source": [
    "plot_model(d2vmod)"
   ],
   "metadata": {
    "collapsed": false,
    "pycharm": {
     "name": "#%%\n"
    }
   }
  },
  {
   "cell_type": "code",
   "execution_count": 18,
   "outputs": [],
   "source": [
    "# list of nodes and all nodes connected to each one by alignments\n",
    "alignment_dict = {}\n",
    "with open('/home/harry/Downloads/alignments.csv', 'r', encoding=\"utf-8-sig\") as alignments:\n",
    "    align_reader = csv.reader(alignments)\n",
    "    for line in align_reader:\n",
    "        alignment_dict[line[0]] = set(line[1][1:-1].split(','))"
   ],
   "metadata": {
    "collapsed": false,
    "pycharm": {
     "name": "#%%\n"
    }
   }
  },
  {
   "cell_type": "code",
   "execution_count": 74,
   "outputs": [
    {
     "data": {
      "text/plain": "  0%|          | 0/182771 [00:00<?, ?it/s]",
      "application/vnd.jupyter.widget-view+json": {
       "version_major": 2,
       "version_minor": 0,
       "model_id": "72fd6f8b3c0c47689472d4f1543eb9b9"
      }
     },
     "metadata": {},
     "output_type": "display_data"
    }
   ],
   "source": [
    "# how many alignments are found by doc2vec similarity\n",
    "found = 0\n",
    "total = 0\n",
    "for name, align_set in tqdm(alignment_dict.items()):\n",
    "    num_aligns = len(align_set)\n",
    "    similar_docs, _ = zip(*model.docvecs.most_similar(positive=[model.docvecs.doctags[name].offset], topn=num_aligns))\n",
    "    found += len(align_set & set(similar_docs))\n",
    "    total += num_aligns"
   ],
   "metadata": {
    "collapsed": false,
    "pycharm": {
     "name": "#%%\n"
    }
   }
  },
  {
   "cell_type": "code",
   "execution_count": 78,
   "outputs": [],
   "source": [
    "# a,b = zip(*model.docvecs.most_similar(positive=[model.docvecs.doctags['data__115__bills__hr__hr1046_75_138'].offset], topn=2))"
   ],
   "metadata": {
    "collapsed": false,
    "pycharm": {
     "name": "#%%\n"
    }
   }
  },
  {
   "cell_type": "code",
   "execution_count": null,
   "outputs": [],
   "source": [
    "with open('/home/harry/PycharmProjects/congress/docs/data__115__bills__s__s1', 'r') as bill:\n",
    "    bill_reader = csv.reader(bill, delimiter='\\t')\n",
    "    bill_docs = [line[0] for line in bill_reader]"
   ],
   "metadata": {
    "collapsed": false,
    "pycharm": {
     "name": "#%%\n"
    }
   }
  },
  {
   "cell_type": "code",
   "execution_count": 68,
   "outputs": [
    {
     "data": {
      "text/plain": "  0%|          | 0/13357 [00:00<?, ?it/s]",
      "application/vnd.jupyter.widget-view+json": {
       "version_major": 2,
       "version_minor": 0,
       "model_id": "889707576c9b4188a51f256f5ecc1e43"
      }
     },
     "metadata": {},
     "output_type": "display_data"
    }
   ],
   "source": [
    "tfidf_docs = {}\n",
    "_, _, filenames = next(walk('/home/harry/PycharmProjects/congress/docs/'))\n",
    "for filename in tqdm(filenames):\n",
    "    with open('/home/harry/PycharmProjects/congress/docs/'+filename, 'r') as bill:\n",
    "        bill_reader = csv.reader(bill, delimiter='\\t')\n",
    "        for line in bill_reader:\n",
    "            tfidf_docs[line[0]] = dictionary.doc2bow(lexnlp.nlp.en.tokens.get_token_list(line[1], lowercase=True, stopword=True))\n"
   ],
   "metadata": {
    "collapsed": false,
    "pycharm": {
     "name": "#%%\n"
    }
   }
  },
  {
   "cell_type": "code",
   "execution_count": null,
   "outputs": [],
   "source": [
    "# model.docvecs.most_similar(positive=[model.docvecs.doctags[bill_docs].offset], topn=30)\n",
    "sims = index[tfidf_docs[bill_docs[1]]]  # p\n",
    "# sims = sorted(enumerate(sims), key=lambda item: -item[1])\n",
    "# for doc_position, doc_score in sims[:10]:\n",
    "#     print(doc_score, docids[doc_position], index_to_original_text(docids[doc_position]))\n",
    "topk = np.argpartition(sims, -10)[-10:]\n",
    "sim_dict = {}\n",
    "for doc_position in topk:\n",
    "    sim_dict[docids[doc_position]] = sims[doc_position]"
   ],
   "metadata": {
    "collapsed": false,
    "pycharm": {
     "name": "#%%\n"
    }
   }
  },
  {
   "cell_type": "code",
   "execution_count": 96,
   "outputs": [],
   "source": [
    "@ray.remote #27 min\n",
    "def multi_overlaps_confidence_tfidf(mod, args, tfidf_id2bow, tfidf_idx2id):\n",
    "    start = time.time()\n",
    "    found = 0\n",
    "    total = 0\n",
    "    conf_max = 0\n",
    "    conf_min = 1\n",
    "    conf_tot = 0\n",
    "    for name, align_set in args:\n",
    "        num_aligns = len(align_set)\n",
    "        sims = mod[tfidf_id2bow[name]]\n",
    "        topk = np.argpartition(sims, -10)[-10:]\n",
    "        similar_dict = {}\n",
    "        for doc_position in topk:\n",
    "            similar_dict[tfidf_idx2id[doc_position]] = sims[doc_position]\n",
    "        total += num_aligns\n",
    "        conf_list = []\n",
    "        for doc in align_set:\n",
    "            if doc in similar_dict:\n",
    "                conf_list.append(similar_dict[doc])\n",
    "        if len(conf_list) > 0:\n",
    "            found += len(conf_list)\n",
    "            conf_max = max(conf_max, max(conf_list))\n",
    "            conf_min = min(conf_min, min(conf_list))\n",
    "            conf_tot = conf_tot + sum(conf_list)\n",
    "    end = time.time()\n",
    "    print(end - start)\n",
    "    return found, total, conf_tot, conf_min, conf_max\n",
    "\n",
    "def get_alignments_accuracy_tfidf(tfidf_index, alignments_dict, tfidf_id2bow, tfidf_idx2id):\n",
    "    idx_id = ray.put(tfidf_index)\n",
    "    dict_id = ray.put(tfidf_id2bow)\n",
    "    ids_id = ray.put(tfidf_idx2id)\n",
    "    tags_chunks = np.array_split(np.array(list(alignments_dict.items())), 5)\n",
    "    tasks_pre_launch = [\n",
    "        multi_overlaps_confidence_tfidf.remote(idx_id, chunk, dict_id, ids_id) for chunk in tags_chunks\n",
    "    ]\n",
    "    r = ray.get(tasks_pre_launch)\n",
    "    found, total, conf_tot, conf_min, conf_max = zip(*r)\n",
    "    print(f\"Accuracy: {sum(found)/sum(total)}, \"\n",
    "          f\"Avg Conf: {sum(conf_tot)/sum(total)}, \"\n",
    "          f\"Min Conf: {min(conf_min)}, \"\n",
    "          f\"Max Conf: {max(conf_max)}\")\n",
    "    return r\n",
    "\n",
    "\n",
    "\n",
    "@ray.remote\n",
    "def multi_overlaps(mod, args):\n",
    "    start = time.time()\n",
    "    found = 0\n",
    "    total = 0\n",
    "    for name, align_set in args:\n",
    "        num_aligns = len(align_set)\n",
    "        similar_docs, _ = zip(*mod.most_similar(positive=[mod.doctags[name].offset], topn=num_aligns))\n",
    "        found += len(align_set & set(similar_docs))\n",
    "        total += num_aligns\n",
    "\n",
    "    end = time.time()\n",
    "    print(end - start)\n",
    "    return found, total\n",
    "\n",
    "@ray.remote\n",
    "def multi_overlaps_confidence_threshold(mod, args):\n",
    "    start = time.time()\n",
    "    found = 0\n",
    "    total = 0\n",
    "    conf_max = 0\n",
    "    conf_min = 1\n",
    "    conf_tot = 0\n",
    "    for name, align_set in args:\n",
    "        num_aligns = len(align_set)\n",
    "        similar_dict = dict(mod.most_similar(positive=[mod.doctags[name].offset], topn=num_aligns))\n",
    "        total += num_aligns\n",
    "        conf_list = []\n",
    "        for doc in align_set:\n",
    "            if doc in similar_dict:\n",
    "                if float(similar_dict[doc]) > 0.8:\n",
    "                    conf_list.append(similar_dict[doc])\n",
    "        if len(conf_list) > 0:\n",
    "            found += len(conf_list)\n",
    "            conf_max = max(conf_max, max(conf_list))\n",
    "            conf_min = min(conf_min, min(conf_list))\n",
    "            conf_tot = conf_tot + sum(conf_list)\n",
    "    end = time.time()\n",
    "    print(end - start)\n",
    "    return found, total, conf_tot, conf_min, conf_max\n",
    "\n",
    "@ray.remote\n",
    "def multi_overlaps_confidence(mod, args):\n",
    "    start = time.time()\n",
    "    found = 0\n",
    "    total = 0\n",
    "    conf_max = 0\n",
    "    conf_min = 1\n",
    "    conf_tot = 0\n",
    "    for name, align_set in args:\n",
    "        num_aligns = len(align_set)\n",
    "        similar_dict = dict(mod.most_similar(positive=[mod.doctags[name].offset], topn=num_aligns))\n",
    "        total += num_aligns\n",
    "        conf_list = []\n",
    "        for doc in align_set:\n",
    "            if doc in similar_dict:\n",
    "                conf_list.append(similar_dict[doc])\n",
    "        if len(conf_list) > 0:\n",
    "            found += len(conf_list)\n",
    "            conf_max = max(conf_max, max(conf_list))\n",
    "            conf_min = min(conf_min, min(conf_list))\n",
    "            conf_tot = conf_tot + sum(conf_list)\n",
    "    end = time.time()\n",
    "    print(end - start)\n",
    "    return found, total, conf_tot, conf_min, conf_max\n",
    "\n",
    "def get_alignments_accuracy_threshold(doc2vec_model, alignments_dict):\n",
    "    model_id = ray.put(doc2vec_model.docvecs)\n",
    "    tags_chunks = np.array_split(np.array(list(alignments_dict.items())), 5)\n",
    "    tasks_pre_launch = [\n",
    "        multi_overlaps_confidence_threshold.remote(model_id, chunk) for chunk in tags_chunks\n",
    "    ]\n",
    "    r = ray.get(tasks_pre_launch)\n",
    "    found, total, conf_tot, conf_min, conf_max = zip(*r)\n",
    "    print(f\"Accuracy: {sum(found)/sum(total)}, \"\n",
    "          f\"Avg Conf: {sum(conf_tot)/sum(total)}, \"\n",
    "          f\"Min Conf: {min(conf_min)}, \"\n",
    "          f\"Max Conf: {max(conf_max)}\")\n",
    "    return r\n",
    "\n",
    "def get_alignments_accuracy(doc2vec_model, alignments_dict):\n",
    "    model_id = ray.put(doc2vec_model.docvecs)\n",
    "    tags_chunks = np.array_split(np.array(list(alignments_dict.items())), 5)\n",
    "    tasks_pre_launch = [\n",
    "        multi_overlaps_confidence.remote(model_id, chunk) for chunk in tags_chunks\n",
    "    ]\n",
    "    r = ray.get(tasks_pre_launch)\n",
    "    found, total, conf_tot, conf_min, conf_max = zip(*r)\n",
    "    print(f\"Accuracy: {sum(found)/sum(total)}, \"\n",
    "          f\"Avg Conf: {sum(conf_tot)/sum(total)}, \"\n",
    "          f\"Min Conf: {min(conf_min)}, \"\n",
    "          f\"Max Conf: {max(conf_max)}\")\n",
    "    return r"
   ],
   "metadata": {
    "collapsed": false,
    "pycharm": {
     "name": "#%%\n"
    }
   }
  },
  {
   "cell_type": "code",
   "execution_count": 119,
   "outputs": [
    {
     "name": "stderr",
     "output_type": "stream",
     "text": [
      "2021-04-29 16:59:38,877\tINFO services.py:1267 -- View the Ray dashboard at \u001B[1m\u001B[32mhttp://127.0.0.1:8265\u001B[39m\u001B[22m\n"
     ]
    },
    {
     "data": {
      "text/plain": "{'node_ip_address': '192.168.0.190',\n 'raylet_ip_address': '192.168.0.190',\n 'redis_address': '192.168.0.190:6379',\n 'object_store_address': '/tmp/ray/session_2021-04-29_16-59-37_460479_420890/sockets/plasma_store',\n 'raylet_socket_name': '/tmp/ray/session_2021-04-29_16-59-37_460479_420890/sockets/raylet',\n 'webui_url': '127.0.0.1:8265',\n 'session_dir': '/tmp/ray/session_2021-04-29_16-59-37_460479_420890',\n 'metrics_export_port': 46145,\n 'node_id': 'cc3a4d140f25e60779ae35e5251cf78be166016378bb93564ca80925'}"
     },
     "execution_count": 119,
     "metadata": {},
     "output_type": "execute_result"
    }
   ],
   "source": [
    "ray.shutdown()\n",
    "ray.init(num_cpus = 5)"
   ],
   "metadata": {
    "collapsed": false,
    "pycharm": {
     "name": "#%%\n"
    }
   }
  },
  {
   "cell_type": "code",
   "execution_count": 188,
   "outputs": [],
   "source": [
    "similar_dict = {}\n",
    "similar_dict_eq = {}\n",
    "for bill in bill_docs:\n",
    "    similar_docs = d2vmod.docvecs.most_similar(positive=[d2vmod.docvecs.doctags[bill].offset], topn=10)\n",
    "    for sim, score in similar_docs:\n",
    "        name = sim.rsplit(\"_\",2)[0]\n",
    "        if name in similar_dict:\n",
    "            similar_dict[name] += score\n",
    "            similar_dict_eq[name] += 1\n",
    "        else:\n",
    "            similar_dict[name] = score\n",
    "            similar_dict_eq[name] = 1"
   ],
   "metadata": {
    "collapsed": false,
    "pycharm": {
     "name": "#%%\n"
    }
   }
  },
  {
   "cell_type": "code",
   "execution_count": 189,
   "outputs": [
    {
     "name": "stdout",
     "output_type": "stream",
     "text": [
      "8\n"
     ]
    },
    {
     "data": {
      "text/plain": "array([1658.47415698,  965.22815508,  246.74993443,  181.77211624,\n        126.42841983,  123.41092718,  102.80006558,   81.48649108,\n         77.87481868,   76.29928893,   74.39130473,   68.88009971,\n         67.42218703,   66.75535935,   66.04276782,   63.6930415 ,\n         63.67589718,   61.39065701,   59.95150948,   57.36542934,\n         56.43238217,   56.16943818,   53.16013938,   47.72028059,\n         46.8153584 ,   46.52214557,   45.66765827,   43.1027149 ,\n         42.82223147,   41.2341066 ])"
     },
     "execution_count": 189,
     "metadata": {},
     "output_type": "execute_result"
    }
   ],
   "source": [
    "bills, scores = zip(*similar_dict.items())\n",
    "topn = np.argsort(-np.array(scores))\n",
    "np.array(scores)[topn][:30]"
   ],
   "metadata": {
    "collapsed": false,
    "pycharm": {
     "name": "#%%\n"
    }
   }
  },
  {
   "cell_type": "code",
   "execution_count": 190,
   "outputs": [
    {
     "name": "stdout",
     "output_type": "stream",
     "text": [
      "{'data__115__bills__s__s1698', 'data__115__bills__hr__hr1262', 'data__115__bills__s__s293', 'data__115__bills__hr__hr828', 'data__115__bills__hr__hr1', 'data__115__bills__hr__hr3524', 'data__115__bills__hr__hr3084', 'data__115__bills__s__s1444'}\n"
     ]
    },
    {
     "data": {
      "text/plain": "array([2006, 1146,  308,  214,  142,  142,  115,   99,   92,   89,   84,\n         82,   81,   80,   77,   74,   74,   74,   73,   72,   72,   70,\n         67,   59,   56,   56,   54,   54,   53,   52])"
     },
     "execution_count": 190,
     "metadata": {},
     "output_type": "execute_result"
    }
   ],
   "source": [
    "bills, scores = zip(*similar_dict_eq.items())\n",
    "topn = np.argsort(-np.array(scores))\n",
    "np.array(scores)[topn][:30]"
   ],
   "metadata": {
    "collapsed": false,
    "pycharm": {
     "name": "#%%\n"
    }
   }
  },
  {
   "cell_type": "code",
   "execution_count": null,
   "outputs": [],
   "source": [],
   "metadata": {
    "collapsed": false,
    "pycharm": {
     "name": "#%%\n"
    }
   }
  },
  {
   "cell_type": "code",
   "execution_count": null,
   "outputs": [],
   "source": [
    "# r0 = get_alignments_accuracy_tfidf(index, alignment_dict, tfidf_docs, docids)"
   ],
   "metadata": {
    "collapsed": false,
    "pycharm": {
     "name": "#%%\n"
    }
   }
  },
  {
   "cell_type": "code",
   "execution_count": 121,
   "outputs": [
    {
     "name": "stdout",
     "output_type": "stream",
     "text": [
      "\u001B[2m\u001B[36m(pid=575168)\u001B[0m 731.6713674068451\n",
      "\u001B[2m\u001B[36m(pid=575168)\u001B[0m 731.6713674068451\n",
      "\u001B[2m\u001B[36m(pid=575168)\u001B[0m 731.6713674068451\n",
      "\u001B[2m\u001B[36m(pid=575168)\u001B[0m 731.6713674068451\n",
      "\u001B[2m\u001B[36m(pid=575168)\u001B[0m 731.6713674068451\n",
      "\u001B[2m\u001B[36m(pid=575168)\u001B[0m 731.6713674068451\n",
      "\u001B[2m\u001B[36m(pid=575168)\u001B[0m 731.6713674068451\n",
      "\u001B[2m\u001B[36m(pid=575168)\u001B[0m 731.6713674068451\n",
      "\u001B[2m\u001B[36m(pid=575168)\u001B[0m 731.6713674068451\n",
      "\u001B[2m\u001B[36m(pid=575168)\u001B[0m 731.6713674068451\n",
      "\u001B[2m\u001B[36m(pid=575167)\u001B[0m 732.595486164093\n",
      "\u001B[2m\u001B[36m(pid=575167)\u001B[0m 732.595486164093\n",
      "\u001B[2m\u001B[36m(pid=575167)\u001B[0m 732.595486164093\n",
      "\u001B[2m\u001B[36m(pid=575167)\u001B[0m 732.595486164093\n",
      "\u001B[2m\u001B[36m(pid=575167)\u001B[0m 732.595486164093\n",
      "\u001B[2m\u001B[36m(pid=575167)\u001B[0m 732.595486164093\n",
      "\u001B[2m\u001B[36m(pid=575167)\u001B[0m 732.595486164093\n",
      "\u001B[2m\u001B[36m(pid=575167)\u001B[0m 732.595486164093\n",
      "\u001B[2m\u001B[36m(pid=575167)\u001B[0m 732.595486164093\n",
      "\u001B[2m\u001B[36m(pid=575167)\u001B[0m 732.595486164093\n",
      "\u001B[2m\u001B[36m(pid=575171)\u001B[0m 789.9112827777863\n",
      "\u001B[2m\u001B[36m(pid=575171)\u001B[0m 789.9112827777863\n",
      "\u001B[2m\u001B[36m(pid=575171)\u001B[0m 789.9112827777863\n",
      "\u001B[2m\u001B[36m(pid=575171)\u001B[0m 789.9112827777863\n",
      "\u001B[2m\u001B[36m(pid=575171)\u001B[0m 789.9112827777863\n",
      "\u001B[2m\u001B[36m(pid=575171)\u001B[0m 789.9112827777863\n",
      "\u001B[2m\u001B[36m(pid=575171)\u001B[0m 789.9112827777863\n",
      "\u001B[2m\u001B[36m(pid=575171)\u001B[0m 789.9112827777863\n",
      "\u001B[2m\u001B[36m(pid=575171)\u001B[0m 789.9112827777863\n",
      "\u001B[2m\u001B[36m(pid=575171)\u001B[0m 789.9112827777863\n",
      "\u001B[2m\u001B[36m(pid=575170)\u001B[0m 790.0510680675507\n",
      "\u001B[2m\u001B[36m(pid=575170)\u001B[0m 790.0510680675507\n",
      "\u001B[2m\u001B[36m(pid=575170)\u001B[0m 790.0510680675507\n",
      "\u001B[2m\u001B[36m(pid=575170)\u001B[0m 790.0510680675507\n",
      "\u001B[2m\u001B[36m(pid=575170)\u001B[0m 790.0510680675507\n",
      "\u001B[2m\u001B[36m(pid=575170)\u001B[0m 790.0510680675507\n",
      "\u001B[2m\u001B[36m(pid=575170)\u001B[0m 790.0510680675507\n",
      "\u001B[2m\u001B[36m(pid=575170)\u001B[0m 790.0510680675507\n",
      "\u001B[2m\u001B[36m(pid=575170)\u001B[0m 790.0510680675507\n",
      "\u001B[2m\u001B[36m(pid=575170)\u001B[0m 790.0510680675507\n",
      "\u001B[2m\u001B[36m(pid=575169)\u001B[0m 790.8928959369659\n",
      "\u001B[2m\u001B[36m(pid=575169)\u001B[0m 790.8928959369659\n",
      "\u001B[2m\u001B[36m(pid=575169)\u001B[0m 790.8928959369659\n",
      "\u001B[2m\u001B[36m(pid=575169)\u001B[0m 790.8928959369659\n",
      "\u001B[2m\u001B[36m(pid=575169)\u001B[0m 790.8928959369659\n",
      "\u001B[2m\u001B[36m(pid=575169)\u001B[0m 790.8928959369659\n",
      "\u001B[2m\u001B[36m(pid=575169)\u001B[0m 790.8928959369659\n",
      "\u001B[2m\u001B[36m(pid=575169)\u001B[0m 790.8928959369659\n",
      "\u001B[2m\u001B[36m(pid=575169)\u001B[0m 790.8928959369659\n",
      "\u001B[2m\u001B[36m(pid=575169)\u001B[0m 790.8928959369659\n",
      "Accuracy: 0.6413136708061461, Avg Conf: 0.5524255763678579, Min Conf: 0.4985868036746979, Max Conf: 0.9780758023262024\n"
     ]
    }
   ],
   "source": [
    "r1 = get_alignments_accuracy(models_by_name[simple_models[0]], alignment_dict)"
   ],
   "metadata": {
    "collapsed": false,
    "pycharm": {
     "name": "#%%\n"
    }
   }
  },
  {
   "cell_type": "code",
   "execution_count": 122,
   "outputs": [],
   "source": [
    "# r2 = get_alignments_accuracy_threshold(models_by_name['Doc2Vecdbowd100n5mc2t5lex'], alignment_dict)"
   ],
   "metadata": {
    "collapsed": false,
    "pycharm": {
     "name": "#%%\n"
    }
   }
  },
  {
   "cell_type": "code",
   "execution_count": 123,
   "outputs": [
    {
     "name": "stdout",
     "output_type": "stream",
     "text": [
      "\u001B[2m\u001B[36m(pid=575168)\u001B[0m 745.2679505348206\n",
      "\u001B[2m\u001B[36m(pid=575168)\u001B[0m 745.2679505348206\n",
      "\u001B[2m\u001B[36m(pid=575168)\u001B[0m 745.2679505348206\n",
      "\u001B[2m\u001B[36m(pid=575168)\u001B[0m 745.2679505348206\n",
      "\u001B[2m\u001B[36m(pid=575168)\u001B[0m 745.2679505348206\n",
      "\u001B[2m\u001B[36m(pid=575168)\u001B[0m 745.2679505348206\n",
      "\u001B[2m\u001B[36m(pid=575168)\u001B[0m 745.2679505348206\n",
      "\u001B[2m\u001B[36m(pid=575168)\u001B[0m 745.2679505348206\n",
      "\u001B[2m\u001B[36m(pid=575168)\u001B[0m 745.2679505348206\n",
      "\u001B[2m\u001B[36m(pid=575168)\u001B[0m 745.2679505348206\n",
      "\u001B[2m\u001B[36m(pid=575167)\u001B[0m 749.4787666797638\n",
      "\u001B[2m\u001B[36m(pid=575167)\u001B[0m 749.4787666797638\n",
      "\u001B[2m\u001B[36m(pid=575167)\u001B[0m 749.4787666797638\n",
      "\u001B[2m\u001B[36m(pid=575167)\u001B[0m 749.4787666797638\n",
      "\u001B[2m\u001B[36m(pid=575167)\u001B[0m 749.4787666797638\n",
      "\u001B[2m\u001B[36m(pid=575167)\u001B[0m 749.4787666797638\n",
      "\u001B[2m\u001B[36m(pid=575167)\u001B[0m 749.4787666797638\n",
      "\u001B[2m\u001B[36m(pid=575167)\u001B[0m 749.4787666797638\n",
      "\u001B[2m\u001B[36m(pid=575167)\u001B[0m 749.4787666797638\n",
      "\u001B[2m\u001B[36m(pid=575167)\u001B[0m 749.4787666797638\n",
      "\u001B[2m\u001B[36m(pid=575171)\u001B[0m 802.0797574520111\n",
      "\u001B[2m\u001B[36m(pid=575171)\u001B[0m 802.0797574520111\n",
      "\u001B[2m\u001B[36m(pid=575171)\u001B[0m 802.0797574520111\n",
      "\u001B[2m\u001B[36m(pid=575171)\u001B[0m 802.0797574520111\n",
      "\u001B[2m\u001B[36m(pid=575171)\u001B[0m 802.0797574520111\n",
      "\u001B[2m\u001B[36m(pid=575171)\u001B[0m 802.0797574520111\n",
      "\u001B[2m\u001B[36m(pid=575171)\u001B[0m 802.0797574520111\n",
      "\u001B[2m\u001B[36m(pid=575171)\u001B[0m 802.0797574520111\n",
      "\u001B[2m\u001B[36m(pid=575171)\u001B[0m 802.0797574520111\n",
      "\u001B[2m\u001B[36m(pid=575171)\u001B[0m 802.0797574520111\n",
      "\u001B[2m\u001B[36m(pid=575170)\u001B[0m 802.1529762744904\n",
      "\u001B[2m\u001B[36m(pid=575170)\u001B[0m 802.1529762744904\n",
      "\u001B[2m\u001B[36m(pid=575170)\u001B[0m 802.1529762744904\n",
      "\u001B[2m\u001B[36m(pid=575170)\u001B[0m 802.1529762744904\n",
      "\u001B[2m\u001B[36m(pid=575170)\u001B[0m 802.1529762744904\n",
      "\u001B[2m\u001B[36m(pid=575170)\u001B[0m 802.1529762744904\n",
      "\u001B[2m\u001B[36m(pid=575170)\u001B[0m 802.1529762744904\n",
      "\u001B[2m\u001B[36m(pid=575170)\u001B[0m 802.1529762744904\n",
      "\u001B[2m\u001B[36m(pid=575170)\u001B[0m 802.1529762744904\n",
      "\u001B[2m\u001B[36m(pid=575170)\u001B[0m 802.1529762744904\n",
      "\u001B[2m\u001B[36m(pid=575169)\u001B[0m 802.9073877334595\n",
      "\u001B[2m\u001B[36m(pid=575169)\u001B[0m 802.9073877334595\n",
      "\u001B[2m\u001B[36m(pid=575169)\u001B[0m 802.9073877334595\n",
      "\u001B[2m\u001B[36m(pid=575169)\u001B[0m 802.9073877334595\n",
      "\u001B[2m\u001B[36m(pid=575169)\u001B[0m 802.9073877334595\n",
      "\u001B[2m\u001B[36m(pid=575169)\u001B[0m 802.9073877334595\n",
      "\u001B[2m\u001B[36m(pid=575169)\u001B[0m 802.9073877334595\n",
      "\u001B[2m\u001B[36m(pid=575169)\u001B[0m 802.9073877334595\n",
      "\u001B[2m\u001B[36m(pid=575169)\u001B[0m 802.9073877334595\n",
      "\u001B[2m\u001B[36m(pid=575169)\u001B[0m 802.9073877334595\n",
      "Accuracy: 0.2744803725531467, Avg Conf: 0.23138285161971645, Min Conf: 0.39176511764526367, Max Conf: 0.9905410408973694\n"
     ]
    }
   ],
   "source": [
    "r3 = get_alignments_accuracy(models_by_name[simple_models[1]], alignment_dict)"
   ],
   "metadata": {
    "collapsed": false,
    "pycharm": {
     "name": "#%%\n"
    }
   }
  },
  {
   "cell_type": "code",
   "execution_count": 111,
   "outputs": [
    {
     "data": {
      "text/plain": "0.7795512825223797"
     },
     "execution_count": 111,
     "metadata": {},
     "output_type": "execute_result"
    }
   ],
   "source": [
    "found, total, conf_tot, conf_min, conf_max = zip(*r1)\n",
    "sum(conf_tot)/sum(found)\n",
    "# sum(total)"
   ],
   "metadata": {
    "collapsed": false,
    "pycharm": {
     "name": "#%%\n"
    }
   }
  },
  {
   "cell_type": "code",
   "execution_count": null,
   "outputs": [],
   "source": [
    "model.docvecs.doctags['data__115__bills__s__s1_42_374'].offset"
   ],
   "metadata": {
    "collapsed": false,
    "pycharm": {
     "name": "#%%\n"
    }
   }
  },
  {
   "cell_type": "code",
   "execution_count": null,
   "outputs": [],
   "source": [
    "top_sim = model.docvecs.most_similar(positive=test_bill, topn=30)"
   ],
   "metadata": {
    "collapsed": false,
    "pycharm": {
     "name": "#%%\n"
    }
   }
  },
  {
   "cell_type": "code",
   "execution_count": null,
   "outputs": [],
   "source": [
    "index_temp = get_tmpfile(\"d2v_index\")\n",
    "index = Similarity(index_temp, model.docvecs.vectors_docs,num_best=10, num_features=100)  #"
   ],
   "metadata": {
    "collapsed": false,
    "pycharm": {
     "name": "#%%\n"
    }
   }
  },
  {
   "cell_type": "code",
   "execution_count": 70,
   "outputs": [],
   "source": [
    "top_10 = index[model.docvecs.vectors_docs_norm[103510]]\n",
    "# top_10_arg = top_10.argsort()[-10:]"
   ],
   "metadata": {
    "collapsed": false,
    "pycharm": {
     "name": "#%%\n"
    }
   }
  },
  {
   "cell_type": "code",
   "execution_count": 11,
   "outputs": [
    {
     "data": {
      "text/plain": "103510"
     },
     "execution_count": 11,
     "metadata": {},
     "output_type": "execute_result"
    }
   ],
   "source": [
    "model.docvecs.doctags['data__115__bills__s__s1_42_374'].offset"
   ],
   "metadata": {
    "collapsed": false,
    "pycharm": {
     "name": "#%%\n"
    }
   }
  },
  {
   "cell_type": "code",
   "execution_count": 12,
   "outputs": [],
   "source": [
    "with open('/home/harry/PycharmProjects/congress/docs/data__115__bills__s__s1', 'r') as bill:\n",
    "    bill_reader = csv.reader(bill, delimiter='\\t')\n",
    "    test_bill = [model.docvecs.doctags[line[0]].offset for line in bill_reader]"
   ],
   "metadata": {
    "collapsed": false,
    "pycharm": {
     "name": "#%%\n"
    }
   }
  },
  {
   "cell_type": "code",
   "execution_count": 14,
   "outputs": [],
   "source": [
    "bill_dict = {}\n",
    "similar_docs = model.docvecs.most_similar(positive=test_bill, topn=len(model.docvecs.doctags))\n",
    "for doc,sim in similar_docs:\n",
    "    if sim < 0.8:\n",
    "        break\n",
    "    idx = doc.rsplit('_',2)[0]\n",
    "    if idx in bill_dict:\n",
    "        bill_dict[idx] += 1\n",
    "    else:\n",
    "        bill_dict[idx] = 1\n",
    "\n",
    "bill_keys, bill_values = zip(*bill_dict.items())\n",
    "arg_idx = list(reversed(np.array(bill_values).argsort()))"
   ],
   "metadata": {
    "collapsed": false,
    "pycharm": {
     "name": "#%%\n"
    }
   }
  },
  {
   "cell_type": "code",
   "execution_count": 15,
   "outputs": [
    {
     "data": {
      "text/plain": "array(['data__115__bills__s__s3042', 'data__115__bills__hr__hr1285',\n       'data__115__bills__s__s3660', 'data__115__bills__hr__hr5785',\n       'data__115__bills__s__s2018', 'data__115__bills__s__s2977',\n       'data__115__bills__s__s2184', 'data__115__bills__hr__hr6543',\n       'data__115__bills__s__s2906', 'data__115__bills__hr__hr7334',\n       'data__115__bills__hr__hr691', 'data__115__bills__hr__hr3043',\n       'data__115__bills__s__s3799', 'data__115__bills__hr__hr151',\n       'data__115__bills__s__s3781', 'data__115__bills__s__s3712',\n       'data__115__bills__hr__hr5917', 'data__115__bills__s__s1112',\n       'data__115__bills__s__s458', 'data__115__bills__hr__hr6450',\n       'data__115__bills__hr__hr4743', 'data__115__bills__sres__sres673',\n       'data__115__bills__s__s1460', 'data__115__bills__hr__hr3219',\n       'data__115__bills__hr__hr1710', 'data__115__bills__hres__hres926',\n       'data__115__bills__hres__hres1082', 'data__115__bills__s__s3136',\n       'data__115__bills__hr__hr2849', 'data__115__bills__hr__hr4782'],\n      dtype='<U33')"
     },
     "execution_count": 15,
     "metadata": {},
     "output_type": "execute_result"
    }
   ],
   "source": [
    "np.array(bill_keys)[arg_idx[:30]]"
   ],
   "metadata": {
    "collapsed": false,
    "pycharm": {
     "name": "#%%\n"
    }
   }
  },
  {
   "cell_type": "code",
   "execution_count": 16,
   "outputs": [
    {
     "data": {
      "text/plain": "array([3, 2, 2, 2, 2, 2, 2, 2, 2, 2, 1, 1, 1, 1, 1, 1, 1, 1, 1, 1, 1, 1,\n       1, 1, 1, 1, 1, 1, 1, 1])"
     },
     "execution_count": 16,
     "metadata": {},
     "output_type": "execute_result"
    }
   ],
   "source": [
    "np.array(bill_values)[arg_idx[:30]]"
   ],
   "metadata": {
    "collapsed": false,
    "pycharm": {
     "name": "#%%\n"
    }
   }
  },
  {
   "cell_type": "code",
   "execution_count": 105,
   "outputs": [],
   "source": [
    "from datetime import datetime\n",
    "# datetime.fromisoformat('2011-11-04')\n",
    "doc_dates = {}\n",
    "bill_docs = []\n",
    "_, _, filenames = next(walk('/home/harry/PycharmProjects/congress/docs/'))\n",
    "for file_part in filenames:\n",
    "    with open(f'/home/harry/PycharmProjects/congress/docs/{file_part}', 'r') as csv_file:\n",
    "        bill_reader = csv.reader(csv_file, delimiter='\\t')\n",
    "        for line in bill_reader:\n",
    "            doc_dates[line[0]] = datetime.fromisoformat(line[2])\n",
    "            bill_docs.append(line[0])\n"
   ],
   "metadata": {
    "collapsed": false,
    "pycharm": {
     "name": "#%%\n"
    }
   }
  },
  {
   "cell_type": "code",
   "execution_count": 57,
   "outputs": [],
   "source": [
    "with open('/home/harry/PycharmProjects/congress/docs/data__115__bills__s__s1', 'r') as bill:\n",
    "    bill_reader = csv.reader(bill, delimiter='\\t')\n",
    "    bill_docs = [line[0] for line in bill_reader]"
   ],
   "metadata": {
    "collapsed": false,
    "pycharm": {
     "name": "#%%\n"
    }
   }
  },
  {
   "cell_type": "code",
   "execution_count": null,
   "outputs": [],
   "source": [
    "hash_set = set()\n",
    "count = 0\n",
    "with open('doc2vec_relationships.csv', 'w') as csv_file:\n",
    "    writer = csv.writer(csv_file)\n",
    "    for bill in tqdm(bill_docs):\n",
    "        similar_docs = model.docvecs.most_similar(positive=[model.docvecs.doctags[bill].offset], topn=30)\n",
    "        for doc,sim in similar_docs:\n",
    "            if sim < 0.95:\n",
    "                break\n",
    "            curr_hash = hash(doc+bill)\n",
    "            if curr_hash not in hash_set:\n",
    "                hash_set.add(curr_hash)\n",
    "                if doc_dates[doc] < doc_dates[bill] or (doc_dates[doc] == doc_dates[bill] and doc < bill):\n",
    "                    writer.writerow([doc,bill,sim])\n",
    "                else:\n",
    "                    writer.writerow([bill,doc,sim])\n",
    "                count += 1\n",
    "count"
   ],
   "metadata": {
    "collapsed": false,
    "pycharm": {
     "name": "#%%\n"
    }
   }
  },
  {
   "cell_type": "code",
   "execution_count": null,
   "outputs": [],
   "source": [],
   "metadata": {
    "collapsed": false,
    "pycharm": {
     "name": "#%%\n"
    }
   }
  },
  {
   "cell_type": "code",
   "execution_count": null,
   "outputs": [],
   "source": [],
   "metadata": {
    "collapsed": false,
    "pycharm": {
     "name": "#%%\n"
    }
   }
  }
 ],
 "metadata": {
  "kernelspec": {
   "display_name": "Python 3",
   "language": "python",
   "name": "python3"
  },
  "language_info": {
   "codemirror_mode": {
    "name": "ipython",
    "version": 2
   },
   "file_extension": ".py",
   "mimetype": "text/x-python",
   "name": "python",
   "nbconvert_exporter": "python",
   "pygments_lexer": "ipython2",
   "version": "2.7.6"
  }
 },
 "nbformat": 4,
 "nbformat_minor": 0
}