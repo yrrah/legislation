{
 "cells": [
  {
   "cell_type": "code",
   "execution_count": 1,
   "metadata": {
    "collapsed": true
   },
   "outputs": [
    {
     "data": {
      "text/plain": "<Figure size 432x288 with 1 Axes>",
      "image/png": "[encoded data removed]"
     },
     "metadata": {
      "needs_background": "light"
     },
     "output_type": "display_data"
    }
   ],
   "source": [
    "import csv\n",
    "import numpy as np\n",
    "from os import walk\n",
    "import matplotlib.pyplot as plt\n",
    "\n",
    "characters = []\n",
    "_, _, filenames = next(walk('/home/harry/PycharmProjects/congress/docs/'))\n",
    "for file_part in filenames:\n",
    "    with open(f'/home/harry/PycharmProjects/congress/docs/{file_part}', 'r') as csv_file:\n",
    "        bill_reader = csv.reader(csv_file, delimiter='\\t')\n",
    "        for line in bill_reader:\n",
    "            characters.append(int(line[0].rsplit('_',1)[1]))\n",
    "\n",
    "rng = np.random.RandomState(10)  # deterministic random data\n",
    "a = np.array(characters)\n",
    "_ = plt.hist(a, bins='auto')  # arguments are passed to np.histogram\n",
    "# plt.title(\"Histogram with 'auto' bins\")\n",
    "axes = plt.gca()\n",
    "# axes.set_xlim([0,1000])\n",
    "# plt.xticks([x for x in range(0,1100,100)])\n",
    "plt.ylabel(\"Count\")\n",
    "plt.xlabel(\"Characters per Text Node\")\n",
    "plt.yscale('log')\n",
    "plt.xscale('log')\n",
    "plt.show()"
   ]
  },
  {
   "cell_type": "code",
   "execution_count": 2,
   "outputs": [
    {
     "data": {
      "text/plain": "<Figure size 432x288 with 1 Axes>",
      "image/png": "[encoded data removed]"
     },
     "metadata": {
      "needs_background": "light"
     },
     "output_type": "display_data"
    }
   ],
   "source": [
    "node_count = {}\n",
    "_, _, filenames = next(walk('/home/harry/PycharmProjects/congress/docs/'))\n",
    "for file_part in filenames:\n",
    "    with open(f'/home/harry/PycharmProjects/congress/docs/{file_part}', 'r') as csv_file:\n",
    "        bill_reader = csv.reader(csv_file, delimiter='\\t')\n",
    "        for line in bill_reader:\n",
    "            name = line[0].rsplit('_',2)[0]\n",
    "            if name in node_count:\n",
    "                node_count[name] += 1\n",
    "            else:\n",
    "                node_count[name] = 1\n",
    "\n",
    "rng = np.random.RandomState(10)  # deterministic random data\n",
    "a = np.array(list(node_count.values()))\n",
    "plt.hist(a, bins='auto')  # arguments are passed to np.histogram\n",
    "# plt.title(\"Histogram with 'auto' bins\")\n",
    "axes = plt.gca()\n",
    "# axes.set_xlim([0,250])\n",
    "# plt.xticks([x for x in range(0,1100,100)])\n",
    "plt.ylabel(\"Count\")\n",
    "plt.xlabel(\"Text Nodes per Document\")\n",
    "plt.yscale('log')\n",
    "plt.xscale('log')\n",
    "plt.show()"
   ],
   "metadata": {
    "collapsed": false,
    "pycharm": {
     "name": "#%%\n"
    }
   }
  },
  {
   "cell_type": "code",
   "execution_count": 2,
   "outputs": [],
   "source": [],
   "metadata": {
    "collapsed": false,
    "pycharm": {
     "name": "#%%\n"
    }
   }
  }
 ],
 "metadata": {
  "kernelspec": {
   "display_name": "Python 3",
   "language": "python",
   "name": "python3"
  },
  "language_info": {
   "codemirror_mode": {
    "name": "ipython",
    "version": 2
   },
   "file_extension": ".py",
   "mimetype": "text/x-python",
   "name": "python",
   "nbconvert_exporter": "python",
   "pygments_lexer": "ipython2",
   "version": "2.7.6"
  }
 },
 "nbformat": 4,
 "nbformat_minor": 0
}