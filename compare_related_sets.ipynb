{
 "cells": [
  {
   "cell_type": "code",
   "execution_count": 10,
   "metadata": {
    "collapsed": true
   },
   "outputs": [],
   "source": [
    "import csv\n",
    "import operator\n",
    "from functools import reduce\n",
    "\n",
    "import pandas as pd\n",
    "\n",
    "web_related = {'data__115__bills__hr__hr1','data__115__bills__hr__hr112','data__115__bills__hr__hr189','data__115__bills__hr__hr828',\n",
    "           'data__115__bills__hr__hr1262','data__115__bills__hr__hr1720','data__115__bills__hr__hr1896','data__115__bills__hr__hr1897',\n",
    "           'data__115__bills__hr__hr2030', 'data__115__bills__hr__hr2138', 'data__115__bills__hr__hr2721', 'data__115__bills__hr__hr2901',\n",
    "           'data__115__bills__hr__hr3035', 'data__115__bills__hr__hr3084', 'data__115__bills__hr__hr3524', 'data__115__bills__hr__hr4319',\n",
    "           'data__115__bills__hr__hr4514', 'data__115__bills__s__s71', 'data__115__bills__s__s157', 'data__115__bills__s__s293',\n",
    "           'data__115__bills__s__s321', 'data__115__bills__s__s704', 'data__115__bills__s__s797', 'data__115__bills__s__s803',\n",
    "           'data__115__bills__s__s816', 'data__115__bills__s__s818', 'data__115__bills__s__s1239', 'data__115__bills__s__s1444',\n",
    "           'data__115__bills__s__s1698', 'data__115__bills__s__s2170'}\n",
    "\n",
    "def csv_score(csv_file, related):\n",
    "    with open(csv_file, 'r') as data:\n",
    "        reader = csv.reader(data)#, delimiter='\\t')\n",
    "        line_num = 0\n",
    "        res_dict = {}\n",
    "        for line in reader:\n",
    "            line_num += 1\n",
    "            if line[0] in related and float(line[1]) > 0:\n",
    "                res_dict[line[0]] = [float(line[1])]#[line_num]#,\n",
    "                # count += 1\n",
    "                # print(count, line_num, line[0], line[1])\n",
    "        return res_dict\n",
    "\n",
    "def compare_df(result_files, col_subhead, related):\n",
    "    column_dicts = {}\n",
    "    for result in result_files:\n",
    "        column_dicts[result] = csv_score('/home/harry/Downloads/'+result+'.csv', related)\n",
    "    data = []\n",
    "    cols_head = []\n",
    "    rows_head = list(related)\n",
    "    for result in result_files:\n",
    "        for head in col_subhead:\n",
    "            cols_head.append(result+head)\n",
    "\n",
    "    for head in rows_head:\n",
    "        row = []\n",
    "        for result in result_files:\n",
    "            for item in column_dicts[result].get(head, [None for _ in col_subhead]):\n",
    "                row.append(item)\n",
    "        data.append(row)\n",
    "\n",
    "    df = pd.DataFrame(data, columns = cols_head, index = rows_head)\n",
    "    return df.sort_values(df.columns[0], ascending=False)\n",
    "\n",
    "def first_n_set(file_name, n=25):\n",
    "    names = set()\n",
    "    with open('/home/harry/Downloads/'+file_name+'.csv', 'r') as data:\n",
    "        reader = csv.reader(data)#, delimiter='\\t')\n",
    "        line_num = 0\n",
    "        for line in reader:\n",
    "            line_num += 1\n",
    "            names.add(line[0])\n",
    "            if line_num >= n:\n",
    "                break\n",
    "    return names"
   ]
  },
  {
   "cell_type": "code",
   "execution_count": 2,
   "outputs": [
    {
     "data": {
      "text/plain": "                              before_s1  before_s1_pagerank  after_s1  \\\ndata__115__bills__hr__hr1         336.0            0.027732       NaN   \ndata__115__bills__hr__hr3084       41.0            0.003158       NaN   \ndata__115__bills__s__s1444         41.0            0.005843       NaN   \ndata__115__bills__hr__hr828        37.0            0.009075       NaN   \ndata__115__bills__s__s293          37.0            0.004986       NaN   \ndata__115__bills__hr__hr3524       32.0            0.004565       NaN   \ndata__115__bills__s__s1698         32.0            0.002559       NaN   \ndata__115__bills__s__s803          24.0            0.002046       NaN   \ndata__115__bills__hr__hr1262       22.0            0.001964       NaN   \ndata__115__bills__s__s797          18.0            0.001823       NaN   \ndata__115__bills__hr__hr2901       10.0            0.000810       NaN   \ndata__115__bills__hr__hr1896        5.0            0.000779       NaN   \ndata__115__bills__s__s818           5.0            0.000421       NaN   \ndata__115__bills__hr__hr3035        5.0            0.000688       NaN   \ndata__115__bills__hr__hr112         3.0            0.000491       NaN   \ndata__115__bills__hr__hr2030        3.0            0.000595       NaN   \ndata__115__bills__s__s71            3.0            0.000266       NaN   \ndata__115__bills__s__s157           3.0            0.000474       NaN   \ndata__115__bills__hr__hr2721        3.0            0.000256       NaN   \ndata__115__bills__s__s1239          2.0            0.000203       NaN   \ndata__115__bills__s__s704           2.0            0.000304       NaN   \ndata__115__bills__hr__hr1897        2.0            0.000250       NaN   \ndata__115__bills__hr__hr1720        2.0            0.000360       NaN   \ndata__115__bills__s__s321           2.0            0.000171       NaN   \ndata__115__bills__hr__hr2138        2.0            0.000164       NaN   \ndata__115__bills__s__s816           2.0            0.000175       NaN   \ndata__115__bills__s__s2170          NaN                 NaN       NaN   \ndata__115__bills__hr__hr189         NaN                 NaN       NaN   \ndata__115__bills__hr__hr4514        NaN                 NaN       1.0   \ndata__115__bills__hr__hr4319        NaN                 NaN       NaN   \n\n                              after_s1_pagerank  \ndata__115__bills__hr__hr1                   NaN  \ndata__115__bills__hr__hr3084                NaN  \ndata__115__bills__s__s1444                  NaN  \ndata__115__bills__hr__hr828                 NaN  \ndata__115__bills__s__s293                   NaN  \ndata__115__bills__hr__hr3524                NaN  \ndata__115__bills__s__s1698                  NaN  \ndata__115__bills__s__s803                   NaN  \ndata__115__bills__hr__hr1262                NaN  \ndata__115__bills__s__s797                   NaN  \ndata__115__bills__hr__hr2901                NaN  \ndata__115__bills__hr__hr1896                NaN  \ndata__115__bills__s__s818                   NaN  \ndata__115__bills__hr__hr3035                NaN  \ndata__115__bills__hr__hr112                 NaN  \ndata__115__bills__hr__hr2030                NaN  \ndata__115__bills__s__s71                    NaN  \ndata__115__bills__s__s157                   NaN  \ndata__115__bills__hr__hr2721                NaN  \ndata__115__bills__s__s1239                  NaN  \ndata__115__bills__s__s704                   NaN  \ndata__115__bills__hr__hr1897                NaN  \ndata__115__bills__hr__hr1720                NaN  \ndata__115__bills__s__s321                   NaN  \ndata__115__bills__hr__hr2138                NaN  \ndata__115__bills__s__s816                   NaN  \ndata__115__bills__s__s2170                  NaN  \ndata__115__bills__hr__hr189                 NaN  \ndata__115__bills__hr__hr4514           0.000281  \ndata__115__bills__hr__hr4319                NaN  ",
      "text/html": "<div>\n<style scoped>\n    .dataframe tbody tr th:only-of-type {\n        vertical-align: middle;\n    }\n\n    .dataframe tbody tr th {\n        vertical-align: top;\n    }\n\n    .dataframe thead th {\n        text-align: right;\n    }\n</style>\n<table border=\"1\" class=\"dataframe\">\n  <thead>\n    <tr style=\"text-align: right;\">\n      <th></th>\n      <th>before_s1</th>\n      <th>before_s1_pagerank</th>\n      <th>after_s1</th>\n      <th>after_s1_pagerank</th>\n    </tr>\n  </thead>\n  <tbody>\n    <tr>\n      <th>data__115__bills__hr__hr1</th>\n      <td>336.0</td>\n      <td>0.027732</td>\n      <td>NaN</td>\n      <td>NaN</td>\n    </tr>\n    <tr>\n      <th>data__115__bills__hr__hr3084</th>\n      <td>41.0</td>\n      <td>0.003158</td>\n      <td>NaN</td>\n      <td>NaN</td>\n    </tr>\n    <tr>\n      <th>data__115__bills__s__s1444</th>\n      <td>41.0</td>\n      <td>0.005843</td>\n      <td>NaN</td>\n      <td>NaN</td>\n    </tr>\n    <tr>\n      <th>data__115__bills__hr__hr828</th>\n      <td>37.0</td>\n      <td>0.009075</td>\n      <td>NaN</td>\n      <td>NaN</td>\n    </tr>\n    <tr>\n      <th>data__115__bills__s__s293</th>\n      <td>37.0</td>\n      <td>0.004986</td>\n      <td>NaN</td>\n      <td>NaN</td>\n    </tr>\n    <tr>\n      <th>data__115__bills__hr__hr3524</th>\n      <td>32.0</td>\n      <td>0.004565</td>\n      <td>NaN</td>\n      <td>NaN</td>\n    </tr>\n    <tr>\n      <th>data__115__bills__s__s1698</th>\n      <td>32.0</td>\n      <td>0.002559</td>\n      <td>NaN</td>\n      <td>NaN</td>\n    </tr>\n    <tr>\n      <th>data__115__bills__s__s803</th>\n      <td>24.0</td>\n      <td>0.002046</td>\n      <td>NaN</td>\n      <td>NaN</td>\n    </tr>\n    <tr>\n      <th>data__115__bills__hr__hr1262</th>\n      <td>22.0</td>\n      <td>0.001964</td>\n      <td>NaN</td>\n      <td>NaN</td>\n    </tr>\n    <tr>\n      <th>data__115__bills__s__s797</th>\n      <td>18.0</td>\n      <td>0.001823</td>\n      <td>NaN</td>\n      <td>NaN</td>\n    </tr>\n    <tr>\n      <th>data__115__bills__hr__hr2901</th>\n      <td>10.0</td>\n      <td>0.000810</td>\n      <td>NaN</td>\n      <td>NaN</td>\n    </tr>\n    <tr>\n      <th>data__115__bills__hr__hr1896</th>\n      <td>5.0</td>\n      <td>0.000779</td>\n      <td>NaN</td>\n      <td>NaN</td>\n    </tr>\n    <tr>\n      <th>data__115__bills__s__s818</th>\n      <td>5.0</td>\n      <td>0.000421</td>\n      <td>NaN</td>\n      <td>NaN</td>\n    </tr>\n    <tr>\n      <th>data__115__bills__hr__hr3035</th>\n      <td>5.0</td>\n      <td>0.000688</td>\n      <td>NaN</td>\n      <td>NaN</td>\n    </tr>\n    <tr>\n      <th>data__115__bills__hr__hr112</th>\n      <td>3.0</td>\n      <td>0.000491</td>\n      <td>NaN</td>\n      <td>NaN</td>\n    </tr>\n    <tr>\n      <th>data__115__bills__hr__hr2030</th>\n      <td>3.0</td>\n      <td>0.000595</td>\n      <td>NaN</td>\n      <td>NaN</td>\n    </tr>\n    <tr>\n      <th>data__115__bills__s__s71</th>\n      <td>3.0</td>\n      <td>0.000266</td>\n      <td>NaN</td>\n      <td>NaN</td>\n    </tr>\n    <tr>\n      <th>data__115__bills__s__s157</th>\n      <td>3.0</td>\n      <td>0.000474</td>\n      <td>NaN</td>\n      <td>NaN</td>\n    </tr>\n    <tr>\n      <th>data__115__bills__hr__hr2721</th>\n      <td>3.0</td>\n      <td>0.000256</td>\n      <td>NaN</td>\n      <td>NaN</td>\n    </tr>\n    <tr>\n      <th>data__115__bills__s__s1239</th>\n      <td>2.0</td>\n      <td>0.000203</td>\n      <td>NaN</td>\n      <td>NaN</td>\n    </tr>\n    <tr>\n      <th>data__115__bills__s__s704</th>\n      <td>2.0</td>\n      <td>0.000304</td>\n      <td>NaN</td>\n      <td>NaN</td>\n    </tr>\n    <tr>\n      <th>data__115__bills__hr__hr1897</th>\n      <td>2.0</td>\n      <td>0.000250</td>\n      <td>NaN</td>\n      <td>NaN</td>\n    </tr>\n    <tr>\n      <th>data__115__bills__hr__hr1720</th>\n      <td>2.0</td>\n      <td>0.000360</td>\n      <td>NaN</td>\n      <td>NaN</td>\n    </tr>\n    <tr>\n      <th>data__115__bills__s__s321</th>\n      <td>2.0</td>\n      <td>0.000171</td>\n      <td>NaN</td>\n      <td>NaN</td>\n    </tr>\n    <tr>\n      <th>data__115__bills__hr__hr2138</th>\n      <td>2.0</td>\n      <td>0.000164</td>\n      <td>NaN</td>\n      <td>NaN</td>\n    </tr>\n    <tr>\n      <th>data__115__bills__s__s816</th>\n      <td>2.0</td>\n      <td>0.000175</td>\n      <td>NaN</td>\n      <td>NaN</td>\n    </tr>\n    <tr>\n      <th>data__115__bills__s__s2170</th>\n      <td>NaN</td>\n      <td>NaN</td>\n      <td>NaN</td>\n      <td>NaN</td>\n    </tr>\n    <tr>\n      <th>data__115__bills__hr__hr189</th>\n      <td>NaN</td>\n      <td>NaN</td>\n      <td>NaN</td>\n      <td>NaN</td>\n    </tr>\n    <tr>\n      <th>data__115__bills__hr__hr4514</th>\n      <td>NaN</td>\n      <td>NaN</td>\n      <td>1.0</td>\n      <td>0.000281</td>\n    </tr>\n    <tr>\n      <th>data__115__bills__hr__hr4319</th>\n      <td>NaN</td>\n      <td>NaN</td>\n      <td>NaN</td>\n      <td>NaN</td>\n    </tr>\n  </tbody>\n</table>\n</div>"
     },
     "execution_count": 2,
     "metadata": {},
     "output_type": "execute_result"
    }
   ],
   "source": [
    "results = ['before_s1', 'before_s1_pagerank', 'after_s1', 'after_s1_pagerank']\n",
    "# compare_df(results, [' rank', ' score'], web_related)\n",
    "compare_df(results, [''], web_related)"
   ],
   "metadata": {
    "collapsed": false,
    "pycharm": {
     "name": "#%%\n"
    }
   }
  },
  {
   "cell_type": "code",
   "execution_count": 3,
   "outputs": [
    {
     "data": {
      "text/plain": "                              before_s1  before_s1_pagerank\ndata__115__bills__hr__hr1         336.0            0.027732\ndata__115__bills__hr__hr1670      139.0            0.019496\ndata__115__bills__hr__hr4383      112.0            0.008101\ndata__115__bills__s__s236          98.0            0.013863\ndata__115__bills__hr__hr747        98.0            0.007494\ndata__115__bills__hr__hr3084       41.0            0.003158\ndata__115__bills__s__s1444         41.0            0.005843\ndata__115__bills__s__s293          37.0            0.004986\ndata__115__bills__hr__hr828        37.0            0.009075\ndata__115__bills__hr__hr3524       32.0            0.004565\ndata__115__bills__s__s1698         32.0            0.002559\ndata__115__bills__hr__hr2870       27.0            0.002247\ndata__115__bills__s__s1013         27.0            0.003401\ndata__115__bills__s__s1144         26.0            0.002351\ndata__115__bills__s__s1892         24.0            0.001998\ndata__115__bills__s__s803          24.0            0.002046\ndata__115__bills__hr__hr3823       24.0            0.002946\ndata__115__bills__hr__hr4172       23.0            0.001782\ndata__115__bills__hr__hr3679       23.0            0.003022\ndata__115__bills__hr__hr1262       22.0            0.001964\ndata__115__bills__s__s1005         21.0            0.002183\ndata__115__bills__hr__hr2849       20.0            0.003713\ndata__115__bills__s__s797          18.0            0.001823\ndata__115__bills__hr__hr4397       18.0            0.001240\ndata__115__bills__s__s1716         15.0            0.001282\ndata__115__bills__hr__hr3595       15.0            0.001884\ndata__115__bills__s__s851          12.0            0.001586\ndata__115__bills__hr__hr605        12.0            0.003616\ndata__115__bills__hr__hr1932       12.0            0.002457\ndata__115__bills__s__s193          12.0            0.001955\ndata__115__bills__s__s586          11.0            0.004510\ndata__115__bills__hr__hr1451       11.0            0.008271\ndata__115__bills__hr__hr277         4.0            0.013273\ndata__115__bills__hr__hr25          2.0            0.007614\ndata__115__bills__hr__hr340         1.0            0.002837\ndata__115__bills__hr__hr35          NaN            0.007067\ndata__115__bills__hr__hr31          NaN            0.005299\ndata__115__bills__hr__hr1072        NaN            0.004067\ndata__115__bills__hr__hr1962        NaN            0.005649\ndata__115__bills__s__s222           NaN            0.006549\ndata__115__bills__hr__hr66          NaN            0.003849\ndata__115__bills__hr__hr1843        NaN            0.002772\ndata__115__bills__hr__hr217         NaN            0.002827\ndata__115__bills__s__s852           NaN            0.003053",
      "text/html": "<div>\n<style scoped>\n    .dataframe tbody tr th:only-of-type {\n        vertical-align: middle;\n    }\n\n    .dataframe tbody tr th {\n        vertical-align: top;\n    }\n\n    .dataframe thead th {\n        text-align: right;\n    }\n</style>\n<table border=\"1\" class=\"dataframe\">\n  <thead>\n    <tr style=\"text-align: right;\">\n      <th></th>\n      <th>before_s1</th>\n      <th>before_s1_pagerank</th>\n    </tr>\n  </thead>\n  <tbody>\n    <tr>\n      <th>data__115__bills__hr__hr1</th>\n      <td>336.0</td>\n      <td>0.027732</td>\n    </tr>\n    <tr>\n      <th>data__115__bills__hr__hr1670</th>\n      <td>139.0</td>\n      <td>0.019496</td>\n    </tr>\n    <tr>\n      <th>data__115__bills__hr__hr4383</th>\n      <td>112.0</td>\n      <td>0.008101</td>\n    </tr>\n    <tr>\n      <th>data__115__bills__s__s236</th>\n      <td>98.0</td>\n      <td>0.013863</td>\n    </tr>\n    <tr>\n      <th>data__115__bills__hr__hr747</th>\n      <td>98.0</td>\n      <td>0.007494</td>\n    </tr>\n    <tr>\n      <th>data__115__bills__hr__hr3084</th>\n      <td>41.0</td>\n      <td>0.003158</td>\n    </tr>\n    <tr>\n      <th>data__115__bills__s__s1444</th>\n      <td>41.0</td>\n      <td>0.005843</td>\n    </tr>\n    <tr>\n      <th>data__115__bills__s__s293</th>\n      <td>37.0</td>\n      <td>0.004986</td>\n    </tr>\n    <tr>\n      <th>data__115__bills__hr__hr828</th>\n      <td>37.0</td>\n      <td>0.009075</td>\n    </tr>\n    <tr>\n      <th>data__115__bills__hr__hr3524</th>\n      <td>32.0</td>\n      <td>0.004565</td>\n    </tr>\n    <tr>\n      <th>data__115__bills__s__s1698</th>\n      <td>32.0</td>\n      <td>0.002559</td>\n    </tr>\n    <tr>\n      <th>data__115__bills__hr__hr2870</th>\n      <td>27.0</td>\n      <td>0.002247</td>\n    </tr>\n    <tr>\n      <th>data__115__bills__s__s1013</th>\n      <td>27.0</td>\n      <td>0.003401</td>\n    </tr>\n    <tr>\n      <th>data__115__bills__s__s1144</th>\n      <td>26.0</td>\n      <td>0.002351</td>\n    </tr>\n    <tr>\n      <th>data__115__bills__s__s1892</th>\n      <td>24.0</td>\n      <td>0.001998</td>\n    </tr>\n    <tr>\n      <th>data__115__bills__s__s803</th>\n      <td>24.0</td>\n      <td>0.002046</td>\n    </tr>\n    <tr>\n      <th>data__115__bills__hr__hr3823</th>\n      <td>24.0</td>\n      <td>0.002946</td>\n    </tr>\n    <tr>\n      <th>data__115__bills__hr__hr4172</th>\n      <td>23.0</td>\n      <td>0.001782</td>\n    </tr>\n    <tr>\n      <th>data__115__bills__hr__hr3679</th>\n      <td>23.0</td>\n      <td>0.003022</td>\n    </tr>\n    <tr>\n      <th>data__115__bills__hr__hr1262</th>\n      <td>22.0</td>\n      <td>0.001964</td>\n    </tr>\n    <tr>\n      <th>data__115__bills__s__s1005</th>\n      <td>21.0</td>\n      <td>0.002183</td>\n    </tr>\n    <tr>\n      <th>data__115__bills__hr__hr2849</th>\n      <td>20.0</td>\n      <td>0.003713</td>\n    </tr>\n    <tr>\n      <th>data__115__bills__s__s797</th>\n      <td>18.0</td>\n      <td>0.001823</td>\n    </tr>\n    <tr>\n      <th>data__115__bills__hr__hr4397</th>\n      <td>18.0</td>\n      <td>0.001240</td>\n    </tr>\n    <tr>\n      <th>data__115__bills__s__s1716</th>\n      <td>15.0</td>\n      <td>0.001282</td>\n    </tr>\n    <tr>\n      <th>data__115__bills__hr__hr3595</th>\n      <td>15.0</td>\n      <td>0.001884</td>\n    </tr>\n    <tr>\n      <th>data__115__bills__s__s851</th>\n      <td>12.0</td>\n      <td>0.001586</td>\n    </tr>\n    <tr>\n      <th>data__115__bills__hr__hr605</th>\n      <td>12.0</td>\n      <td>0.003616</td>\n    </tr>\n    <tr>\n      <th>data__115__bills__hr__hr1932</th>\n      <td>12.0</td>\n      <td>0.002457</td>\n    </tr>\n    <tr>\n      <th>data__115__bills__s__s193</th>\n      <td>12.0</td>\n      <td>0.001955</td>\n    </tr>\n    <tr>\n      <th>data__115__bills__s__s586</th>\n      <td>11.0</td>\n      <td>0.004510</td>\n    </tr>\n    <tr>\n      <th>data__115__bills__hr__hr1451</th>\n      <td>11.0</td>\n      <td>0.008271</td>\n    </tr>\n    <tr>\n      <th>data__115__bills__hr__hr277</th>\n      <td>4.0</td>\n      <td>0.013273</td>\n    </tr>\n    <tr>\n      <th>data__115__bills__hr__hr25</th>\n      <td>2.0</td>\n      <td>0.007614</td>\n    </tr>\n    <tr>\n      <th>data__115__bills__hr__hr340</th>\n      <td>1.0</td>\n      <td>0.002837</td>\n    </tr>\n    <tr>\n      <th>data__115__bills__hr__hr35</th>\n      <td>NaN</td>\n      <td>0.007067</td>\n    </tr>\n    <tr>\n      <th>data__115__bills__hr__hr31</th>\n      <td>NaN</td>\n      <td>0.005299</td>\n    </tr>\n    <tr>\n      <th>data__115__bills__hr__hr1072</th>\n      <td>NaN</td>\n      <td>0.004067</td>\n    </tr>\n    <tr>\n      <th>data__115__bills__hr__hr1962</th>\n      <td>NaN</td>\n      <td>0.005649</td>\n    </tr>\n    <tr>\n      <th>data__115__bills__s__s222</th>\n      <td>NaN</td>\n      <td>0.006549</td>\n    </tr>\n    <tr>\n      <th>data__115__bills__hr__hr66</th>\n      <td>NaN</td>\n      <td>0.003849</td>\n    </tr>\n    <tr>\n      <th>data__115__bills__hr__hr1843</th>\n      <td>NaN</td>\n      <td>0.002772</td>\n    </tr>\n    <tr>\n      <th>data__115__bills__hr__hr217</th>\n      <td>NaN</td>\n      <td>0.002827</td>\n    </tr>\n    <tr>\n      <th>data__115__bills__s__s852</th>\n      <td>NaN</td>\n      <td>0.003053</td>\n    </tr>\n  </tbody>\n</table>\n</div>"
     },
     "execution_count": 3,
     "metadata": {},
     "output_type": "execute_result"
    }
   ],
   "source": [
    "sets = [first_n_set('before_s1'),first_n_set('before_s1_pagerank')]\n",
    "compare_df(['before_s1', 'before_s1_pagerank'], [''], reduce(operator.or_, sets))"
   ],
   "metadata": {
    "collapsed": false,
    "pycharm": {
     "name": "#%%\n"
    }
   }
  },
  {
   "cell_type": "code",
   "execution_count": 4,
   "outputs": [
    {
     "data": {
      "text/plain": "                              after_s1  after_s1_pagerank\ndata__115__bills__s__s2687        25.0           0.013111\ndata__115__bills__s__s3648        23.0           0.011113\ndata__115__bills__hr__hr6760      18.0           0.018295\ndata__115__bills__s__s3712        18.0           0.011110\ndata__115__bills__hr__hr7166      18.0           0.018083\ndata__115__bills__hr__hr6854      18.0           0.006526\ndata__115__bills__s__s2459        17.0           0.009426\ndata__115__bills__hr__hr7227      17.0           0.030331\ndata__115__bills__hr__hr5108      17.0           0.005780\ndata__115__bills__s__s3278        16.0           0.007734\ndata__115__bills__hr__hr6015      13.0           0.006327\ndata__115__bills__s__s3674        13.0           0.011705\ndata__115__bills__s__s3804        11.0           0.004141\ndata__115__bills__hr__hr6873      10.0           0.005500\ndata__115__bills__s__s3246        10.0           0.004633\ndata__115__bills__s__s2689         9.0           0.003115\ndata__115__bills__hr__hr5444       8.0           0.003422\ndata__115__bills__hr__hr4637       8.0           0.002035\ndata__115__bills__s__s3781         7.0           0.031434\ndata__115__bills__hr__hr6757       7.0           0.005589\ndata__115__bills__s__s3772         6.0           0.003181\ndata__115__bills__s__s3766         6.0           0.011087\ndata__115__bills__s__s2281         6.0           0.002309\ndata__115__bills__s__s2291         6.0           0.002986\ndata__115__bills__hr__hr5463       6.0           0.002161\ndata__115__bills__hr__hr5916       5.0           0.001850\ndata__115__bills__hr__hr4523       4.0           0.001300\ndata__115__bills__hr__hr5282       4.0           0.002984\ndata__115__bills__hr__hr6109       4.0           0.001702\ndata__115__bills__s__s2526         4.0           0.002047\ndata__115__bills__s__s3636         3.0           0.003897\ndata__115__bills__s__s3503         1.0           0.004069\ndata__115__bills__hr__hr7262       1.0           0.010563\ndata__115__bills__hr__hr7359       NaN           0.016288\ndata__115__bills__s__s3793         NaN           0.019158\ndata__115__bills__hr__hr7349       NaN           0.011056",
      "text/html": "<div>\n<style scoped>\n    .dataframe tbody tr th:only-of-type {\n        vertical-align: middle;\n    }\n\n    .dataframe tbody tr th {\n        vertical-align: top;\n    }\n\n    .dataframe thead th {\n        text-align: right;\n    }\n</style>\n<table border=\"1\" class=\"dataframe\">\n  <thead>\n    <tr style=\"text-align: right;\">\n      <th></th>\n      <th>after_s1</th>\n      <th>after_s1_pagerank</th>\n    </tr>\n  </thead>\n  <tbody>\n    <tr>\n      <th>data__115__bills__s__s2687</th>\n      <td>25.0</td>\n      <td>0.013111</td>\n    </tr>\n    <tr>\n      <th>data__115__bills__s__s3648</th>\n      <td>23.0</td>\n      <td>0.011113</td>\n    </tr>\n    <tr>\n      <th>data__115__bills__hr__hr6760</th>\n      <td>18.0</td>\n      <td>0.018295</td>\n    </tr>\n    <tr>\n      <th>data__115__bills__s__s3712</th>\n      <td>18.0</td>\n      <td>0.011110</td>\n    </tr>\n    <tr>\n      <th>data__115__bills__hr__hr7166</th>\n      <td>18.0</td>\n      <td>0.018083</td>\n    </tr>\n    <tr>\n      <th>data__115__bills__hr__hr6854</th>\n      <td>18.0</td>\n      <td>0.006526</td>\n    </tr>\n    <tr>\n      <th>data__115__bills__s__s2459</th>\n      <td>17.0</td>\n      <td>0.009426</td>\n    </tr>\n    <tr>\n      <th>data__115__bills__hr__hr7227</th>\n      <td>17.0</td>\n      <td>0.030331</td>\n    </tr>\n    <tr>\n      <th>data__115__bills__hr__hr5108</th>\n      <td>17.0</td>\n      <td>0.005780</td>\n    </tr>\n    <tr>\n      <th>data__115__bills__s__s3278</th>\n      <td>16.0</td>\n      <td>0.007734</td>\n    </tr>\n    <tr>\n      <th>data__115__bills__hr__hr6015</th>\n      <td>13.0</td>\n      <td>0.006327</td>\n    </tr>\n    <tr>\n      <th>data__115__bills__s__s3674</th>\n      <td>13.0</td>\n      <td>0.011705</td>\n    </tr>\n    <tr>\n      <th>data__115__bills__s__s3804</th>\n      <td>11.0</td>\n      <td>0.004141</td>\n    </tr>\n    <tr>\n      <th>data__115__bills__hr__hr6873</th>\n      <td>10.0</td>\n      <td>0.005500</td>\n    </tr>\n    <tr>\n      <th>data__115__bills__s__s3246</th>\n      <td>10.0</td>\n      <td>0.004633</td>\n    </tr>\n    <tr>\n      <th>data__115__bills__s__s2689</th>\n      <td>9.0</td>\n      <td>0.003115</td>\n    </tr>\n    <tr>\n      <th>data__115__bills__hr__hr5444</th>\n      <td>8.0</td>\n      <td>0.003422</td>\n    </tr>\n    <tr>\n      <th>data__115__bills__hr__hr4637</th>\n      <td>8.0</td>\n      <td>0.002035</td>\n    </tr>\n    <tr>\n      <th>data__115__bills__s__s3781</th>\n      <td>7.0</td>\n      <td>0.031434</td>\n    </tr>\n    <tr>\n      <th>data__115__bills__hr__hr6757</th>\n      <td>7.0</td>\n      <td>0.005589</td>\n    </tr>\n    <tr>\n      <th>data__115__bills__s__s3772</th>\n      <td>6.0</td>\n      <td>0.003181</td>\n    </tr>\n    <tr>\n      <th>data__115__bills__s__s3766</th>\n      <td>6.0</td>\n      <td>0.011087</td>\n    </tr>\n    <tr>\n      <th>data__115__bills__s__s2281</th>\n      <td>6.0</td>\n      <td>0.002309</td>\n    </tr>\n    <tr>\n      <th>data__115__bills__s__s2291</th>\n      <td>6.0</td>\n      <td>0.002986</td>\n    </tr>\n    <tr>\n      <th>data__115__bills__hr__hr5463</th>\n      <td>6.0</td>\n      <td>0.002161</td>\n    </tr>\n    <tr>\n      <th>data__115__bills__hr__hr5916</th>\n      <td>5.0</td>\n      <td>0.001850</td>\n    </tr>\n    <tr>\n      <th>data__115__bills__hr__hr4523</th>\n      <td>4.0</td>\n      <td>0.001300</td>\n    </tr>\n    <tr>\n      <th>data__115__bills__hr__hr5282</th>\n      <td>4.0</td>\n      <td>0.002984</td>\n    </tr>\n    <tr>\n      <th>data__115__bills__hr__hr6109</th>\n      <td>4.0</td>\n      <td>0.001702</td>\n    </tr>\n    <tr>\n      <th>data__115__bills__s__s2526</th>\n      <td>4.0</td>\n      <td>0.002047</td>\n    </tr>\n    <tr>\n      <th>data__115__bills__s__s3636</th>\n      <td>3.0</td>\n      <td>0.003897</td>\n    </tr>\n    <tr>\n      <th>data__115__bills__s__s3503</th>\n      <td>1.0</td>\n      <td>0.004069</td>\n    </tr>\n    <tr>\n      <th>data__115__bills__hr__hr7262</th>\n      <td>1.0</td>\n      <td>0.010563</td>\n    </tr>\n    <tr>\n      <th>data__115__bills__hr__hr7359</th>\n      <td>NaN</td>\n      <td>0.016288</td>\n    </tr>\n    <tr>\n      <th>data__115__bills__s__s3793</th>\n      <td>NaN</td>\n      <td>0.019158</td>\n    </tr>\n    <tr>\n      <th>data__115__bills__hr__hr7349</th>\n      <td>NaN</td>\n      <td>0.011056</td>\n    </tr>\n  </tbody>\n</table>\n</div>"
     },
     "execution_count": 4,
     "metadata": {},
     "output_type": "execute_result"
    }
   ],
   "source": [
    "compare_df(['after_s1', 'after_s1_pagerank'], [''], reduce(operator.or_, [first_n_set('after_s1'),first_n_set('after_s1_pagerank')]))\n"
   ],
   "metadata": {
    "collapsed": false,
    "pycharm": {
     "name": "#%%\n"
    }
   }
  },
  {
   "cell_type": "code",
   "execution_count": 5,
   "outputs": [
    {
     "data": {
      "text/plain": "                                  before_s1  before_s1_pagerank  after_s1  \\\ndata__115__bills__hr__hr1             336.0        2.773154e-02       NaN   \ndata__115__bills__s__s1460              1.0        2.411098e-04       NaN   \ndata__115__bills__hr__hr2               NaN                 NaN       NaN   \ndata__115__bills__hres__hres1099        NaN                 NaN       NaN   \ndata__115__bills__hr__hr4508            NaN                 NaN       NaN   \ndata__115__bills__hr__hr10              NaN        7.499680e-06       NaN   \ndata__115__bills__s__s3660              NaN                 NaN       NaN   \ndata__115__bills__s__s2680              NaN                 NaN       NaN   \ndata__115__bills__s__s2823              NaN                 NaN       NaN   \ndata__115__bills__s__s3042              NaN                 NaN       NaN   \ndata__115__bills__s__s2800              NaN                 NaN       NaN   \ndata__115__bills__s__s1757              NaN        3.609129e-07       NaN   \ndata__115__bills__hr__hr3364            NaN        2.576813e-07       NaN   \ndata__115__bills__hr__hr3314            NaN        3.370275e-04       NaN   \ndata__115__bills__hr__hr2997            NaN        5.802954e-08       NaN   \ndata__115__bills__s__s1129              NaN        1.076162e-07       NaN   \ndata__115__bills__s__s1405              NaN        8.973400e-08       NaN   \ndata__115__bills__hr__hr5942            NaN                 NaN       NaN   \ndata__115__bills__hr__hr7140            NaN                 NaN       NaN   \ndata__115__bills__hr__hr2135            NaN        8.417231e-09       NaN   \ndata__115__bills__s__s1780              NaN        6.094074e-07       NaN   \ndata__115__bills__hr__hr5785            NaN                 NaN       2.0   \ndata__115__bills__s__s936               NaN        2.706867e-07       NaN   \ndata__115__bills__hr__hr4               NaN                 NaN       NaN   \ndata__115__bills__hres__hres1082        NaN                 NaN       NaN   \ndata__115__bills__hr__hr3848            NaN        1.992305e-04       NaN   \ndata__115__bills__hr__hr4760            NaN                 NaN       NaN   \ndata__115__bills__s__s1880              NaN        1.432067e-04       NaN   \ndata__115__bills__hr__hr6543            NaN                 NaN       NaN   \ndata__115__bills__s__s1519              NaN        4.823539e-07       NaN   \n\n                                  after_s1_pagerank  \ndata__115__bills__hr__hr1                       NaN  \ndata__115__bills__s__s1460                      NaN  \ndata__115__bills__hr__hr2                       NaN  \ndata__115__bills__hres__hres1099       2.782534e-05  \ndata__115__bills__hr__hr4508                    NaN  \ndata__115__bills__hr__hr10                      NaN  \ndata__115__bills__s__s3660             3.553738e-04  \ndata__115__bills__s__s2680                      NaN  \ndata__115__bills__s__s2823                      NaN  \ndata__115__bills__s__s3042             4.663984e-07  \ndata__115__bills__s__s2800                      NaN  \ndata__115__bills__s__s1757                      NaN  \ndata__115__bills__hr__hr3364                    NaN  \ndata__115__bills__hr__hr3314                    NaN  \ndata__115__bills__hr__hr2997                    NaN  \ndata__115__bills__s__s1129                      NaN  \ndata__115__bills__s__s1405                      NaN  \ndata__115__bills__hr__hr5942           3.495806e-05  \ndata__115__bills__hr__hr7140           7.634297e-05  \ndata__115__bills__hr__hr2135                    NaN  \ndata__115__bills__s__s1780                      NaN  \ndata__115__bills__hr__hr5785           1.184990e-03  \ndata__115__bills__s__s936                       NaN  \ndata__115__bills__hr__hr4                       NaN  \ndata__115__bills__hres__hres1082       7.023083e-05  \ndata__115__bills__hr__hr3848                    NaN  \ndata__115__bills__hr__hr4760                    NaN  \ndata__115__bills__s__s1880                      NaN  \ndata__115__bills__hr__hr6543           2.892309e-04  \ndata__115__bills__s__s1519                      NaN  ",
      "text/html": "<div>\n<style scoped>\n    .dataframe tbody tr th:only-of-type {\n        vertical-align: middle;\n    }\n\n    .dataframe tbody tr th {\n        vertical-align: top;\n    }\n\n    .dataframe thead th {\n        text-align: right;\n    }\n</style>\n<table border=\"1\" class=\"dataframe\">\n  <thead>\n    <tr style=\"text-align: right;\">\n      <th></th>\n      <th>before_s1</th>\n      <th>before_s1_pagerank</th>\n      <th>after_s1</th>\n      <th>after_s1_pagerank</th>\n    </tr>\n  </thead>\n  <tbody>\n    <tr>\n      <th>data__115__bills__hr__hr1</th>\n      <td>336.0</td>\n      <td>2.773154e-02</td>\n      <td>NaN</td>\n      <td>NaN</td>\n    </tr>\n    <tr>\n      <th>data__115__bills__s__s1460</th>\n      <td>1.0</td>\n      <td>2.411098e-04</td>\n      <td>NaN</td>\n      <td>NaN</td>\n    </tr>\n    <tr>\n      <th>data__115__bills__hr__hr2</th>\n      <td>NaN</td>\n      <td>NaN</td>\n      <td>NaN</td>\n      <td>NaN</td>\n    </tr>\n    <tr>\n      <th>data__115__bills__hres__hres1099</th>\n      <td>NaN</td>\n      <td>NaN</td>\n      <td>NaN</td>\n      <td>2.782534e-05</td>\n    </tr>\n    <tr>\n      <th>data__115__bills__hr__hr4508</th>\n      <td>NaN</td>\n      <td>NaN</td>\n      <td>NaN</td>\n      <td>NaN</td>\n    </tr>\n    <tr>\n      <th>data__115__bills__hr__hr10</th>\n      <td>NaN</td>\n      <td>7.499680e-06</td>\n      <td>NaN</td>\n      <td>NaN</td>\n    </tr>\n    <tr>\n      <th>data__115__bills__s__s3660</th>\n      <td>NaN</td>\n      <td>NaN</td>\n      <td>NaN</td>\n      <td>3.553738e-04</td>\n    </tr>\n    <tr>\n      <th>data__115__bills__s__s2680</th>\n      <td>NaN</td>\n      <td>NaN</td>\n      <td>NaN</td>\n      <td>NaN</td>\n    </tr>\n    <tr>\n      <th>data__115__bills__s__s2823</th>\n      <td>NaN</td>\n      <td>NaN</td>\n      <td>NaN</td>\n      <td>NaN</td>\n    </tr>\n    <tr>\n      <th>data__115__bills__s__s3042</th>\n      <td>NaN</td>\n      <td>NaN</td>\n      <td>NaN</td>\n      <td>4.663984e-07</td>\n    </tr>\n    <tr>\n      <th>data__115__bills__s__s2800</th>\n      <td>NaN</td>\n      <td>NaN</td>\n      <td>NaN</td>\n      <td>NaN</td>\n    </tr>\n    <tr>\n      <th>data__115__bills__s__s1757</th>\n      <td>NaN</td>\n      <td>3.609129e-07</td>\n      <td>NaN</td>\n      <td>NaN</td>\n    </tr>\n    <tr>\n      <th>data__115__bills__hr__hr3364</th>\n      <td>NaN</td>\n      <td>2.576813e-07</td>\n      <td>NaN</td>\n      <td>NaN</td>\n    </tr>\n    <tr>\n      <th>data__115__bills__hr__hr3314</th>\n      <td>NaN</td>\n      <td>3.370275e-04</td>\n      <td>NaN</td>\n      <td>NaN</td>\n    </tr>\n    <tr>\n      <th>data__115__bills__hr__hr2997</th>\n      <td>NaN</td>\n      <td>5.802954e-08</td>\n      <td>NaN</td>\n      <td>NaN</td>\n    </tr>\n    <tr>\n      <th>data__115__bills__s__s1129</th>\n      <td>NaN</td>\n      <td>1.076162e-07</td>\n      <td>NaN</td>\n      <td>NaN</td>\n    </tr>\n    <tr>\n      <th>data__115__bills__s__s1405</th>\n      <td>NaN</td>\n      <td>8.973400e-08</td>\n      <td>NaN</td>\n      <td>NaN</td>\n    </tr>\n    <tr>\n      <th>data__115__bills__hr__hr5942</th>\n      <td>NaN</td>\n      <td>NaN</td>\n      <td>NaN</td>\n      <td>3.495806e-05</td>\n    </tr>\n    <tr>\n      <th>data__115__bills__hr__hr7140</th>\n      <td>NaN</td>\n      <td>NaN</td>\n      <td>NaN</td>\n      <td>7.634297e-05</td>\n    </tr>\n    <tr>\n      <th>data__115__bills__hr__hr2135</th>\n      <td>NaN</td>\n      <td>8.417231e-09</td>\n      <td>NaN</td>\n      <td>NaN</td>\n    </tr>\n    <tr>\n      <th>data__115__bills__s__s1780</th>\n      <td>NaN</td>\n      <td>6.094074e-07</td>\n      <td>NaN</td>\n      <td>NaN</td>\n    </tr>\n    <tr>\n      <th>data__115__bills__hr__hr5785</th>\n      <td>NaN</td>\n      <td>NaN</td>\n      <td>2.0</td>\n      <td>1.184990e-03</td>\n    </tr>\n    <tr>\n      <th>data__115__bills__s__s936</th>\n      <td>NaN</td>\n      <td>2.706867e-07</td>\n      <td>NaN</td>\n      <td>NaN</td>\n    </tr>\n    <tr>\n      <th>data__115__bills__hr__hr4</th>\n      <td>NaN</td>\n      <td>NaN</td>\n      <td>NaN</td>\n      <td>NaN</td>\n    </tr>\n    <tr>\n      <th>data__115__bills__hres__hres1082</th>\n      <td>NaN</td>\n      <td>NaN</td>\n      <td>NaN</td>\n      <td>7.023083e-05</td>\n    </tr>\n    <tr>\n      <th>data__115__bills__hr__hr3848</th>\n      <td>NaN</td>\n      <td>1.992305e-04</td>\n      <td>NaN</td>\n      <td>NaN</td>\n    </tr>\n    <tr>\n      <th>data__115__bills__hr__hr4760</th>\n      <td>NaN</td>\n      <td>NaN</td>\n      <td>NaN</td>\n      <td>NaN</td>\n    </tr>\n    <tr>\n      <th>data__115__bills__s__s1880</th>\n      <td>NaN</td>\n      <td>1.432067e-04</td>\n      <td>NaN</td>\n      <td>NaN</td>\n    </tr>\n    <tr>\n      <th>data__115__bills__hr__hr6543</th>\n      <td>NaN</td>\n      <td>NaN</td>\n      <td>NaN</td>\n      <td>2.892309e-04</td>\n    </tr>\n    <tr>\n      <th>data__115__bills__s__s1519</th>\n      <td>NaN</td>\n      <td>4.823539e-07</td>\n      <td>NaN</td>\n      <td>NaN</td>\n    </tr>\n  </tbody>\n</table>\n</div>"
     },
     "execution_count": 5,
     "metadata": {},
     "output_type": "execute_result"
    }
   ],
   "source": [
    "doc_vec = {'data__115__bills__hr__hr5785', 'data__115__bills__hres__hres1082',\n",
    "       'data__115__bills__s__s3660', 'data__115__bills__hr__hr5942',\n",
    "       'data__115__bills__s__s3042', 'data__115__bills__s__s1460',\n",
    "       'data__115__bills__hr__hr6543', 'data__115__bills__s__s1519',\n",
    "       'data__115__bills__s__s1405', 'data__115__bills__hres__hres1099',\n",
    "       'data__115__bills__hr__hr2135', 'data__115__bills__s__s2800',\n",
    "       'data__115__bills__s__s936', 'data__115__bills__hr__hr4760',\n",
    "       'data__115__bills__hr__hr4508', 'data__115__bills__hr__hr2',\n",
    "       'data__115__bills__hr__hr10', 'data__115__bills__s__s1880',\n",
    "       'data__115__bills__s__s1757', 'data__115__bills__s__s2680',\n",
    "       'data__115__bills__hr__hr4', 'data__115__bills__hr__hr2997',\n",
    "       'data__115__bills__s__s1129', 'data__115__bills__s__s2823',\n",
    "       'data__115__bills__hr__hr3314', 'data__115__bills__s__s1780',\n",
    "       'data__115__bills__hr__hr1', 'data__115__bills__hr__hr3364',\n",
    "       'data__115__bills__hr__hr3848', 'data__115__bills__hr__hr7140'}\n",
    "\n",
    "results = ['before_s1', 'before_s1_pagerank', 'after_s1', 'after_s1_pagerank']\n",
    "# compare_df(results, [' rank', ' score'], web_related)\n",
    "compare_df(results, [''], doc_vec)"
   ],
   "metadata": {
    "collapsed": false,
    "pycharm": {
     "name": "#%%\n"
    }
   }
  },
  {
   "cell_type": "code",
   "execution_count": 3,
   "outputs": [
    {
     "data": {
      "text/plain": "                              before_s1\ndata__115__bills__hr__hr1         336.0\ndata__115__bills__hr__hr1670      139.0\ndata__115__bills__hr__hr4383      112.0\ndata__115__bills__hr__hr747        98.0\ndata__115__bills__s__s236          98.0\ndata__115__bills__s__s1444         41.0\ndata__115__bills__hr__hr3084       41.0\ndata__115__bills__hr__hr828        37.0\ndata__115__bills__s__s293          37.0\ndata__115__bills__s__s1698         32.0\ndata__115__bills__hr__hr3524       32.0\ndata__115__bills__hr__hr2870       27.0\ndata__115__bills__s__s1013         27.0\ndata__115__bills__s__s1144         26.0\ndata__115__bills__s__s1892         24.0\ndata__115__bills__hr__hr3823       24.0\ndata__115__bills__s__s803          24.0\ndata__115__bills__hr__hr3679       23.0\ndata__115__bills__hr__hr4172       23.0\ndata__115__bills__hr__hr1262       22.0\ndata__115__bills__s__s1005         21.0\ndata__115__bills__hr__hr2849       20.0\ndata__115__bills__s__s797          18.0\ndata__115__bills__hr__hr4397       18.0\ndata__115__bills__hr__hr3595       15.0\ndata__115__bills__s__s1716         15.0\ndata__115__bills__s__s193          12.0\ndata__115__bills__s__s851          12.0\ndata__115__bills__hr__hr605        12.0\ndata__115__bills__hr__hr1932       12.0\ndata__115__bills__hr__hr2901       10.0\ndata__115__bills__hr__hr1896        5.0\ndata__115__bills__s__s818           5.0\ndata__115__bills__hr__hr3035        5.0\ndata__115__bills__hr__hr2721        3.0\ndata__115__bills__s__s157           3.0\ndata__115__bills__hr__hr2030        3.0\ndata__115__bills__hr__hr112         3.0\ndata__115__bills__s__s71            3.0\ndata__115__bills__s__s1239          2.0\ndata__115__bills__hr__hr2138        2.0\ndata__115__bills__s__s704           2.0\ndata__115__bills__hr__hr1897        2.0\ndata__115__bills__hr__hr1720        2.0\ndata__115__bills__s__s816           2.0\ndata__115__bills__s__s321           2.0\ndata__115__bills__hr__hr189         NaN\ndata__115__bills__hr__hr4319        NaN\ndata__115__bills__s__s2170          NaN\ndata__115__bills__hr__hr4514        NaN",
      "text/html": "<div>\n<style scoped>\n    .dataframe tbody tr th:only-of-type {\n        vertical-align: middle;\n    }\n\n    .dataframe tbody tr th {\n        vertical-align: top;\n    }\n\n    .dataframe thead th {\n        text-align: right;\n    }\n</style>\n<table border=\"1\" class=\"dataframe\">\n  <thead>\n    <tr style=\"text-align: right;\">\n      <th></th>\n      <th>before_s1</th>\n    </tr>\n  </thead>\n  <tbody>\n    <tr>\n      <th>data__115__bills__hr__hr1</th>\n      <td>336.0</td>\n    </tr>\n    <tr>\n      <th>data__115__bills__hr__hr1670</th>\n      <td>139.0</td>\n    </tr>\n    <tr>\n      <th>data__115__bills__hr__hr4383</th>\n      <td>112.0</td>\n    </tr>\n    <tr>\n      <th>data__115__bills__hr__hr747</th>\n      <td>98.0</td>\n    </tr>\n    <tr>\n      <th>data__115__bills__s__s236</th>\n      <td>98.0</td>\n    </tr>\n    <tr>\n      <th>data__115__bills__s__s1444</th>\n      <td>41.0</td>\n    </tr>\n    <tr>\n      <th>data__115__bills__hr__hr3084</th>\n      <td>41.0</td>\n    </tr>\n    <tr>\n      <th>data__115__bills__hr__hr828</th>\n      <td>37.0</td>\n    </tr>\n    <tr>\n      <th>data__115__bills__s__s293</th>\n      <td>37.0</td>\n    </tr>\n    <tr>\n      <th>data__115__bills__s__s1698</th>\n      <td>32.0</td>\n    </tr>\n    <tr>\n      <th>data__115__bills__hr__hr3524</th>\n      <td>32.0</td>\n    </tr>\n    <tr>\n      <th>data__115__bills__hr__hr2870</th>\n      <td>27.0</td>\n    </tr>\n    <tr>\n      <th>data__115__bills__s__s1013</th>\n      <td>27.0</td>\n    </tr>\n    <tr>\n      <th>data__115__bills__s__s1144</th>\n      <td>26.0</td>\n    </tr>\n    <tr>\n      <th>data__115__bills__s__s1892</th>\n      <td>24.0</td>\n    </tr>\n    <tr>\n      <th>data__115__bills__hr__hr3823</th>\n      <td>24.0</td>\n    </tr>\n    <tr>\n      <th>data__115__bills__s__s803</th>\n      <td>24.0</td>\n    </tr>\n    <tr>\n      <th>data__115__bills__hr__hr3679</th>\n      <td>23.0</td>\n    </tr>\n    <tr>\n      <th>data__115__bills__hr__hr4172</th>\n      <td>23.0</td>\n    </tr>\n    <tr>\n      <th>data__115__bills__hr__hr1262</th>\n      <td>22.0</td>\n    </tr>\n    <tr>\n      <th>data__115__bills__s__s1005</th>\n      <td>21.0</td>\n    </tr>\n    <tr>\n      <th>data__115__bills__hr__hr2849</th>\n      <td>20.0</td>\n    </tr>\n    <tr>\n      <th>data__115__bills__s__s797</th>\n      <td>18.0</td>\n    </tr>\n    <tr>\n      <th>data__115__bills__hr__hr4397</th>\n      <td>18.0</td>\n    </tr>\n    <tr>\n      <th>data__115__bills__hr__hr3595</th>\n      <td>15.0</td>\n    </tr>\n    <tr>\n      <th>data__115__bills__s__s1716</th>\n      <td>15.0</td>\n    </tr>\n    <tr>\n      <th>data__115__bills__s__s193</th>\n      <td>12.0</td>\n    </tr>\n    <tr>\n      <th>data__115__bills__s__s851</th>\n      <td>12.0</td>\n    </tr>\n    <tr>\n      <th>data__115__bills__hr__hr605</th>\n      <td>12.0</td>\n    </tr>\n    <tr>\n      <th>data__115__bills__hr__hr1932</th>\n      <td>12.0</td>\n    </tr>\n    <tr>\n      <th>data__115__bills__hr__hr2901</th>\n      <td>10.0</td>\n    </tr>\n    <tr>\n      <th>data__115__bills__hr__hr1896</th>\n      <td>5.0</td>\n    </tr>\n    <tr>\n      <th>data__115__bills__s__s818</th>\n      <td>5.0</td>\n    </tr>\n    <tr>\n      <th>data__115__bills__hr__hr3035</th>\n      <td>5.0</td>\n    </tr>\n    <tr>\n      <th>data__115__bills__hr__hr2721</th>\n      <td>3.0</td>\n    </tr>\n    <tr>\n      <th>data__115__bills__s__s157</th>\n      <td>3.0</td>\n    </tr>\n    <tr>\n      <th>data__115__bills__hr__hr2030</th>\n      <td>3.0</td>\n    </tr>\n    <tr>\n      <th>data__115__bills__hr__hr112</th>\n      <td>3.0</td>\n    </tr>\n    <tr>\n      <th>data__115__bills__s__s71</th>\n      <td>3.0</td>\n    </tr>\n    <tr>\n      <th>data__115__bills__s__s1239</th>\n      <td>2.0</td>\n    </tr>\n    <tr>\n      <th>data__115__bills__hr__hr2138</th>\n      <td>2.0</td>\n    </tr>\n    <tr>\n      <th>data__115__bills__s__s704</th>\n      <td>2.0</td>\n    </tr>\n    <tr>\n      <th>data__115__bills__hr__hr1897</th>\n      <td>2.0</td>\n    </tr>\n    <tr>\n      <th>data__115__bills__hr__hr1720</th>\n      <td>2.0</td>\n    </tr>\n    <tr>\n      <th>data__115__bills__s__s816</th>\n      <td>2.0</td>\n    </tr>\n    <tr>\n      <th>data__115__bills__s__s321</th>\n      <td>2.0</td>\n    </tr>\n    <tr>\n      <th>data__115__bills__hr__hr189</th>\n      <td>NaN</td>\n    </tr>\n    <tr>\n      <th>data__115__bills__hr__hr4319</th>\n      <td>NaN</td>\n    </tr>\n    <tr>\n      <th>data__115__bills__s__s2170</th>\n      <td>NaN</td>\n    </tr>\n    <tr>\n      <th>data__115__bills__hr__hr4514</th>\n      <td>NaN</td>\n    </tr>\n  </tbody>\n</table>\n</div>"
     },
     "execution_count": 3,
     "metadata": {},
     "output_type": "execute_result"
    }
   ],
   "source": [
    "sets = [first_n_set('before_s1'),web_related]\n",
    "compare_df(['before_s1'], [''], reduce(operator.or_, sets))"
   ],
   "metadata": {
    "collapsed": false,
    "pycharm": {
     "name": "#%%"
    }
   }
  },
  {
   "cell_type": "code",
   "execution_count": 9,
   "outputs": [
    {
     "data": {
      "text/plain": "{'data__115__bills__hr__hr1',\n 'data__115__bills__hr__hr1262',\n 'data__115__bills__hr__hr3084',\n 'data__115__bills__hr__hr3524',\n 'data__115__bills__hr__hr828',\n 'data__115__bills__s__s1444',\n 'data__115__bills__s__s1698',\n 'data__115__bills__s__s293',\n 'data__115__bills__s__s803'}"
     },
     "execution_count": 9,
     "metadata": {},
     "output_type": "execute_result"
    }
   ],
   "source": [
    "first_n_set('before_s1') & web_related"
   ],
   "metadata": {
    "collapsed": false,
    "pycharm": {
     "name": "#%%\n"
    }
   }
  },
  {
   "cell_type": "code",
   "execution_count": null,
   "outputs": [],
   "source": [],
   "metadata": {
    "collapsed": false,
    "pycharm": {
     "name": "#%%\n"
    }
   }
  }
 ],
 "metadata": {
  "kernelspec": {
   "display_name": "Python 3",
   "language": "python",
   "name": "python3"
  },
  "language_info": {
   "codemirror_mode": {
    "name": "ipython",
    "version": 2
   },
   "file_extension": ".py",
   "mimetype": "text/x-python",
   "name": "python",
   "nbconvert_exporter": "python",
   "pygments_lexer": "ipython2",
   "version": "2.7.6"
  }
 },
 "nbformat": 4,
 "nbformat_minor": 0
}