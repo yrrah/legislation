{
 "cells": [
  {
   "cell_type": "code",
   "execution_count": 1,
   "metadata": {
    "collapsed": true
   },
   "outputs": [],
   "source": [
    "import roman\n",
    "import re\n",
    "\n",
    "# only goes up to az\n",
    "# def increment_a_z_aa_ab(in_string):\n",
    "#     last_char = in_string.lower()[-1]\n",
    "#     if last_char == 'z':\n",
    "#         last_char = 'aa'\n",
    "#     else:\n",
    "#         last_char = chr(ord(last_char)+1)\n",
    "#     return in_string[:-1]+last_char\n",
    "\n",
    "def increment_a_z_aa_bb(in_string):\n",
    "    if in_string.lower()[-1] == 'z':\n",
    "        return ''.join(['a' for _ in range(len(in_string)+1)])\n",
    "    return ''.join([chr(ord(old_char)+1) for old_char in in_string])\n",
    "\n",
    "\n",
    "char_sets = [\n",
    "['\\s+\\([a-z]+\\)',increment_a_z_aa_bb],\n",
    "['\\s+\\([A-Z]+\\)',lambda x:increment_a_z_aa_bb(x).upper()],\n",
    "['\\s+\\([0-9]+\\)',lambda x:str(int(x)+1)],\n",
    "['\\s+\\(((?=[MDCLXVI])M*(C[MD]|D?C*)(X[CL]|L?X*)(I[XV]|V?I*))\\)',lambda x:roman.toRoman(roman.fromRoman(x)+1).upper()],\n",
    "['\\s+\\(((?=[mdclxvi])m*(c[md]|d?c*)(x[cl]|l?x*)(i[xv]|v?i*))\\)',lambda x:roman.toRoman(roman.fromRoman(x)+1).lower()],\n",
    "    ]\n",
    "\n",
    "compiled_res = [re.compile(regex[0]) for regex in char_sets]\n",
    "\n",
    "def check_match(in_string):\n",
    "    for i,regex in enumerate(compiled_res):\n",
    "        match = re.match(regex, line)\n",
    "        if bool(match):\n",
    "            return i,match\n",
    "    return -1, False"
   ]
  },
  {
   "cell_type": "code",
   "execution_count": 2,
   "outputs": [],
   "source": [
    "# Parse text version of congressional bills into a tree structure\n",
    "tags = ['_R_']\n",
    "next_tags = ['EOF']\n",
    "\n",
    "from treelib import Node, Tree\n",
    "tree = Tree()\n",
    "parent_node = tree.create_node(-1, '_R_')\n",
    "parent = '_R_'\n",
    "buffer = ''\n",
    "file_name = '/home/harry/PycharmProjects/congress/data/115/bills/s/s1/text-versions/pcs/document.txt'\n",
    "with open(file_name) as fp:\n",
    "    for line in fp:\n",
    "        i,match = check_match(line)\n",
    "        if bool(match):\n",
    "            parent_node.data = buffer\n",
    "            buffer = line\n",
    "            tag = match.group(0).strip()\n",
    "            try:\n",
    "                idx = next_tags.index(tag)\n",
    "                next_tags = next_tags[:idx]\n",
    "                tags = tags[:idx]\n",
    "                parent = ''.join(tags)\n",
    "            except ValueError:\n",
    "                pass\n",
    "            tags.append(tag)\n",
    "            next_tags.append(f'({char_sets[i][1](tag[1:-1])})')\n",
    "            parent_node = tree.create_node(i, parent+tag,parent)\n",
    "            parent = parent+tag\n",
    "        else:\n",
    "            buffer += line\n",
    "tree.save2file('tree.txt')\n",
    "\n",
    "\n"
   ],
   "metadata": {
    "collapsed": false,
    "pycharm": {
     "name": "#%%\n"
    }
   }
  },
  {
   "cell_type": "code",
   "execution_count": 3,
   "outputs": [
    {
     "data": {
      "text/plain": "'f'"
     },
     "execution_count": 3,
     "metadata": {},
     "output_type": "execute_result"
    }
   ],
   "source": [
    "re.match('f', 'fffff').group(0)"
   ],
   "metadata": {
    "collapsed": false,
    "pycharm": {
     "name": "#%%\n"
    }
   }
  },
  {
   "cell_type": "code",
   "execution_count": 4,
   "outputs": [
    {
     "data": {
      "text/plain": "['\\\\s+\\\\([a-z]+\\\\)', <function __main__.increment_a_z_aa_bb(in_string)>]"
     },
     "execution_count": 4,
     "metadata": {},
     "output_type": "execute_result"
    }
   ],
   "source": [
    "\n",
    "char_sets[0]"
   ],
   "metadata": {
    "collapsed": false,
    "pycharm": {
     "name": "#%%\n"
    }
   }
  },
  {
   "cell_type": "code",
   "execution_count": 5,
   "outputs": [
    {
     "data": {
      "text/plain": "'c)'"
     },
     "execution_count": 5,
     "metadata": {},
     "output_type": "execute_result"
    }
   ],
   "source": [
    "\n",
    "tag[1:]"
   ],
   "metadata": {
    "collapsed": false,
    "pycharm": {
     "name": "#%%\n"
    }
   }
  },
  {
   "cell_type": "code",
   "execution_count": 6,
   "outputs": [
    {
     "data": {
      "text/plain": "'(c)'"
     },
     "execution_count": 6,
     "metadata": {},
     "output_type": "execute_result"
    }
   ],
   "source": [
    "tag"
   ],
   "metadata": {
    "collapsed": false,
    "pycharm": {
     "name": "#%%\n"
    }
   }
  },
  {
   "cell_type": "code",
   "execution_count": 7,
   "outputs": [
    {
     "data": {
      "text/plain": "''"
     },
     "execution_count": 7,
     "metadata": {},
     "output_type": "execute_result"
    }
   ],
   "source": [
    "\n",
    "'A'[:-1]"
   ],
   "metadata": {
    "collapsed": false,
    "pycharm": {
     "name": "#%%\n"
    }
   }
  }
 ],
 "metadata": {
  "kernelspec": {
   "name": "python3",
   "language": "python",
   "display_name": "Python 3"
  },
  "language_info": {
   "codemirror_mode": {
    "name": "ipython",
    "version": 2
   },
   "file_extension": ".py",
   "mimetype": "text/x-python",
   "name": "python",
   "nbconvert_exporter": "python",
   "pygments_lexer": "ipython2",
   "version": "2.7.6"
  }
 },
 "nbformat": 4,
 "nbformat_minor": 0
}